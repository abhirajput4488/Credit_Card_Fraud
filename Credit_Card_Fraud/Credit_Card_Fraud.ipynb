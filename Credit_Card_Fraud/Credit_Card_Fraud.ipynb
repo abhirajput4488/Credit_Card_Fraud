{
 "cells": [
  {
   "cell_type": "code",
   "execution_count": 113,
   "metadata": {
    "_cell_guid": "b1076dfc-b9ad-4769-8c92-a6c4dae69d19",
    "_uuid": "8f2839f25d086af736a60e9eeb907d3b93b6e0e5",
    "execution": {
     "iopub.execute_input": "2023-11-22T16:26:13.571317Z",
     "iopub.status.busy": "2023-11-22T16:26:13.570889Z",
     "iopub.status.idle": "2023-11-22T16:26:13.578332Z",
     "shell.execute_reply": "2023-11-22T16:26:13.57641Z",
     "shell.execute_reply.started": "2023-11-22T16:26:13.571286Z"
    }
   },
   "outputs": [],
   "source": [
    "# This Python 3 environment comes with many helpful analytics libraries installed\n",
    "# It is defined by the kaggle/python Docker image: https://github.com/kaggle/docker-python\n",
    "# For example, here's several helpful packages to load\n",
    "\n",
    "import numpy as np # linear algebra\n",
    "import pandas as pd # data processing, CSV file I/O (e.g. pd.read_csv)\n",
    "\n",
    "# Input data files are available in the read-only \"../input/\" directory\n",
    "# For example, running this (by clicking run or pressing Shift+Enter) will list all files under the input directory\n",
    "\n"
   ]
  },
  {
   "cell_type": "code",
   "execution_count": 114,
   "metadata": {
    "execution": {
     "iopub.execute_input": "2023-11-22T16:26:13.593592Z",
     "iopub.status.busy": "2023-11-22T16:26:13.593207Z",
     "iopub.status.idle": "2023-11-22T16:26:18.441104Z",
     "shell.execute_reply": "2023-11-22T16:26:18.439417Z",
     "shell.execute_reply.started": "2023-11-22T16:26:13.593561Z"
    }
   },
   "outputs": [],
   "source": [
    "import pandas as pd\n",
    "import matplotlib.pyplot as plt\n",
    "import seaborn as sns\n",
    "from datetime import datetime\n",
    "import warnings\n",
    "warnings.filterwarnings(\"ignore\")\n",
    "import numpy as np\n",
    "data = pd.read_csv(\"trainData.csv\") #Train Dataset\n",
    "data_t = pd.read_csv(\"testData.csv\") #Test Dataset"
   ]
  },
  {
   "cell_type": "code",
   "execution_count": 115,
   "metadata": {
    "execution": {
     "iopub.execute_input": "2023-11-22T16:26:18.443982Z",
     "iopub.status.busy": "2023-11-22T16:26:18.443093Z",
     "iopub.status.idle": "2023-11-22T16:26:18.469228Z",
     "shell.execute_reply": "2023-11-22T16:26:18.468114Z",
     "shell.execute_reply.started": "2023-11-22T16:26:18.443904Z"
    }
   },
   "outputs": [
    {
     "data": {
      "text/html": [
       "<div>\n",
       "<style scoped>\n",
       "    .dataframe tbody tr th:only-of-type {\n",
       "        vertical-align: middle;\n",
       "    }\n",
       "\n",
       "    .dataframe tbody tr th {\n",
       "        vertical-align: top;\n",
       "    }\n",
       "\n",
       "    .dataframe thead th {\n",
       "        text-align: right;\n",
       "    }\n",
       "</style>\n",
       "<table border=\"1\" class=\"dataframe\">\n",
       "  <thead>\n",
       "    <tr style=\"text-align: right;\">\n",
       "      <th></th>\n",
       "      <th>id</th>\n",
       "      <th>trans_date_trans_time</th>\n",
       "      <th>cc_num</th>\n",
       "      <th>merchant</th>\n",
       "      <th>category</th>\n",
       "      <th>amt</th>\n",
       "      <th>first</th>\n",
       "      <th>last</th>\n",
       "      <th>gender</th>\n",
       "      <th>street</th>\n",
       "      <th>...</th>\n",
       "      <th>zip</th>\n",
       "      <th>lat</th>\n",
       "      <th>long</th>\n",
       "      <th>city_pop</th>\n",
       "      <th>job</th>\n",
       "      <th>dob</th>\n",
       "      <th>trans_num</th>\n",
       "      <th>unix_time</th>\n",
       "      <th>merch_lat</th>\n",
       "      <th>merch_long</th>\n",
       "    </tr>\n",
       "  </thead>\n",
       "  <tbody>\n",
       "    <tr>\n",
       "      <th>0</th>\n",
       "      <td>1</td>\n",
       "      <td>2020-06-21 12:14:25</td>\n",
       "      <td>2291163933867244</td>\n",
       "      <td>fraud_Kirlin and Sons</td>\n",
       "      <td>personal_care</td>\n",
       "      <td>2.86</td>\n",
       "      <td>Jeff</td>\n",
       "      <td>Elliott</td>\n",
       "      <td>M</td>\n",
       "      <td>351 Darlene Green</td>\n",
       "      <td>...</td>\n",
       "      <td>29209</td>\n",
       "      <td>33.9659</td>\n",
       "      <td>-80.9355</td>\n",
       "      <td>333497</td>\n",
       "      <td>Mechanical engineer</td>\n",
       "      <td>1968-03-19</td>\n",
       "      <td>2da90c7d74bd46a0caf3777415b3ebd3</td>\n",
       "      <td>1371816865</td>\n",
       "      <td>33.986391</td>\n",
       "      <td>-81.200714</td>\n",
       "    </tr>\n",
       "    <tr>\n",
       "      <th>1</th>\n",
       "      <td>2</td>\n",
       "      <td>2020-06-21 12:14:33</td>\n",
       "      <td>3573030041201292</td>\n",
       "      <td>fraud_Sporer-Keebler</td>\n",
       "      <td>personal_care</td>\n",
       "      <td>29.84</td>\n",
       "      <td>Joanne</td>\n",
       "      <td>Williams</td>\n",
       "      <td>F</td>\n",
       "      <td>3638 Marsh Union</td>\n",
       "      <td>...</td>\n",
       "      <td>84002</td>\n",
       "      <td>40.3207</td>\n",
       "      <td>-110.4360</td>\n",
       "      <td>302</td>\n",
       "      <td>Sales professional, IT</td>\n",
       "      <td>1990-01-17</td>\n",
       "      <td>324cc204407e99f51b0d6ca0055005e7</td>\n",
       "      <td>1371816873</td>\n",
       "      <td>39.450498</td>\n",
       "      <td>-109.960431</td>\n",
       "    </tr>\n",
       "    <tr>\n",
       "      <th>2</th>\n",
       "      <td>3</td>\n",
       "      <td>2020-06-21 12:14:53</td>\n",
       "      <td>3598215285024754</td>\n",
       "      <td>fraud_Swaniawski, Nitzsche and Welch</td>\n",
       "      <td>health_fitness</td>\n",
       "      <td>41.28</td>\n",
       "      <td>Ashley</td>\n",
       "      <td>Lopez</td>\n",
       "      <td>F</td>\n",
       "      <td>9333 Valentine Point</td>\n",
       "      <td>...</td>\n",
       "      <td>11710</td>\n",
       "      <td>40.6729</td>\n",
       "      <td>-73.5365</td>\n",
       "      <td>34496</td>\n",
       "      <td>Librarian, public</td>\n",
       "      <td>1970-10-21</td>\n",
       "      <td>c81755dbbbea9d5c77f094348a7579be</td>\n",
       "      <td>1371816893</td>\n",
       "      <td>40.495810</td>\n",
       "      <td>-74.196111</td>\n",
       "    </tr>\n",
       "    <tr>\n",
       "      <th>3</th>\n",
       "      <td>4</td>\n",
       "      <td>2020-06-21 12:15:15</td>\n",
       "      <td>3591919803438423</td>\n",
       "      <td>fraud_Haley Group</td>\n",
       "      <td>misc_pos</td>\n",
       "      <td>60.05</td>\n",
       "      <td>Brian</td>\n",
       "      <td>Williams</td>\n",
       "      <td>M</td>\n",
       "      <td>32941 Krystal Mill Apt. 552</td>\n",
       "      <td>...</td>\n",
       "      <td>32780</td>\n",
       "      <td>28.5697</td>\n",
       "      <td>-80.8191</td>\n",
       "      <td>54767</td>\n",
       "      <td>Set designer</td>\n",
       "      <td>1987-07-25</td>\n",
       "      <td>2159175b9efe66dc301f149d3d5abf8c</td>\n",
       "      <td>1371816915</td>\n",
       "      <td>28.812398</td>\n",
       "      <td>-80.883061</td>\n",
       "    </tr>\n",
       "    <tr>\n",
       "      <th>4</th>\n",
       "      <td>5</td>\n",
       "      <td>2020-06-21 12:15:17</td>\n",
       "      <td>3526826139003047</td>\n",
       "      <td>fraud_Johnston-Casper</td>\n",
       "      <td>travel</td>\n",
       "      <td>3.19</td>\n",
       "      <td>Nathan</td>\n",
       "      <td>Massey</td>\n",
       "      <td>M</td>\n",
       "      <td>5783 Evan Roads Apt. 465</td>\n",
       "      <td>...</td>\n",
       "      <td>49632</td>\n",
       "      <td>44.2529</td>\n",
       "      <td>-85.0170</td>\n",
       "      <td>1126</td>\n",
       "      <td>Furniture designer</td>\n",
       "      <td>1955-07-06</td>\n",
       "      <td>57ff021bd3f328f8738bb535c302a31b</td>\n",
       "      <td>1371816917</td>\n",
       "      <td>44.959148</td>\n",
       "      <td>-85.884734</td>\n",
       "    </tr>\n",
       "  </tbody>\n",
       "</table>\n",
       "<p>5 rows × 22 columns</p>\n",
       "</div>"
      ],
      "text/plain": [
       "   id trans_date_trans_time            cc_num  \\\n",
       "0   1   2020-06-21 12:14:25  2291163933867244   \n",
       "1   2   2020-06-21 12:14:33  3573030041201292   \n",
       "2   3   2020-06-21 12:14:53  3598215285024754   \n",
       "3   4   2020-06-21 12:15:15  3591919803438423   \n",
       "4   5   2020-06-21 12:15:17  3526826139003047   \n",
       "\n",
       "                               merchant        category    amt   first  \\\n",
       "0                 fraud_Kirlin and Sons   personal_care   2.86    Jeff   \n",
       "1                  fraud_Sporer-Keebler   personal_care  29.84  Joanne   \n",
       "2  fraud_Swaniawski, Nitzsche and Welch  health_fitness  41.28  Ashley   \n",
       "3                     fraud_Haley Group        misc_pos  60.05   Brian   \n",
       "4                 fraud_Johnston-Casper          travel   3.19  Nathan   \n",
       "\n",
       "       last gender                       street  ...    zip      lat  \\\n",
       "0   Elliott      M            351 Darlene Green  ...  29209  33.9659   \n",
       "1  Williams      F             3638 Marsh Union  ...  84002  40.3207   \n",
       "2     Lopez      F         9333 Valentine Point  ...  11710  40.6729   \n",
       "3  Williams      M  32941 Krystal Mill Apt. 552  ...  32780  28.5697   \n",
       "4    Massey      M     5783 Evan Roads Apt. 465  ...  49632  44.2529   \n",
       "\n",
       "       long  city_pop                     job         dob  \\\n",
       "0  -80.9355    333497     Mechanical engineer  1968-03-19   \n",
       "1 -110.4360       302  Sales professional, IT  1990-01-17   \n",
       "2  -73.5365     34496       Librarian, public  1970-10-21   \n",
       "3  -80.8191     54767            Set designer  1987-07-25   \n",
       "4  -85.0170      1126      Furniture designer  1955-07-06   \n",
       "\n",
       "                          trans_num   unix_time  merch_lat  merch_long  \n",
       "0  2da90c7d74bd46a0caf3777415b3ebd3  1371816865  33.986391  -81.200714  \n",
       "1  324cc204407e99f51b0d6ca0055005e7  1371816873  39.450498 -109.960431  \n",
       "2  c81755dbbbea9d5c77f094348a7579be  1371816893  40.495810  -74.196111  \n",
       "3  2159175b9efe66dc301f149d3d5abf8c  1371816915  28.812398  -80.883061  \n",
       "4  57ff021bd3f328f8738bb535c302a31b  1371816917  44.959148  -85.884734  \n",
       "\n",
       "[5 rows x 22 columns]"
      ]
     },
     "execution_count": 115,
     "metadata": {},
     "output_type": "execute_result"
    }
   ],
   "source": [
    "data_t.head()"
   ]
  },
  {
   "cell_type": "code",
   "execution_count": 116,
   "metadata": {
    "execution": {
     "iopub.execute_input": "2023-11-22T16:26:18.4713Z",
     "iopub.status.busy": "2023-11-22T16:26:18.470715Z",
     "iopub.status.idle": "2023-11-22T16:26:18.476721Z",
     "shell.execute_reply": "2023-11-22T16:26:18.476067Z",
     "shell.execute_reply.started": "2023-11-22T16:26:18.471271Z"
    }
   },
   "outputs": [
    {
     "data": {
      "text/plain": [
       "(523174, 23)"
      ]
     },
     "execution_count": 116,
     "metadata": {},
     "output_type": "execute_result"
    }
   ],
   "source": [
    "data.shape"
   ]
  },
  {
   "cell_type": "code",
   "execution_count": 117,
   "metadata": {
    "execution": {
     "iopub.execute_input": "2023-11-22T16:26:18.479128Z",
     "iopub.status.busy": "2023-11-22T16:26:18.47864Z",
     "iopub.status.idle": "2023-11-22T16:26:18.599031Z",
     "shell.execute_reply": "2023-11-22T16:26:18.598334Z",
     "shell.execute_reply.started": "2023-11-22T16:26:18.479103Z"
    }
   },
   "outputs": [
    {
     "data": {
      "text/plain": [
       "515668"
      ]
     },
     "execution_count": 117,
     "metadata": {},
     "output_type": "execute_result"
    }
   ],
   "source": [
    "data[data['is_fraud']==0].shape[0]\n"
   ]
  },
  {
   "cell_type": "code",
   "execution_count": 118,
   "metadata": {
    "execution": {
     "iopub.execute_input": "2023-11-22T16:26:18.600525Z",
     "iopub.status.busy": "2023-11-22T16:26:18.600139Z",
     "iopub.status.idle": "2023-11-22T16:26:18.624037Z",
     "shell.execute_reply": "2023-11-22T16:26:18.62259Z",
     "shell.execute_reply.started": "2023-11-22T16:26:18.600502Z"
    }
   },
   "outputs": [
    {
     "data": {
      "text/plain": [
       "7506"
      ]
     },
     "execution_count": 118,
     "metadata": {},
     "output_type": "execute_result"
    }
   ],
   "source": [
    "data[data['is_fraud']==1].shape[0]"
   ]
  },
  {
   "cell_type": "code",
   "execution_count": 119,
   "metadata": {
    "execution": {
     "iopub.execute_input": "2023-11-22T16:26:18.625645Z",
     "iopub.status.busy": "2023-11-22T16:26:18.625319Z",
     "iopub.status.idle": "2023-11-22T16:26:18.633646Z",
     "shell.execute_reply": "2023-11-22T16:26:18.632338Z",
     "shell.execute_reply.started": "2023-11-22T16:26:18.625615Z"
    }
   },
   "outputs": [
    {
     "data": {
      "text/plain": [
       "Index(['id', 'trans_date_trans_time', 'cc_num', 'merchant', 'category', 'amt',\n",
       "       'first', 'last', 'gender', 'street', 'city', 'state', 'zip', 'lat',\n",
       "       'long', 'city_pop', 'job', 'dob', 'trans_num', 'unix_time', 'merch_lat',\n",
       "       'merch_long'],\n",
       "      dtype='object')"
      ]
     },
     "execution_count": 119,
     "metadata": {},
     "output_type": "execute_result"
    }
   ],
   "source": [
    "data_t.columns"
   ]
  },
  {
   "cell_type": "code",
   "execution_count": 120,
   "metadata": {
    "execution": {
     "iopub.execute_input": "2023-11-22T16:26:18.635767Z",
     "iopub.status.busy": "2023-11-22T16:26:18.634861Z",
     "iopub.status.idle": "2023-11-22T16:26:18.82643Z",
     "shell.execute_reply": "2023-11-22T16:26:18.824781Z",
     "shell.execute_reply.started": "2023-11-22T16:26:18.635717Z"
    }
   },
   "outputs": [
    {
     "data": {
      "text/html": [
       "<div>\n",
       "<style scoped>\n",
       "    .dataframe tbody tr th:only-of-type {\n",
       "        vertical-align: middle;\n",
       "    }\n",
       "\n",
       "    .dataframe tbody tr th {\n",
       "        vertical-align: top;\n",
       "    }\n",
       "\n",
       "    .dataframe thead th {\n",
       "        text-align: right;\n",
       "    }\n",
       "</style>\n",
       "<table border=\"1\" class=\"dataframe\">\n",
       "  <thead>\n",
       "    <tr style=\"text-align: right;\">\n",
       "      <th></th>\n",
       "      <th>id</th>\n",
       "      <th>cc_num</th>\n",
       "      <th>amt</th>\n",
       "      <th>zip</th>\n",
       "      <th>lat</th>\n",
       "      <th>long</th>\n",
       "      <th>city_pop</th>\n",
       "      <th>unix_time</th>\n",
       "      <th>merch_lat</th>\n",
       "      <th>merch_long</th>\n",
       "      <th>is_fraud</th>\n",
       "    </tr>\n",
       "  </thead>\n",
       "  <tbody>\n",
       "    <tr>\n",
       "      <th>count</th>\n",
       "      <td>523174.000000</td>\n",
       "      <td>5.231740e+05</td>\n",
       "      <td>523174.000000</td>\n",
       "      <td>523174.000000</td>\n",
       "      <td>523174.000000</td>\n",
       "      <td>523174.000000</td>\n",
       "      <td>5.231740e+05</td>\n",
       "      <td>5.231740e+05</td>\n",
       "      <td>523174.000000</td>\n",
       "      <td>523174.000000</td>\n",
       "      <td>523174.000000</td>\n",
       "    </tr>\n",
       "    <tr>\n",
       "      <th>mean</th>\n",
       "      <td>261587.500000</td>\n",
       "      <td>4.179945e+17</td>\n",
       "      <td>74.126999</td>\n",
       "      <td>48778.123106</td>\n",
       "      <td>38.545987</td>\n",
       "      <td>-90.222333</td>\n",
       "      <td>8.851568e+04</td>\n",
       "      <td>1.349238e+09</td>\n",
       "      <td>38.546871</td>\n",
       "      <td>-90.222705</td>\n",
       "      <td>0.014347</td>\n",
       "    </tr>\n",
       "    <tr>\n",
       "      <th>std</th>\n",
       "      <td>151027.469203</td>\n",
       "      <td>1.309874e+18</td>\n",
       "      <td>164.627380</td>\n",
       "      <td>26915.789078</td>\n",
       "      <td>5.072909</td>\n",
       "      <td>13.774292</td>\n",
       "      <td>3.007854e+05</td>\n",
       "      <td>1.285058e+07</td>\n",
       "      <td>5.106024</td>\n",
       "      <td>13.786031</td>\n",
       "      <td>0.118917</td>\n",
       "    </tr>\n",
       "    <tr>\n",
       "      <th>min</th>\n",
       "      <td>1.000000</td>\n",
       "      <td>6.041621e+10</td>\n",
       "      <td>1.000000</td>\n",
       "      <td>1257.000000</td>\n",
       "      <td>20.027100</td>\n",
       "      <td>-165.672300</td>\n",
       "      <td>2.300000e+01</td>\n",
       "      <td>1.325376e+09</td>\n",
       "      <td>19.032277</td>\n",
       "      <td>-166.664828</td>\n",
       "      <td>0.000000</td>\n",
       "    </tr>\n",
       "    <tr>\n",
       "      <th>25%</th>\n",
       "      <td>130794.250000</td>\n",
       "      <td>1.800429e+14</td>\n",
       "      <td>9.700000</td>\n",
       "      <td>26041.000000</td>\n",
       "      <td>34.668900</td>\n",
       "      <td>-96.798000</td>\n",
       "      <td>7.430000e+02</td>\n",
       "      <td>1.338738e+09</td>\n",
       "      <td>34.751576</td>\n",
       "      <td>-96.901801</td>\n",
       "      <td>0.000000</td>\n",
       "    </tr>\n",
       "    <tr>\n",
       "      <th>50%</th>\n",
       "      <td>261587.500000</td>\n",
       "      <td>3.521417e+15</td>\n",
       "      <td>47.680000</td>\n",
       "      <td>48154.000000</td>\n",
       "      <td>39.371600</td>\n",
       "      <td>-87.461600</td>\n",
       "      <td>2.456000e+03</td>\n",
       "      <td>1.349243e+09</td>\n",
       "      <td>39.372253</td>\n",
       "      <td>-87.426508</td>\n",
       "      <td>0.000000</td>\n",
       "    </tr>\n",
       "    <tr>\n",
       "      <th>75%</th>\n",
       "      <td>392380.750000</td>\n",
       "      <td>4.642255e+15</td>\n",
       "      <td>83.870000</td>\n",
       "      <td>72042.000000</td>\n",
       "      <td>41.940400</td>\n",
       "      <td>-80.158000</td>\n",
       "      <td>2.032800e+04</td>\n",
       "      <td>1.359389e+09</td>\n",
       "      <td>41.958544</td>\n",
       "      <td>-80.219874</td>\n",
       "      <td>0.000000</td>\n",
       "    </tr>\n",
       "    <tr>\n",
       "      <th>max</th>\n",
       "      <td>523174.000000</td>\n",
       "      <td>4.992346e+18</td>\n",
       "      <td>15047.030000</td>\n",
       "      <td>99783.000000</td>\n",
       "      <td>66.693300</td>\n",
       "      <td>-67.950300</td>\n",
       "      <td>2.906700e+06</td>\n",
       "      <td>1.371817e+09</td>\n",
       "      <td>67.510267</td>\n",
       "      <td>-66.950902</td>\n",
       "      <td>1.000000</td>\n",
       "    </tr>\n",
       "  </tbody>\n",
       "</table>\n",
       "</div>"
      ],
      "text/plain": [
       "                  id        cc_num            amt            zip  \\\n",
       "count  523174.000000  5.231740e+05  523174.000000  523174.000000   \n",
       "mean   261587.500000  4.179945e+17      74.126999   48778.123106   \n",
       "std    151027.469203  1.309874e+18     164.627380   26915.789078   \n",
       "min         1.000000  6.041621e+10       1.000000    1257.000000   \n",
       "25%    130794.250000  1.800429e+14       9.700000   26041.000000   \n",
       "50%    261587.500000  3.521417e+15      47.680000   48154.000000   \n",
       "75%    392380.750000  4.642255e+15      83.870000   72042.000000   \n",
       "max    523174.000000  4.992346e+18   15047.030000   99783.000000   \n",
       "\n",
       "                 lat           long      city_pop     unix_time  \\\n",
       "count  523174.000000  523174.000000  5.231740e+05  5.231740e+05   \n",
       "mean       38.545987     -90.222333  8.851568e+04  1.349238e+09   \n",
       "std         5.072909      13.774292  3.007854e+05  1.285058e+07   \n",
       "min        20.027100    -165.672300  2.300000e+01  1.325376e+09   \n",
       "25%        34.668900     -96.798000  7.430000e+02  1.338738e+09   \n",
       "50%        39.371600     -87.461600  2.456000e+03  1.349243e+09   \n",
       "75%        41.940400     -80.158000  2.032800e+04  1.359389e+09   \n",
       "max        66.693300     -67.950300  2.906700e+06  1.371817e+09   \n",
       "\n",
       "           merch_lat     merch_long       is_fraud  \n",
       "count  523174.000000  523174.000000  523174.000000  \n",
       "mean       38.546871     -90.222705       0.014347  \n",
       "std         5.106024      13.786031       0.118917  \n",
       "min        19.032277    -166.664828       0.000000  \n",
       "25%        34.751576     -96.901801       0.000000  \n",
       "50%        39.372253     -87.426508       0.000000  \n",
       "75%        41.958544     -80.219874       0.000000  \n",
       "max        67.510267     -66.950902       1.000000  "
      ]
     },
     "execution_count": 120,
     "metadata": {},
     "output_type": "execute_result"
    }
   ],
   "source": [
    "data.describe()"
   ]
  },
  {
   "cell_type": "code",
   "execution_count": 121,
   "metadata": {
    "execution": {
     "iopub.execute_input": "2023-11-22T16:26:18.82894Z",
     "iopub.status.busy": "2023-11-22T16:26:18.828374Z",
     "iopub.status.idle": "2023-11-22T16:26:19.02971Z",
     "shell.execute_reply": "2023-11-22T16:26:19.028139Z",
     "shell.execute_reply.started": "2023-11-22T16:26:18.828894Z"
    }
   },
   "outputs": [
    {
     "name": "stdout",
     "output_type": "stream",
     "text": [
      "<class 'pandas.core.frame.DataFrame'>\n",
      "RangeIndex: 523174 entries, 0 to 523173\n",
      "Data columns (total 23 columns):\n",
      " #   Column                 Non-Null Count   Dtype  \n",
      "---  ------                 --------------   -----  \n",
      " 0   id                     523174 non-null  int64  \n",
      " 1   trans_date_trans_time  523174 non-null  object \n",
      " 2   cc_num                 523174 non-null  int64  \n",
      " 3   merchant               523174 non-null  object \n",
      " 4   category               523174 non-null  object \n",
      " 5   amt                    523174 non-null  float64\n",
      " 6   first                  523174 non-null  object \n",
      " 7   last                   523174 non-null  object \n",
      " 8   gender                 523174 non-null  object \n",
      " 9   street                 523174 non-null  object \n",
      " 10  city                   523174 non-null  object \n",
      " 11  state                  523174 non-null  object \n",
      " 12  zip                    523174 non-null  int64  \n",
      " 13  lat                    523174 non-null  float64\n",
      " 14  long                   523174 non-null  float64\n",
      " 15  city_pop               523174 non-null  int64  \n",
      " 16  job                    523174 non-null  object \n",
      " 17  dob                    523174 non-null  object \n",
      " 18  trans_num              523174 non-null  object \n",
      " 19  unix_time              523174 non-null  int64  \n",
      " 20  merch_lat              523174 non-null  float64\n",
      " 21  merch_long             523174 non-null  float64\n",
      " 22  is_fraud               523174 non-null  int64  \n",
      "dtypes: float64(5), int64(6), object(12)\n",
      "memory usage: 91.8+ MB\n"
     ]
    }
   ],
   "source": [
    "data.info()"
   ]
  },
  {
   "cell_type": "markdown",
   "metadata": {},
   "source": [
    "# EDA"
   ]
  },
  {
   "cell_type": "code",
   "execution_count": 122,
   "metadata": {
    "execution": {
     "iopub.execute_input": "2023-11-22T16:26:19.031912Z",
     "iopub.status.busy": "2023-11-22T16:26:19.031478Z",
     "iopub.status.idle": "2023-11-22T16:26:19.228939Z",
     "shell.execute_reply": "2023-11-22T16:26:19.227039Z",
     "shell.execute_reply.started": "2023-11-22T16:26:19.031876Z"
    }
   },
   "outputs": [
    {
     "data": {
      "text/plain": [
       "id                       0\n",
       "trans_date_trans_time    0\n",
       "cc_num                   0\n",
       "merchant                 0\n",
       "category                 0\n",
       "amt                      0\n",
       "first                    0\n",
       "last                     0\n",
       "gender                   0\n",
       "street                   0\n",
       "city                     0\n",
       "state                    0\n",
       "zip                      0\n",
       "lat                      0\n",
       "long                     0\n",
       "city_pop                 0\n",
       "job                      0\n",
       "dob                      0\n",
       "trans_num                0\n",
       "unix_time                0\n",
       "merch_lat                0\n",
       "merch_long               0\n",
       "is_fraud                 0\n",
       "dtype: int64"
      ]
     },
     "execution_count": 122,
     "metadata": {},
     "output_type": "execute_result"
    }
   ],
   "source": [
    "data.isnull().sum()"
   ]
  },
  {
   "cell_type": "code",
   "execution_count": 123,
   "metadata": {
    "execution": {
     "iopub.execute_input": "2023-11-22T16:26:19.233918Z",
     "iopub.status.busy": "2023-11-22T16:26:19.232709Z",
     "iopub.status.idle": "2023-11-22T16:26:19.258332Z",
     "shell.execute_reply": "2023-11-22T16:26:19.256987Z",
     "shell.execute_reply.started": "2023-11-22T16:26:19.233879Z"
    }
   },
   "outputs": [
    {
     "data": {
      "text/html": [
       "<div>\n",
       "<style scoped>\n",
       "    .dataframe tbody tr th:only-of-type {\n",
       "        vertical-align: middle;\n",
       "    }\n",
       "\n",
       "    .dataframe tbody tr th {\n",
       "        vertical-align: top;\n",
       "    }\n",
       "\n",
       "    .dataframe thead th {\n",
       "        text-align: right;\n",
       "    }\n",
       "</style>\n",
       "<table border=\"1\" class=\"dataframe\">\n",
       "  <thead>\n",
       "    <tr style=\"text-align: right;\">\n",
       "      <th></th>\n",
       "      <th>id</th>\n",
       "      <th>trans_date_trans_time</th>\n",
       "      <th>cc_num</th>\n",
       "      <th>merchant</th>\n",
       "      <th>category</th>\n",
       "      <th>amt</th>\n",
       "      <th>first</th>\n",
       "      <th>last</th>\n",
       "      <th>gender</th>\n",
       "      <th>street</th>\n",
       "      <th>...</th>\n",
       "      <th>lat</th>\n",
       "      <th>long</th>\n",
       "      <th>city_pop</th>\n",
       "      <th>job</th>\n",
       "      <th>dob</th>\n",
       "      <th>trans_num</th>\n",
       "      <th>unix_time</th>\n",
       "      <th>merch_lat</th>\n",
       "      <th>merch_long</th>\n",
       "      <th>is_fraud</th>\n",
       "    </tr>\n",
       "  </thead>\n",
       "  <tbody>\n",
       "    <tr>\n",
       "      <th>0</th>\n",
       "      <td>1</td>\n",
       "      <td>2019-12-15 10:35:10</td>\n",
       "      <td>3597926034019603</td>\n",
       "      <td>fraud_Ruecker Group</td>\n",
       "      <td>misc_net</td>\n",
       "      <td>7.19</td>\n",
       "      <td>Derrick</td>\n",
       "      <td>Flores</td>\n",
       "      <td>M</td>\n",
       "      <td>83690 Nicholas Ports Apt. 846</td>\n",
       "      <td>...</td>\n",
       "      <td>35.2229</td>\n",
       "      <td>-89.5518</td>\n",
       "      <td>9496</td>\n",
       "      <td>Furniture conservator/restorer</td>\n",
       "      <td>1993-03-23</td>\n",
       "      <td>2642fec2e19c9e18e61fe9a88f6bc79a</td>\n",
       "      <td>1355567710</td>\n",
       "      <td>35.189455</td>\n",
       "      <td>-90.121666</td>\n",
       "      <td>0</td>\n",
       "    </tr>\n",
       "    <tr>\n",
       "      <th>1</th>\n",
       "      <td>2</td>\n",
       "      <td>2019-04-10 21:49:53</td>\n",
       "      <td>4873783502705038</td>\n",
       "      <td>fraud_Lynch Ltd</td>\n",
       "      <td>shopping_pos</td>\n",
       "      <td>6.32</td>\n",
       "      <td>Elizabeth</td>\n",
       "      <td>Maxwell</td>\n",
       "      <td>F</td>\n",
       "      <td>194 Goodman Fall Apt. 569</td>\n",
       "      <td>...</td>\n",
       "      <td>48.4786</td>\n",
       "      <td>-122.3345</td>\n",
       "      <td>14871</td>\n",
       "      <td>Public house manager</td>\n",
       "      <td>1974-03-10</td>\n",
       "      <td>61cec15bdbd3db31b12f886e8e181380</td>\n",
       "      <td>1334094593</td>\n",
       "      <td>49.004316</td>\n",
       "      <td>-122.745016</td>\n",
       "      <td>0</td>\n",
       "    </tr>\n",
       "    <tr>\n",
       "      <th>2</th>\n",
       "      <td>3</td>\n",
       "      <td>2020-02-16 10:56:18</td>\n",
       "      <td>213161869125933</td>\n",
       "      <td>fraud_Bauch-Raynor</td>\n",
       "      <td>grocery_pos</td>\n",
       "      <td>147.59</td>\n",
       "      <td>Monica</td>\n",
       "      <td>Lane</td>\n",
       "      <td>F</td>\n",
       "      <td>3270 Scott Islands</td>\n",
       "      <td>...</td>\n",
       "      <td>44.6084</td>\n",
       "      <td>-70.6993</td>\n",
       "      <td>190</td>\n",
       "      <td>Animal nutritionist</td>\n",
       "      <td>1970-04-17</td>\n",
       "      <td>c8fcf575540e37ce0822cd040148ff57</td>\n",
       "      <td>1361012178</td>\n",
       "      <td>44.455449</td>\n",
       "      <td>-70.809148</td>\n",
       "      <td>0</td>\n",
       "    </tr>\n",
       "    <tr>\n",
       "      <th>3</th>\n",
       "      <td>4</td>\n",
       "      <td>2020-04-30 16:14:16</td>\n",
       "      <td>374656033243756</td>\n",
       "      <td>fraud_Effertz, Welch and Schowalter</td>\n",
       "      <td>entertainment</td>\n",
       "      <td>32.40</td>\n",
       "      <td>David</td>\n",
       "      <td>Lewis</td>\n",
       "      <td>M</td>\n",
       "      <td>1499 Michael Rue</td>\n",
       "      <td>...</td>\n",
       "      <td>38.8954</td>\n",
       "      <td>-77.1633</td>\n",
       "      <td>207410</td>\n",
       "      <td>Mudlogger</td>\n",
       "      <td>1984-07-03</td>\n",
       "      <td>9e9cde0e0963ac746a2cc9938e171c9a</td>\n",
       "      <td>1367338456</td>\n",
       "      <td>39.476941</td>\n",
       "      <td>-77.613438</td>\n",
       "      <td>0</td>\n",
       "    </tr>\n",
       "    <tr>\n",
       "      <th>4</th>\n",
       "      <td>5</td>\n",
       "      <td>2019-12-05 21:07:59</td>\n",
       "      <td>6011999606625827</td>\n",
       "      <td>fraud_Wilkinson LLC</td>\n",
       "      <td>personal_care</td>\n",
       "      <td>29.79</td>\n",
       "      <td>Ronald</td>\n",
       "      <td>Carson</td>\n",
       "      <td>M</td>\n",
       "      <td>870 Rocha Drive</td>\n",
       "      <td>...</td>\n",
       "      <td>40.9918</td>\n",
       "      <td>-73.9800</td>\n",
       "      <td>4664</td>\n",
       "      <td>Radiographer, diagnostic</td>\n",
       "      <td>1965-06-30</td>\n",
       "      <td>0742473d7f6261ce366b43ece063faf3</td>\n",
       "      <td>1354741679</td>\n",
       "      <td>40.863808</td>\n",
       "      <td>-74.674018</td>\n",
       "      <td>0</td>\n",
       "    </tr>\n",
       "  </tbody>\n",
       "</table>\n",
       "<p>5 rows × 23 columns</p>\n",
       "</div>"
      ],
      "text/plain": [
       "   id trans_date_trans_time            cc_num  \\\n",
       "0   1   2019-12-15 10:35:10  3597926034019603   \n",
       "1   2   2019-04-10 21:49:53  4873783502705038   \n",
       "2   3   2020-02-16 10:56:18   213161869125933   \n",
       "3   4   2020-04-30 16:14:16   374656033243756   \n",
       "4   5   2019-12-05 21:07:59  6011999606625827   \n",
       "\n",
       "                              merchant       category     amt      first  \\\n",
       "0                  fraud_Ruecker Group       misc_net    7.19    Derrick   \n",
       "1                      fraud_Lynch Ltd   shopping_pos    6.32  Elizabeth   \n",
       "2                   fraud_Bauch-Raynor    grocery_pos  147.59     Monica   \n",
       "3  fraud_Effertz, Welch and Schowalter  entertainment   32.40      David   \n",
       "4                  fraud_Wilkinson LLC  personal_care   29.79     Ronald   \n",
       "\n",
       "      last gender                         street  ...      lat      long  \\\n",
       "0   Flores      M  83690 Nicholas Ports Apt. 846  ...  35.2229  -89.5518   \n",
       "1  Maxwell      F      194 Goodman Fall Apt. 569  ...  48.4786 -122.3345   \n",
       "2     Lane      F             3270 Scott Islands  ...  44.6084  -70.6993   \n",
       "3    Lewis      M               1499 Michael Rue  ...  38.8954  -77.1633   \n",
       "4   Carson      M                870 Rocha Drive  ...  40.9918  -73.9800   \n",
       "\n",
       "   city_pop                             job         dob  \\\n",
       "0      9496  Furniture conservator/restorer  1993-03-23   \n",
       "1     14871            Public house manager  1974-03-10   \n",
       "2       190             Animal nutritionist  1970-04-17   \n",
       "3    207410                       Mudlogger  1984-07-03   \n",
       "4      4664        Radiographer, diagnostic  1965-06-30   \n",
       "\n",
       "                          trans_num   unix_time  merch_lat  merch_long  \\\n",
       "0  2642fec2e19c9e18e61fe9a88f6bc79a  1355567710  35.189455  -90.121666   \n",
       "1  61cec15bdbd3db31b12f886e8e181380  1334094593  49.004316 -122.745016   \n",
       "2  c8fcf575540e37ce0822cd040148ff57  1361012178  44.455449  -70.809148   \n",
       "3  9e9cde0e0963ac746a2cc9938e171c9a  1367338456  39.476941  -77.613438   \n",
       "4  0742473d7f6261ce366b43ece063faf3  1354741679  40.863808  -74.674018   \n",
       "\n",
       "   is_fraud  \n",
       "0         0  \n",
       "1         0  \n",
       "2         0  \n",
       "3         0  \n",
       "4         0  \n",
       "\n",
       "[5 rows x 23 columns]"
      ]
     },
     "execution_count": 123,
     "metadata": {},
     "output_type": "execute_result"
    }
   ],
   "source": [
    "data.head()"
   ]
  },
  {
   "cell_type": "code",
   "execution_count": 124,
   "metadata": {
    "execution": {
     "iopub.execute_input": "2023-11-22T16:26:19.260129Z",
     "iopub.status.busy": "2023-11-22T16:26:19.259777Z",
     "iopub.status.idle": "2023-11-22T16:26:19.318735Z",
     "shell.execute_reply": "2023-11-22T16:26:19.31588Z",
     "shell.execute_reply.started": "2023-11-22T16:26:19.260103Z"
    }
   },
   "outputs": [],
   "source": [
    "data = data.drop(\"trans_num\", axis=1)\n"
   ]
  },
  {
   "cell_type": "code",
   "execution_count": 125,
   "metadata": {
    "execution": {
     "iopub.execute_input": "2023-11-22T16:26:19.321222Z",
     "iopub.status.busy": "2023-11-22T16:26:19.320833Z",
     "iopub.status.idle": "2023-11-22T16:26:19.512983Z",
     "shell.execute_reply": "2023-11-22T16:26:19.511768Z",
     "shell.execute_reply.started": "2023-11-22T16:26:19.321185Z"
    }
   },
   "outputs": [
    {
     "name": "stdout",
     "output_type": "stream",
     "text": [
      "<class 'pandas.core.frame.DataFrame'>\n",
      "RangeIndex: 523174 entries, 0 to 523173\n",
      "Data columns (total 22 columns):\n",
      " #   Column                 Non-Null Count   Dtype  \n",
      "---  ------                 --------------   -----  \n",
      " 0   id                     523174 non-null  int64  \n",
      " 1   trans_date_trans_time  523174 non-null  object \n",
      " 2   cc_num                 523174 non-null  int64  \n",
      " 3   merchant               523174 non-null  object \n",
      " 4   category               523174 non-null  object \n",
      " 5   amt                    523174 non-null  float64\n",
      " 6   first                  523174 non-null  object \n",
      " 7   last                   523174 non-null  object \n",
      " 8   gender                 523174 non-null  object \n",
      " 9   street                 523174 non-null  object \n",
      " 10  city                   523174 non-null  object \n",
      " 11  state                  523174 non-null  object \n",
      " 12  zip                    523174 non-null  int64  \n",
      " 13  lat                    523174 non-null  float64\n",
      " 14  long                   523174 non-null  float64\n",
      " 15  city_pop               523174 non-null  int64  \n",
      " 16  job                    523174 non-null  object \n",
      " 17  dob                    523174 non-null  object \n",
      " 18  unix_time              523174 non-null  int64  \n",
      " 19  merch_lat              523174 non-null  float64\n",
      " 20  merch_long             523174 non-null  float64\n",
      " 21  is_fraud               523174 non-null  int64  \n",
      "dtypes: float64(5), int64(6), object(11)\n",
      "memory usage: 87.8+ MB\n"
     ]
    }
   ],
   "source": [
    "data.info()\n"
   ]
  },
  {
   "cell_type": "code",
   "execution_count": 126,
   "metadata": {
    "execution": {
     "iopub.execute_input": "2023-11-22T16:26:19.514662Z",
     "iopub.status.busy": "2023-11-22T16:26:19.514353Z",
     "iopub.status.idle": "2023-11-22T16:26:19.528728Z",
     "shell.execute_reply": "2023-11-22T16:26:19.527665Z",
     "shell.execute_reply.started": "2023-11-22T16:26:19.514635Z"
    }
   },
   "outputs": [
    {
     "data": {
      "text/plain": [
       "180048185037117        1298\n",
       "6011504998544485       1280\n",
       "345933964507467        1271\n",
       "630451534402           1270\n",
       "372509258176510        1269\n",
       "                       ... \n",
       "3545578418030657          7\n",
       "4734310647841293          7\n",
       "180097223252063           7\n",
       "4714017207228610634       7\n",
       "340187018810220           7\n",
       "Name: cc_num, Length: 983, dtype: int64"
      ]
     },
     "execution_count": 126,
     "metadata": {},
     "output_type": "execute_result"
    }
   ],
   "source": [
    "data.cc_num.value_counts()"
   ]
  },
  {
   "cell_type": "code",
   "execution_count": 127,
   "metadata": {
    "execution": {
     "iopub.execute_input": "2023-11-22T16:26:19.530266Z",
     "iopub.status.busy": "2023-11-22T16:26:19.529907Z",
     "iopub.status.idle": "2023-11-22T16:26:19.596654Z",
     "shell.execute_reply": "2023-11-22T16:26:19.595392Z",
     "shell.execute_reply.started": "2023-11-22T16:26:19.530236Z"
    }
   },
   "outputs": [],
   "source": [
    "data = data.drop(columns=[\"first\",\"last\"])"
   ]
  },
  {
   "cell_type": "code",
   "execution_count": 128,
   "metadata": {
    "execution": {
     "iopub.execute_input": "2023-11-22T16:26:19.598043Z",
     "iopub.status.busy": "2023-11-22T16:26:19.597746Z",
     "iopub.status.idle": "2023-11-22T16:26:19.751021Z",
     "shell.execute_reply": "2023-11-22T16:26:19.749692Z",
     "shell.execute_reply.started": "2023-11-22T16:26:19.598018Z"
    }
   },
   "outputs": [
    {
     "name": "stdout",
     "output_type": "stream",
     "text": [
      "<class 'pandas.core.frame.DataFrame'>\n",
      "RangeIndex: 523174 entries, 0 to 523173\n",
      "Data columns (total 20 columns):\n",
      " #   Column                 Non-Null Count   Dtype  \n",
      "---  ------                 --------------   -----  \n",
      " 0   id                     523174 non-null  int64  \n",
      " 1   trans_date_trans_time  523174 non-null  object \n",
      " 2   cc_num                 523174 non-null  int64  \n",
      " 3   merchant               523174 non-null  object \n",
      " 4   category               523174 non-null  object \n",
      " 5   amt                    523174 non-null  float64\n",
      " 6   gender                 523174 non-null  object \n",
      " 7   street                 523174 non-null  object \n",
      " 8   city                   523174 non-null  object \n",
      " 9   state                  523174 non-null  object \n",
      " 10  zip                    523174 non-null  int64  \n",
      " 11  lat                    523174 non-null  float64\n",
      " 12  long                   523174 non-null  float64\n",
      " 13  city_pop               523174 non-null  int64  \n",
      " 14  job                    523174 non-null  object \n",
      " 15  dob                    523174 non-null  object \n",
      " 16  unix_time              523174 non-null  int64  \n",
      " 17  merch_lat              523174 non-null  float64\n",
      " 18  merch_long             523174 non-null  float64\n",
      " 19  is_fraud               523174 non-null  int64  \n",
      "dtypes: float64(5), int64(6), object(9)\n",
      "memory usage: 79.8+ MB\n"
     ]
    }
   ],
   "source": [
    "data.info()"
   ]
  },
  {
   "cell_type": "code",
   "execution_count": 129,
   "metadata": {
    "execution": {
     "iopub.execute_input": "2023-11-22T16:26:19.753267Z",
     "iopub.status.busy": "2023-11-22T16:26:19.752848Z",
     "iopub.status.idle": "2023-11-22T16:26:20.000451Z",
     "shell.execute_reply": "2023-11-22T16:26:19.999379Z",
     "shell.execute_reply.started": "2023-11-22T16:26:19.753239Z"
    }
   },
   "outputs": [
    {
     "data": {
      "text/html": [
       "<div>\n",
       "<style scoped>\n",
       "    .dataframe tbody tr th:only-of-type {\n",
       "        vertical-align: middle;\n",
       "    }\n",
       "\n",
       "    .dataframe tbody tr th {\n",
       "        vertical-align: top;\n",
       "    }\n",
       "\n",
       "    .dataframe thead th {\n",
       "        text-align: right;\n",
       "    }\n",
       "</style>\n",
       "<table border=\"1\" class=\"dataframe\">\n",
       "  <thead>\n",
       "    <tr style=\"text-align: right;\">\n",
       "      <th></th>\n",
       "      <th>id</th>\n",
       "      <th>trans_date_trans_time</th>\n",
       "      <th>cc_num</th>\n",
       "      <th>merchant</th>\n",
       "      <th>category</th>\n",
       "      <th>amt</th>\n",
       "      <th>gender</th>\n",
       "      <th>street</th>\n",
       "      <th>city</th>\n",
       "      <th>state</th>\n",
       "      <th>...</th>\n",
       "      <th>lat</th>\n",
       "      <th>long</th>\n",
       "      <th>city_pop</th>\n",
       "      <th>job</th>\n",
       "      <th>dob</th>\n",
       "      <th>unix_time</th>\n",
       "      <th>merch_lat</th>\n",
       "      <th>merch_long</th>\n",
       "      <th>is_fraud</th>\n",
       "      <th>recency</th>\n",
       "    </tr>\n",
       "  </thead>\n",
       "  <tbody>\n",
       "    <tr>\n",
       "      <th>0</th>\n",
       "      <td>1</td>\n",
       "      <td>2019-12-15 10:35:10</td>\n",
       "      <td>3597926034019603</td>\n",
       "      <td>fraud_Ruecker Group</td>\n",
       "      <td>misc_net</td>\n",
       "      <td>7.19</td>\n",
       "      <td>M</td>\n",
       "      <td>83690 Nicholas Ports Apt. 846</td>\n",
       "      <td>Oakland</td>\n",
       "      <td>TN</td>\n",
       "      <td>...</td>\n",
       "      <td>35.2229</td>\n",
       "      <td>-89.5518</td>\n",
       "      <td>9496</td>\n",
       "      <td>Furniture conservator/restorer</td>\n",
       "      <td>1993-03-23</td>\n",
       "      <td>1355567710</td>\n",
       "      <td>35.189455</td>\n",
       "      <td>-90.121666</td>\n",
       "      <td>0</td>\n",
       "      <td>NaN</td>\n",
       "    </tr>\n",
       "    <tr>\n",
       "      <th>1</th>\n",
       "      <td>2</td>\n",
       "      <td>2019-04-10 21:49:53</td>\n",
       "      <td>4873783502705038</td>\n",
       "      <td>fraud_Lynch Ltd</td>\n",
       "      <td>shopping_pos</td>\n",
       "      <td>6.32</td>\n",
       "      <td>F</td>\n",
       "      <td>194 Goodman Fall Apt. 569</td>\n",
       "      <td>Burlington</td>\n",
       "      <td>WA</td>\n",
       "      <td>...</td>\n",
       "      <td>48.4786</td>\n",
       "      <td>-122.3345</td>\n",
       "      <td>14871</td>\n",
       "      <td>Public house manager</td>\n",
       "      <td>1974-03-10</td>\n",
       "      <td>1334094593</td>\n",
       "      <td>49.004316</td>\n",
       "      <td>-122.745016</td>\n",
       "      <td>0</td>\n",
       "      <td>NaN</td>\n",
       "    </tr>\n",
       "    <tr>\n",
       "      <th>2</th>\n",
       "      <td>3</td>\n",
       "      <td>2020-02-16 10:56:18</td>\n",
       "      <td>213161869125933</td>\n",
       "      <td>fraud_Bauch-Raynor</td>\n",
       "      <td>grocery_pos</td>\n",
       "      <td>147.59</td>\n",
       "      <td>F</td>\n",
       "      <td>3270 Scott Islands</td>\n",
       "      <td>East Andover</td>\n",
       "      <td>ME</td>\n",
       "      <td>...</td>\n",
       "      <td>44.6084</td>\n",
       "      <td>-70.6993</td>\n",
       "      <td>190</td>\n",
       "      <td>Animal nutritionist</td>\n",
       "      <td>1970-04-17</td>\n",
       "      <td>1361012178</td>\n",
       "      <td>44.455449</td>\n",
       "      <td>-70.809148</td>\n",
       "      <td>0</td>\n",
       "      <td>NaN</td>\n",
       "    </tr>\n",
       "    <tr>\n",
       "      <th>3</th>\n",
       "      <td>4</td>\n",
       "      <td>2020-04-30 16:14:16</td>\n",
       "      <td>374656033243756</td>\n",
       "      <td>fraud_Effertz, Welch and Schowalter</td>\n",
       "      <td>entertainment</td>\n",
       "      <td>32.40</td>\n",
       "      <td>M</td>\n",
       "      <td>1499 Michael Rue</td>\n",
       "      <td>Arlington</td>\n",
       "      <td>VA</td>\n",
       "      <td>...</td>\n",
       "      <td>38.8954</td>\n",
       "      <td>-77.1633</td>\n",
       "      <td>207410</td>\n",
       "      <td>Mudlogger</td>\n",
       "      <td>1984-07-03</td>\n",
       "      <td>1367338456</td>\n",
       "      <td>39.476941</td>\n",
       "      <td>-77.613438</td>\n",
       "      <td>0</td>\n",
       "      <td>NaN</td>\n",
       "    </tr>\n",
       "    <tr>\n",
       "      <th>4</th>\n",
       "      <td>5</td>\n",
       "      <td>2019-12-05 21:07:59</td>\n",
       "      <td>6011999606625827</td>\n",
       "      <td>fraud_Wilkinson LLC</td>\n",
       "      <td>personal_care</td>\n",
       "      <td>29.79</td>\n",
       "      <td>M</td>\n",
       "      <td>870 Rocha Drive</td>\n",
       "      <td>Harrington Park</td>\n",
       "      <td>NJ</td>\n",
       "      <td>...</td>\n",
       "      <td>40.9918</td>\n",
       "      <td>-73.9800</td>\n",
       "      <td>4664</td>\n",
       "      <td>Radiographer, diagnostic</td>\n",
       "      <td>1965-06-30</td>\n",
       "      <td>1354741679</td>\n",
       "      <td>40.863808</td>\n",
       "      <td>-74.674018</td>\n",
       "      <td>0</td>\n",
       "      <td>NaN</td>\n",
       "    </tr>\n",
       "    <tr>\n",
       "      <th>...</th>\n",
       "      <td>...</td>\n",
       "      <td>...</td>\n",
       "      <td>...</td>\n",
       "      <td>...</td>\n",
       "      <td>...</td>\n",
       "      <td>...</td>\n",
       "      <td>...</td>\n",
       "      <td>...</td>\n",
       "      <td>...</td>\n",
       "      <td>...</td>\n",
       "      <td>...</td>\n",
       "      <td>...</td>\n",
       "      <td>...</td>\n",
       "      <td>...</td>\n",
       "      <td>...</td>\n",
       "      <td>...</td>\n",
       "      <td>...</td>\n",
       "      <td>...</td>\n",
       "      <td>...</td>\n",
       "      <td>...</td>\n",
       "      <td>...</td>\n",
       "    </tr>\n",
       "    <tr>\n",
       "      <th>523169</th>\n",
       "      <td>523170</td>\n",
       "      <td>2020-06-17 05:58:27</td>\n",
       "      <td>5154903938030655</td>\n",
       "      <td>fraud_Kerluke, Considine and Macejkovic</td>\n",
       "      <td>misc_net</td>\n",
       "      <td>22.71</td>\n",
       "      <td>F</td>\n",
       "      <td>825 Martinez Springs Apt. 625</td>\n",
       "      <td>White Sulphur Springs</td>\n",
       "      <td>WV</td>\n",
       "      <td>...</td>\n",
       "      <td>37.7827</td>\n",
       "      <td>-80.3129</td>\n",
       "      <td>5216</td>\n",
       "      <td>Community development worker</td>\n",
       "      <td>1993-10-05</td>\n",
       "      <td>1371448707</td>\n",
       "      <td>38.781304</td>\n",
       "      <td>-80.110562</td>\n",
       "      <td>0</td>\n",
       "      <td>16977621.0</td>\n",
       "    </tr>\n",
       "    <tr>\n",
       "      <th>523170</th>\n",
       "      <td>523171</td>\n",
       "      <td>2019-03-24 16:26:29</td>\n",
       "      <td>4067137330196900</td>\n",
       "      <td>fraud_Kuhn Group</td>\n",
       "      <td>food_dining</td>\n",
       "      <td>3.47</td>\n",
       "      <td>F</td>\n",
       "      <td>3256 Brooks Field</td>\n",
       "      <td>Eldridge</td>\n",
       "      <td>AL</td>\n",
       "      <td>...</td>\n",
       "      <td>33.9315</td>\n",
       "      <td>-87.6194</td>\n",
       "      <td>1186</td>\n",
       "      <td>Politician's assistant</td>\n",
       "      <td>1986-11-12</td>\n",
       "      <td>1332606389</td>\n",
       "      <td>34.684771</td>\n",
       "      <td>-86.703349</td>\n",
       "      <td>0</td>\n",
       "      <td>-34410429.0</td>\n",
       "    </tr>\n",
       "    <tr>\n",
       "      <th>523171</th>\n",
       "      <td>523172</td>\n",
       "      <td>2019-12-02 09:37:54</td>\n",
       "      <td>4538566639857</td>\n",
       "      <td>fraud_Bins, Balistreri and Beatty</td>\n",
       "      <td>shopping_pos</td>\n",
       "      <td>3.01</td>\n",
       "      <td>M</td>\n",
       "      <td>3539 Mckenzie Stream</td>\n",
       "      <td>Fairview</td>\n",
       "      <td>NJ</td>\n",
       "      <td>...</td>\n",
       "      <td>40.8170</td>\n",
       "      <td>-74.0000</td>\n",
       "      <td>13835</td>\n",
       "      <td>Programmer, multimedia</td>\n",
       "      <td>1967-05-28</td>\n",
       "      <td>1354441074</td>\n",
       "      <td>40.201126</td>\n",
       "      <td>-74.508935</td>\n",
       "      <td>0</td>\n",
       "      <td>-9492662.0</td>\n",
       "    </tr>\n",
       "    <tr>\n",
       "      <th>523172</th>\n",
       "      <td>523173</td>\n",
       "      <td>2019-04-09 09:41:29</td>\n",
       "      <td>630484879808</td>\n",
       "      <td>fraud_Kuhic, Bins and Pfeffer</td>\n",
       "      <td>shopping_net</td>\n",
       "      <td>107.92</td>\n",
       "      <td>M</td>\n",
       "      <td>8088 Sherman Radial Suite 689</td>\n",
       "      <td>Helm</td>\n",
       "      <td>CA</td>\n",
       "      <td>...</td>\n",
       "      <td>36.4992</td>\n",
       "      <td>-120.0936</td>\n",
       "      <td>123</td>\n",
       "      <td>Early years teacher</td>\n",
       "      <td>1973-02-07</td>\n",
       "      <td>1333964489</td>\n",
       "      <td>37.053394</td>\n",
       "      <td>-120.609172</td>\n",
       "      <td>0</td>\n",
       "      <td>-27348867.0</td>\n",
       "    </tr>\n",
       "    <tr>\n",
       "      <th>523173</th>\n",
       "      <td>523174</td>\n",
       "      <td>2019-06-26 18:29:38</td>\n",
       "      <td>30273037698427</td>\n",
       "      <td>fraud_Denesik and Sons</td>\n",
       "      <td>shopping_pos</td>\n",
       "      <td>138.92</td>\n",
       "      <td>M</td>\n",
       "      <td>06959 Stephen Branch Suite 246</td>\n",
       "      <td>Thida</td>\n",
       "      <td>AR</td>\n",
       "      <td>...</td>\n",
       "      <td>35.5762</td>\n",
       "      <td>-91.4539</td>\n",
       "      <td>111</td>\n",
       "      <td>Careers information officer</td>\n",
       "      <td>2000-06-13</td>\n",
       "      <td>1340735378</td>\n",
       "      <td>36.532570</td>\n",
       "      <td>-91.066545</td>\n",
       "      <td>0</td>\n",
       "      <td>-20833828.0</td>\n",
       "    </tr>\n",
       "  </tbody>\n",
       "</table>\n",
       "<p>523174 rows × 21 columns</p>\n",
       "</div>"
      ],
      "text/plain": [
       "            id trans_date_trans_time            cc_num  \\\n",
       "0            1   2019-12-15 10:35:10  3597926034019603   \n",
       "1            2   2019-04-10 21:49:53  4873783502705038   \n",
       "2            3   2020-02-16 10:56:18   213161869125933   \n",
       "3            4   2020-04-30 16:14:16   374656033243756   \n",
       "4            5   2019-12-05 21:07:59  6011999606625827   \n",
       "...        ...                   ...               ...   \n",
       "523169  523170   2020-06-17 05:58:27  5154903938030655   \n",
       "523170  523171   2019-03-24 16:26:29  4067137330196900   \n",
       "523171  523172   2019-12-02 09:37:54     4538566639857   \n",
       "523172  523173   2019-04-09 09:41:29      630484879808   \n",
       "523173  523174   2019-06-26 18:29:38    30273037698427   \n",
       "\n",
       "                                       merchant       category     amt gender  \\\n",
       "0                           fraud_Ruecker Group       misc_net    7.19      M   \n",
       "1                               fraud_Lynch Ltd   shopping_pos    6.32      F   \n",
       "2                            fraud_Bauch-Raynor    grocery_pos  147.59      F   \n",
       "3           fraud_Effertz, Welch and Schowalter  entertainment   32.40      M   \n",
       "4                           fraud_Wilkinson LLC  personal_care   29.79      M   \n",
       "...                                         ...            ...     ...    ...   \n",
       "523169  fraud_Kerluke, Considine and Macejkovic       misc_net   22.71      F   \n",
       "523170                         fraud_Kuhn Group    food_dining    3.47      F   \n",
       "523171        fraud_Bins, Balistreri and Beatty   shopping_pos    3.01      M   \n",
       "523172            fraud_Kuhic, Bins and Pfeffer   shopping_net  107.92      M   \n",
       "523173                   fraud_Denesik and Sons   shopping_pos  138.92      M   \n",
       "\n",
       "                                street                   city state  ...  \\\n",
       "0        83690 Nicholas Ports Apt. 846                Oakland    TN  ...   \n",
       "1            194 Goodman Fall Apt. 569             Burlington    WA  ...   \n",
       "2                   3270 Scott Islands           East Andover    ME  ...   \n",
       "3                     1499 Michael Rue              Arlington    VA  ...   \n",
       "4                      870 Rocha Drive        Harrington Park    NJ  ...   \n",
       "...                                ...                    ...   ...  ...   \n",
       "523169   825 Martinez Springs Apt. 625  White Sulphur Springs    WV  ...   \n",
       "523170               3256 Brooks Field               Eldridge    AL  ...   \n",
       "523171            3539 Mckenzie Stream               Fairview    NJ  ...   \n",
       "523172   8088 Sherman Radial Suite 689                   Helm    CA  ...   \n",
       "523173  06959 Stephen Branch Suite 246                  Thida    AR  ...   \n",
       "\n",
       "            lat      long  city_pop                             job  \\\n",
       "0       35.2229  -89.5518      9496  Furniture conservator/restorer   \n",
       "1       48.4786 -122.3345     14871            Public house manager   \n",
       "2       44.6084  -70.6993       190             Animal nutritionist   \n",
       "3       38.8954  -77.1633    207410                       Mudlogger   \n",
       "4       40.9918  -73.9800      4664        Radiographer, diagnostic   \n",
       "...         ...       ...       ...                             ...   \n",
       "523169  37.7827  -80.3129      5216    Community development worker   \n",
       "523170  33.9315  -87.6194      1186          Politician's assistant   \n",
       "523171  40.8170  -74.0000     13835          Programmer, multimedia   \n",
       "523172  36.4992 -120.0936       123             Early years teacher   \n",
       "523173  35.5762  -91.4539       111     Careers information officer   \n",
       "\n",
       "               dob   unix_time  merch_lat  merch_long  is_fraud     recency  \n",
       "0       1993-03-23  1355567710  35.189455  -90.121666         0         NaN  \n",
       "1       1974-03-10  1334094593  49.004316 -122.745016         0         NaN  \n",
       "2       1970-04-17  1361012178  44.455449  -70.809148         0         NaN  \n",
       "3       1984-07-03  1367338456  39.476941  -77.613438         0         NaN  \n",
       "4       1965-06-30  1354741679  40.863808  -74.674018         0         NaN  \n",
       "...            ...         ...        ...         ...       ...         ...  \n",
       "523169  1993-10-05  1371448707  38.781304  -80.110562         0  16977621.0  \n",
       "523170  1986-11-12  1332606389  34.684771  -86.703349         0 -34410429.0  \n",
       "523171  1967-05-28  1354441074  40.201126  -74.508935         0  -9492662.0  \n",
       "523172  1973-02-07  1333964489  37.053394 -120.609172         0 -27348867.0  \n",
       "523173  2000-06-13  1340735378  36.532570  -91.066545         0 -20833828.0  \n",
       "\n",
       "[523174 rows x 21 columns]"
      ]
     },
     "execution_count": 129,
     "metadata": {},
     "output_type": "execute_result"
    }
   ],
   "source": [
    "data[\"recency\"] = data.groupby(by=\"cc_num\")[\"unix_time\"].diff()\n",
    "data"
   ]
  },
  {
   "cell_type": "code",
   "execution_count": 130,
   "metadata": {
    "execution": {
     "iopub.execute_input": "2023-11-22T16:26:20.002503Z",
     "iopub.status.busy": "2023-11-22T16:26:20.002032Z",
     "iopub.status.idle": "2023-11-22T16:26:20.012066Z",
     "shell.execute_reply": "2023-11-22T16:26:20.010786Z",
     "shell.execute_reply.started": "2023-11-22T16:26:20.002459Z"
    }
   },
   "outputs": [
    {
     "data": {
      "text/plain": [
       "983"
      ]
     },
     "execution_count": 130,
     "metadata": {},
     "output_type": "execute_result"
    }
   ],
   "source": [
    "data[\"recency\"].isnull().sum()"
   ]
  },
  {
   "cell_type": "code",
   "execution_count": 131,
   "metadata": {
    "execution": {
     "iopub.execute_input": "2023-11-22T16:26:20.013505Z",
     "iopub.status.busy": "2023-11-22T16:26:20.013179Z",
     "iopub.status.idle": "2023-11-22T16:26:20.024834Z",
     "shell.execute_reply": "2023-11-22T16:26:20.023131Z",
     "shell.execute_reply.started": "2023-11-22T16:26:20.01348Z"
    }
   },
   "outputs": [],
   "source": [
    "data.loc[data.recency.isnull(),[\"recency\"]] = -1"
   ]
  },
  {
   "cell_type": "code",
   "execution_count": 132,
   "metadata": {
    "execution": {
     "iopub.execute_input": "2023-11-22T16:26:20.027984Z",
     "iopub.status.busy": "2023-11-22T16:26:20.027453Z",
     "iopub.status.idle": "2023-11-22T16:26:20.17863Z",
     "shell.execute_reply": "2023-11-22T16:26:20.176865Z",
     "shell.execute_reply.started": "2023-11-22T16:26:20.027914Z"
    }
   },
   "outputs": [
    {
     "data": {
      "text/plain": [
       "id                       0\n",
       "trans_date_trans_time    0\n",
       "cc_num                   0\n",
       "merchant                 0\n",
       "category                 0\n",
       "amt                      0\n",
       "gender                   0\n",
       "street                   0\n",
       "city                     0\n",
       "state                    0\n",
       "zip                      0\n",
       "lat                      0\n",
       "long                     0\n",
       "city_pop                 0\n",
       "job                      0\n",
       "dob                      0\n",
       "unix_time                0\n",
       "merch_lat                0\n",
       "merch_long               0\n",
       "is_fraud                 0\n",
       "recency                  0\n",
       "dtype: int64"
      ]
     },
     "execution_count": 132,
     "metadata": {},
     "output_type": "execute_result"
    }
   ],
   "source": [
    "data.isnull().sum()"
   ]
  },
  {
   "cell_type": "code",
   "execution_count": 133,
   "metadata": {
    "execution": {
     "iopub.execute_input": "2023-11-22T16:26:20.180753Z",
     "iopub.status.busy": "2023-11-22T16:26:20.180286Z",
     "iopub.status.idle": "2023-11-22T16:26:20.329906Z",
     "shell.execute_reply": "2023-11-22T16:26:20.328573Z",
     "shell.execute_reply.started": "2023-11-22T16:26:20.180717Z"
    }
   },
   "outputs": [],
   "source": [
    "# converting trans_date_trans_time to datetime\n",
    "\n",
    "data[\"trans_date_trans_time\"] = pd.to_datetime(data[\"trans_date_trans_time\"])"
   ]
  },
  {
   "cell_type": "code",
   "execution_count": 134,
   "metadata": {
    "execution": {
     "iopub.execute_input": "2023-11-22T16:26:20.332649Z",
     "iopub.status.busy": "2023-11-22T16:26:20.332171Z",
     "iopub.status.idle": "2023-11-22T16:26:20.471757Z",
     "shell.execute_reply": "2023-11-22T16:26:20.47053Z",
     "shell.execute_reply.started": "2023-11-22T16:26:20.332608Z"
    }
   },
   "outputs": [
    {
     "name": "stdout",
     "output_type": "stream",
     "text": [
      "<class 'pandas.core.frame.DataFrame'>\n",
      "RangeIndex: 523174 entries, 0 to 523173\n",
      "Data columns (total 21 columns):\n",
      " #   Column                 Non-Null Count   Dtype         \n",
      "---  ------                 --------------   -----         \n",
      " 0   id                     523174 non-null  int64         \n",
      " 1   trans_date_trans_time  523174 non-null  datetime64[ns]\n",
      " 2   cc_num                 523174 non-null  int64         \n",
      " 3   merchant               523174 non-null  object        \n",
      " 4   category               523174 non-null  object        \n",
      " 5   amt                    523174 non-null  float64       \n",
      " 6   gender                 523174 non-null  object        \n",
      " 7   street                 523174 non-null  object        \n",
      " 8   city                   523174 non-null  object        \n",
      " 9   state                  523174 non-null  object        \n",
      " 10  zip                    523174 non-null  int64         \n",
      " 11  lat                    523174 non-null  float64       \n",
      " 12  long                   523174 non-null  float64       \n",
      " 13  city_pop               523174 non-null  int64         \n",
      " 14  job                    523174 non-null  object        \n",
      " 15  dob                    523174 non-null  object        \n",
      " 16  unix_time              523174 non-null  int64         \n",
      " 17  merch_lat              523174 non-null  float64       \n",
      " 18  merch_long             523174 non-null  float64       \n",
      " 19  is_fraud               523174 non-null  int64         \n",
      " 20  recency                523174 non-null  float64       \n",
      "dtypes: datetime64[ns](1), float64(6), int64(6), object(8)\n",
      "memory usage: 83.8+ MB\n"
     ]
    }
   ],
   "source": [
    "data.info()"
   ]
  },
  {
   "cell_type": "code",
   "execution_count": 135,
   "metadata": {
    "execution": {
     "iopub.execute_input": "2023-11-22T16:26:20.47326Z",
     "iopub.status.busy": "2023-11-22T16:26:20.472867Z",
     "iopub.status.idle": "2023-11-22T16:26:20.508608Z",
     "shell.execute_reply": "2023-11-22T16:26:20.507172Z",
     "shell.execute_reply.started": "2023-11-22T16:26:20.47323Z"
    }
   },
   "outputs": [
    {
     "data": {
      "text/html": [
       "<div>\n",
       "<style scoped>\n",
       "    .dataframe tbody tr th:only-of-type {\n",
       "        vertical-align: middle;\n",
       "    }\n",
       "\n",
       "    .dataframe tbody tr th {\n",
       "        vertical-align: top;\n",
       "    }\n",
       "\n",
       "    .dataframe thead th {\n",
       "        text-align: right;\n",
       "    }\n",
       "</style>\n",
       "<table border=\"1\" class=\"dataframe\">\n",
       "  <thead>\n",
       "    <tr style=\"text-align: right;\">\n",
       "      <th></th>\n",
       "      <th>id</th>\n",
       "      <th>trans_date_trans_time</th>\n",
       "      <th>cc_num</th>\n",
       "      <th>merchant</th>\n",
       "      <th>category</th>\n",
       "      <th>amt</th>\n",
       "      <th>gender</th>\n",
       "      <th>street</th>\n",
       "      <th>city</th>\n",
       "      <th>state</th>\n",
       "      <th>...</th>\n",
       "      <th>lat</th>\n",
       "      <th>long</th>\n",
       "      <th>city_pop</th>\n",
       "      <th>job</th>\n",
       "      <th>dob</th>\n",
       "      <th>unix_time</th>\n",
       "      <th>merch_lat</th>\n",
       "      <th>merch_long</th>\n",
       "      <th>is_fraud</th>\n",
       "      <th>recency</th>\n",
       "    </tr>\n",
       "  </thead>\n",
       "  <tbody>\n",
       "    <tr>\n",
       "      <th>1</th>\n",
       "      <td>2</td>\n",
       "      <td>2019-04-10 21:49:53</td>\n",
       "      <td>4873783502705038</td>\n",
       "      <td>fraud_Lynch Ltd</td>\n",
       "      <td>shopping_pos</td>\n",
       "      <td>6.32</td>\n",
       "      <td>F</td>\n",
       "      <td>194 Goodman Fall Apt. 569</td>\n",
       "      <td>Burlington</td>\n",
       "      <td>WA</td>\n",
       "      <td>...</td>\n",
       "      <td>48.4786</td>\n",
       "      <td>-122.3345</td>\n",
       "      <td>14871</td>\n",
       "      <td>Public house manager</td>\n",
       "      <td>1974-03-10</td>\n",
       "      <td>1334094593</td>\n",
       "      <td>49.004316</td>\n",
       "      <td>-122.745016</td>\n",
       "      <td>0</td>\n",
       "      <td>-1.0</td>\n",
       "    </tr>\n",
       "    <tr>\n",
       "      <th>998</th>\n",
       "      <td>999</td>\n",
       "      <td>2020-04-19 23:48:28</td>\n",
       "      <td>4873783502705038</td>\n",
       "      <td>fraud_Barrows PLC</td>\n",
       "      <td>shopping_pos</td>\n",
       "      <td>243.44</td>\n",
       "      <td>F</td>\n",
       "      <td>194 Goodman Fall Apt. 569</td>\n",
       "      <td>Burlington</td>\n",
       "      <td>WA</td>\n",
       "      <td>...</td>\n",
       "      <td>48.4786</td>\n",
       "      <td>-122.3345</td>\n",
       "      <td>14871</td>\n",
       "      <td>Public house manager</td>\n",
       "      <td>1974-03-10</td>\n",
       "      <td>1366415308</td>\n",
       "      <td>48.874646</td>\n",
       "      <td>-121.520279</td>\n",
       "      <td>0</td>\n",
       "      <td>32320715.0</td>\n",
       "    </tr>\n",
       "    <tr>\n",
       "      <th>1883</th>\n",
       "      <td>1884</td>\n",
       "      <td>2020-03-24 07:29:02</td>\n",
       "      <td>4873783502705038</td>\n",
       "      <td>fraud_McDermott-Weimann</td>\n",
       "      <td>grocery_pos</td>\n",
       "      <td>207.20</td>\n",
       "      <td>F</td>\n",
       "      <td>194 Goodman Fall Apt. 569</td>\n",
       "      <td>Burlington</td>\n",
       "      <td>WA</td>\n",
       "      <td>...</td>\n",
       "      <td>48.4786</td>\n",
       "      <td>-122.3345</td>\n",
       "      <td>14871</td>\n",
       "      <td>Public house manager</td>\n",
       "      <td>1974-03-10</td>\n",
       "      <td>1364110142</td>\n",
       "      <td>48.551958</td>\n",
       "      <td>-121.677096</td>\n",
       "      <td>0</td>\n",
       "      <td>-2305166.0</td>\n",
       "    </tr>\n",
       "    <tr>\n",
       "      <th>2853</th>\n",
       "      <td>2854</td>\n",
       "      <td>2019-11-16 03:01:43</td>\n",
       "      <td>4873783502705038</td>\n",
       "      <td>fraud_Gislason Group</td>\n",
       "      <td>misc_pos</td>\n",
       "      <td>65.07</td>\n",
       "      <td>F</td>\n",
       "      <td>194 Goodman Fall Apt. 569</td>\n",
       "      <td>Burlington</td>\n",
       "      <td>WA</td>\n",
       "      <td>...</td>\n",
       "      <td>48.4786</td>\n",
       "      <td>-122.3345</td>\n",
       "      <td>14871</td>\n",
       "      <td>Public house manager</td>\n",
       "      <td>1974-03-10</td>\n",
       "      <td>1353034903</td>\n",
       "      <td>47.660714</td>\n",
       "      <td>-123.022528</td>\n",
       "      <td>0</td>\n",
       "      <td>-11075239.0</td>\n",
       "    </tr>\n",
       "    <tr>\n",
       "      <th>3784</th>\n",
       "      <td>3785</td>\n",
       "      <td>2019-08-05 07:02:57</td>\n",
       "      <td>4873783502705038</td>\n",
       "      <td>fraud_Cartwright-Harris</td>\n",
       "      <td>grocery_pos</td>\n",
       "      <td>202.63</td>\n",
       "      <td>F</td>\n",
       "      <td>194 Goodman Fall Apt. 569</td>\n",
       "      <td>Burlington</td>\n",
       "      <td>WA</td>\n",
       "      <td>...</td>\n",
       "      <td>48.4786</td>\n",
       "      <td>-122.3345</td>\n",
       "      <td>14871</td>\n",
       "      <td>Public house manager</td>\n",
       "      <td>1974-03-10</td>\n",
       "      <td>1344150177</td>\n",
       "      <td>48.584952</td>\n",
       "      <td>-122.266368</td>\n",
       "      <td>0</td>\n",
       "      <td>-8884726.0</td>\n",
       "    </tr>\n",
       "    <tr>\n",
       "      <th>...</th>\n",
       "      <td>...</td>\n",
       "      <td>...</td>\n",
       "      <td>...</td>\n",
       "      <td>...</td>\n",
       "      <td>...</td>\n",
       "      <td>...</td>\n",
       "      <td>...</td>\n",
       "      <td>...</td>\n",
       "      <td>...</td>\n",
       "      <td>...</td>\n",
       "      <td>...</td>\n",
       "      <td>...</td>\n",
       "      <td>...</td>\n",
       "      <td>...</td>\n",
       "      <td>...</td>\n",
       "      <td>...</td>\n",
       "      <td>...</td>\n",
       "      <td>...</td>\n",
       "      <td>...</td>\n",
       "      <td>...</td>\n",
       "      <td>...</td>\n",
       "    </tr>\n",
       "    <tr>\n",
       "      <th>517582</th>\n",
       "      <td>517583</td>\n",
       "      <td>2019-12-26 22:39:46</td>\n",
       "      <td>4873783502705038</td>\n",
       "      <td>fraud_Beer-Jast</td>\n",
       "      <td>kids_pets</td>\n",
       "      <td>57.62</td>\n",
       "      <td>F</td>\n",
       "      <td>194 Goodman Fall Apt. 569</td>\n",
       "      <td>Burlington</td>\n",
       "      <td>WA</td>\n",
       "      <td>...</td>\n",
       "      <td>48.4786</td>\n",
       "      <td>-122.3345</td>\n",
       "      <td>14871</td>\n",
       "      <td>Public house manager</td>\n",
       "      <td>1974-03-10</td>\n",
       "      <td>1356561586</td>\n",
       "      <td>49.075953</td>\n",
       "      <td>-121.783698</td>\n",
       "      <td>0</td>\n",
       "      <td>15206068.0</td>\n",
       "    </tr>\n",
       "    <tr>\n",
       "      <th>517972</th>\n",
       "      <td>517973</td>\n",
       "      <td>2019-06-25 13:58:30</td>\n",
       "      <td>4873783502705038</td>\n",
       "      <td>fraud_Crist, Jakubowski and Littel</td>\n",
       "      <td>home</td>\n",
       "      <td>69.75</td>\n",
       "      <td>F</td>\n",
       "      <td>194 Goodman Fall Apt. 569</td>\n",
       "      <td>Burlington</td>\n",
       "      <td>WA</td>\n",
       "      <td>...</td>\n",
       "      <td>48.4786</td>\n",
       "      <td>-122.3345</td>\n",
       "      <td>14871</td>\n",
       "      <td>Public house manager</td>\n",
       "      <td>1974-03-10</td>\n",
       "      <td>1340632710</td>\n",
       "      <td>47.961860</td>\n",
       "      <td>-121.804015</td>\n",
       "      <td>0</td>\n",
       "      <td>-15928876.0</td>\n",
       "    </tr>\n",
       "    <tr>\n",
       "      <th>518156</th>\n",
       "      <td>518157</td>\n",
       "      <td>2020-04-07 21:05:33</td>\n",
       "      <td>4873783502705038</td>\n",
       "      <td>fraud_Schmeler-Howe</td>\n",
       "      <td>personal_care</td>\n",
       "      <td>45.58</td>\n",
       "      <td>F</td>\n",
       "      <td>194 Goodman Fall Apt. 569</td>\n",
       "      <td>Burlington</td>\n",
       "      <td>WA</td>\n",
       "      <td>...</td>\n",
       "      <td>48.4786</td>\n",
       "      <td>-122.3345</td>\n",
       "      <td>14871</td>\n",
       "      <td>Public house manager</td>\n",
       "      <td>1974-03-10</td>\n",
       "      <td>1365368733</td>\n",
       "      <td>48.068222</td>\n",
       "      <td>-121.774465</td>\n",
       "      <td>0</td>\n",
       "      <td>24736023.0</td>\n",
       "    </tr>\n",
       "    <tr>\n",
       "      <th>518899</th>\n",
       "      <td>518900</td>\n",
       "      <td>2020-04-07 01:32:17</td>\n",
       "      <td>4873783502705038</td>\n",
       "      <td>fraud_Rutherford-Mertz</td>\n",
       "      <td>grocery_pos</td>\n",
       "      <td>182.44</td>\n",
       "      <td>F</td>\n",
       "      <td>194 Goodman Fall Apt. 569</td>\n",
       "      <td>Burlington</td>\n",
       "      <td>WA</td>\n",
       "      <td>...</td>\n",
       "      <td>48.4786</td>\n",
       "      <td>-122.3345</td>\n",
       "      <td>14871</td>\n",
       "      <td>Public house manager</td>\n",
       "      <td>1974-03-10</td>\n",
       "      <td>1365298337</td>\n",
       "      <td>48.616849</td>\n",
       "      <td>-121.782265</td>\n",
       "      <td>0</td>\n",
       "      <td>-70396.0</td>\n",
       "    </tr>\n",
       "    <tr>\n",
       "      <th>521643</th>\n",
       "      <td>521644</td>\n",
       "      <td>2019-09-29 22:50:13</td>\n",
       "      <td>4873783502705038</td>\n",
       "      <td>fraud_Langworth, Boehm and Gulgowski</td>\n",
       "      <td>shopping_net</td>\n",
       "      <td>7.25</td>\n",
       "      <td>F</td>\n",
       "      <td>194 Goodman Fall Apt. 569</td>\n",
       "      <td>Burlington</td>\n",
       "      <td>WA</td>\n",
       "      <td>...</td>\n",
       "      <td>48.4786</td>\n",
       "      <td>-122.3345</td>\n",
       "      <td>14871</td>\n",
       "      <td>Public house manager</td>\n",
       "      <td>1974-03-10</td>\n",
       "      <td>1348959013</td>\n",
       "      <td>48.679828</td>\n",
       "      <td>-122.771632</td>\n",
       "      <td>0</td>\n",
       "      <td>-16339324.0</td>\n",
       "    </tr>\n",
       "  </tbody>\n",
       "</table>\n",
       "<p>844 rows × 21 columns</p>\n",
       "</div>"
      ],
      "text/plain": [
       "            id trans_date_trans_time            cc_num  \\\n",
       "1            2   2019-04-10 21:49:53  4873783502705038   \n",
       "998        999   2020-04-19 23:48:28  4873783502705038   \n",
       "1883      1884   2020-03-24 07:29:02  4873783502705038   \n",
       "2853      2854   2019-11-16 03:01:43  4873783502705038   \n",
       "3784      3785   2019-08-05 07:02:57  4873783502705038   \n",
       "...        ...                   ...               ...   \n",
       "517582  517583   2019-12-26 22:39:46  4873783502705038   \n",
       "517972  517973   2019-06-25 13:58:30  4873783502705038   \n",
       "518156  518157   2020-04-07 21:05:33  4873783502705038   \n",
       "518899  518900   2020-04-07 01:32:17  4873783502705038   \n",
       "521643  521644   2019-09-29 22:50:13  4873783502705038   \n",
       "\n",
       "                                    merchant       category     amt gender  \\\n",
       "1                            fraud_Lynch Ltd   shopping_pos    6.32      F   \n",
       "998                        fraud_Barrows PLC   shopping_pos  243.44      F   \n",
       "1883                 fraud_McDermott-Weimann    grocery_pos  207.20      F   \n",
       "2853                    fraud_Gislason Group       misc_pos   65.07      F   \n",
       "3784                 fraud_Cartwright-Harris    grocery_pos  202.63      F   \n",
       "...                                      ...            ...     ...    ...   \n",
       "517582                       fraud_Beer-Jast      kids_pets   57.62      F   \n",
       "517972    fraud_Crist, Jakubowski and Littel           home   69.75      F   \n",
       "518156                   fraud_Schmeler-Howe  personal_care   45.58      F   \n",
       "518899                fraud_Rutherford-Mertz    grocery_pos  182.44      F   \n",
       "521643  fraud_Langworth, Boehm and Gulgowski   shopping_net    7.25      F   \n",
       "\n",
       "                           street        city state  ...      lat      long  \\\n",
       "1       194 Goodman Fall Apt. 569  Burlington    WA  ...  48.4786 -122.3345   \n",
       "998     194 Goodman Fall Apt. 569  Burlington    WA  ...  48.4786 -122.3345   \n",
       "1883    194 Goodman Fall Apt. 569  Burlington    WA  ...  48.4786 -122.3345   \n",
       "2853    194 Goodman Fall Apt. 569  Burlington    WA  ...  48.4786 -122.3345   \n",
       "3784    194 Goodman Fall Apt. 569  Burlington    WA  ...  48.4786 -122.3345   \n",
       "...                           ...         ...   ...  ...      ...       ...   \n",
       "517582  194 Goodman Fall Apt. 569  Burlington    WA  ...  48.4786 -122.3345   \n",
       "517972  194 Goodman Fall Apt. 569  Burlington    WA  ...  48.4786 -122.3345   \n",
       "518156  194 Goodman Fall Apt. 569  Burlington    WA  ...  48.4786 -122.3345   \n",
       "518899  194 Goodman Fall Apt. 569  Burlington    WA  ...  48.4786 -122.3345   \n",
       "521643  194 Goodman Fall Apt. 569  Burlington    WA  ...  48.4786 -122.3345   \n",
       "\n",
       "        city_pop                   job         dob   unix_time  merch_lat  \\\n",
       "1          14871  Public house manager  1974-03-10  1334094593  49.004316   \n",
       "998        14871  Public house manager  1974-03-10  1366415308  48.874646   \n",
       "1883       14871  Public house manager  1974-03-10  1364110142  48.551958   \n",
       "2853       14871  Public house manager  1974-03-10  1353034903  47.660714   \n",
       "3784       14871  Public house manager  1974-03-10  1344150177  48.584952   \n",
       "...          ...                   ...         ...         ...        ...   \n",
       "517582     14871  Public house manager  1974-03-10  1356561586  49.075953   \n",
       "517972     14871  Public house manager  1974-03-10  1340632710  47.961860   \n",
       "518156     14871  Public house manager  1974-03-10  1365368733  48.068222   \n",
       "518899     14871  Public house manager  1974-03-10  1365298337  48.616849   \n",
       "521643     14871  Public house manager  1974-03-10  1348959013  48.679828   \n",
       "\n",
       "        merch_long  is_fraud     recency  \n",
       "1      -122.745016         0        -1.0  \n",
       "998    -121.520279         0  32320715.0  \n",
       "1883   -121.677096         0  -2305166.0  \n",
       "2853   -123.022528         0 -11075239.0  \n",
       "3784   -122.266368         0  -8884726.0  \n",
       "...            ...       ...         ...  \n",
       "517582 -121.783698         0  15206068.0  \n",
       "517972 -121.804015         0 -15928876.0  \n",
       "518156 -121.774465         0  24736023.0  \n",
       "518899 -121.782265         0    -70396.0  \n",
       "521643 -122.771632         0 -16339324.0  \n",
       "\n",
       "[844 rows x 21 columns]"
      ]
     },
     "execution_count": 135,
     "metadata": {},
     "output_type": "execute_result"
    }
   ],
   "source": [
    "data[data[\"cc_num\"] == 4873783502705038]\n"
   ]
  },
  {
   "cell_type": "code",
   "execution_count": 136,
   "metadata": {
    "execution": {
     "iopub.execute_input": "2023-11-22T16:26:20.510492Z",
     "iopub.status.busy": "2023-11-22T16:26:20.510125Z",
     "iopub.status.idle": "2023-11-22T16:26:20.558306Z",
     "shell.execute_reply": "2023-11-22T16:26:20.556543Z",
     "shell.execute_reply.started": "2023-11-22T16:26:20.510456Z"
    }
   },
   "outputs": [],
   "source": [
    "data= data.drop(\"unix_time\",axis=1)"
   ]
  },
  {
   "cell_type": "code",
   "execution_count": 137,
   "metadata": {
    "execution": {
     "iopub.execute_input": "2023-11-22T16:26:20.560682Z",
     "iopub.status.busy": "2023-11-22T16:26:20.560324Z",
     "iopub.status.idle": "2023-11-22T16:26:20.702782Z",
     "shell.execute_reply": "2023-11-22T16:26:20.701788Z",
     "shell.execute_reply.started": "2023-11-22T16:26:20.560655Z"
    }
   },
   "outputs": [
    {
     "name": "stdout",
     "output_type": "stream",
     "text": [
      "<class 'pandas.core.frame.DataFrame'>\n",
      "RangeIndex: 523174 entries, 0 to 523173\n",
      "Data columns (total 20 columns):\n",
      " #   Column                 Non-Null Count   Dtype         \n",
      "---  ------                 --------------   -----         \n",
      " 0   id                     523174 non-null  int64         \n",
      " 1   trans_date_trans_time  523174 non-null  datetime64[ns]\n",
      " 2   cc_num                 523174 non-null  int64         \n",
      " 3   merchant               523174 non-null  object        \n",
      " 4   category               523174 non-null  object        \n",
      " 5   amt                    523174 non-null  float64       \n",
      " 6   gender                 523174 non-null  object        \n",
      " 7   street                 523174 non-null  object        \n",
      " 8   city                   523174 non-null  object        \n",
      " 9   state                  523174 non-null  object        \n",
      " 10  zip                    523174 non-null  int64         \n",
      " 11  lat                    523174 non-null  float64       \n",
      " 12  long                   523174 non-null  float64       \n",
      " 13  city_pop               523174 non-null  int64         \n",
      " 14  job                    523174 non-null  object        \n",
      " 15  dob                    523174 non-null  object        \n",
      " 16  merch_lat              523174 non-null  float64       \n",
      " 17  merch_long             523174 non-null  float64       \n",
      " 18  is_fraud               523174 non-null  int64         \n",
      " 19  recency                523174 non-null  float64       \n",
      "dtypes: datetime64[ns](1), float64(6), int64(5), object(8)\n",
      "memory usage: 79.8+ MB\n"
     ]
    }
   ],
   "source": [
    "data.info()"
   ]
  },
  {
   "cell_type": "code",
   "execution_count": 138,
   "metadata": {
    "execution": {
     "iopub.execute_input": "2023-11-22T16:26:20.704941Z",
     "iopub.status.busy": "2023-11-22T16:26:20.703944Z",
     "iopub.status.idle": "2023-11-22T16:26:20.760896Z",
     "shell.execute_reply": "2023-11-22T16:26:20.759094Z",
     "shell.execute_reply.started": "2023-11-22T16:26:20.704915Z"
    }
   },
   "outputs": [],
   "source": [
    "data= data.drop(\"id\",axis=1)"
   ]
  },
  {
   "cell_type": "code",
   "execution_count": 139,
   "metadata": {
    "execution": {
     "iopub.execute_input": "2023-11-22T16:26:20.762805Z",
     "iopub.status.busy": "2023-11-22T16:26:20.762415Z",
     "iopub.status.idle": "2023-11-22T16:26:20.898889Z",
     "shell.execute_reply": "2023-11-22T16:26:20.897565Z",
     "shell.execute_reply.started": "2023-11-22T16:26:20.762775Z"
    }
   },
   "outputs": [
    {
     "name": "stdout",
     "output_type": "stream",
     "text": [
      "<class 'pandas.core.frame.DataFrame'>\n",
      "RangeIndex: 523174 entries, 0 to 523173\n",
      "Data columns (total 19 columns):\n",
      " #   Column                 Non-Null Count   Dtype         \n",
      "---  ------                 --------------   -----         \n",
      " 0   trans_date_trans_time  523174 non-null  datetime64[ns]\n",
      " 1   cc_num                 523174 non-null  int64         \n",
      " 2   merchant               523174 non-null  object        \n",
      " 3   category               523174 non-null  object        \n",
      " 4   amt                    523174 non-null  float64       \n",
      " 5   gender                 523174 non-null  object        \n",
      " 6   street                 523174 non-null  object        \n",
      " 7   city                   523174 non-null  object        \n",
      " 8   state                  523174 non-null  object        \n",
      " 9   zip                    523174 non-null  int64         \n",
      " 10  lat                    523174 non-null  float64       \n",
      " 11  long                   523174 non-null  float64       \n",
      " 12  city_pop               523174 non-null  int64         \n",
      " 13  job                    523174 non-null  object        \n",
      " 14  dob                    523174 non-null  object        \n",
      " 15  merch_lat              523174 non-null  float64       \n",
      " 16  merch_long             523174 non-null  float64       \n",
      " 17  is_fraud               523174 non-null  int64         \n",
      " 18  recency                523174 non-null  float64       \n",
      "dtypes: datetime64[ns](1), float64(6), int64(4), object(8)\n",
      "memory usage: 75.8+ MB\n"
     ]
    }
   ],
   "source": [
    "data.info()"
   ]
  },
  {
   "cell_type": "code",
   "execution_count": 140,
   "metadata": {
    "execution": {
     "iopub.execute_input": "2023-11-22T16:26:20.900929Z",
     "iopub.status.busy": "2023-11-22T16:26:20.900617Z",
     "iopub.status.idle": "2023-11-22T16:26:20.941372Z",
     "shell.execute_reply": "2023-11-22T16:26:20.940502Z",
     "shell.execute_reply.started": "2023-11-22T16:26:20.9009Z"
    }
   },
   "outputs": [
    {
     "data": {
      "text/plain": [
       "1977-03-23    2301\n",
       "1981-08-29    1886\n",
       "1988-09-15    1858\n",
       "1955-05-06    1460\n",
       "1974-07-19    1298\n",
       "              ... \n",
       "1970-06-25       7\n",
       "1963-02-20       7\n",
       "1949-02-15       7\n",
       "1960-10-28       7\n",
       "1963-02-26       7\n",
       "Name: dob, Length: 968, dtype: int64"
      ]
     },
     "execution_count": 140,
     "metadata": {},
     "output_type": "execute_result"
    }
   ],
   "source": [
    "# checking do column\n",
    "data.dob.value_counts()"
   ]
  },
  {
   "cell_type": "code",
   "execution_count": 141,
   "metadata": {
    "execution": {
     "iopub.execute_input": "2023-11-22T16:26:20.949678Z",
     "iopub.status.busy": "2023-11-22T16:26:20.949338Z",
     "iopub.status.idle": "2023-11-22T16:26:21.121533Z",
     "shell.execute_reply": "2023-11-22T16:26:21.120197Z",
     "shell.execute_reply.started": "2023-11-22T16:26:20.949645Z"
    }
   },
   "outputs": [
    {
     "name": "stdout",
     "output_type": "stream",
     "text": [
      "<class 'pandas.core.frame.DataFrame'>\n",
      "RangeIndex: 523174 entries, 0 to 523173\n",
      "Data columns (total 18 columns):\n",
      " #   Column                 Non-Null Count   Dtype         \n",
      "---  ------                 --------------   -----         \n",
      " 0   trans_date_trans_time  523174 non-null  datetime64[ns]\n",
      " 1   cc_num                 523174 non-null  int64         \n",
      " 2   merchant               523174 non-null  object        \n",
      " 3   category               523174 non-null  object        \n",
      " 4   amt                    523174 non-null  float64       \n",
      " 5   gender                 523174 non-null  object        \n",
      " 6   street                 523174 non-null  object        \n",
      " 7   city                   523174 non-null  object        \n",
      " 8   state                  523174 non-null  object        \n",
      " 9   zip                    523174 non-null  int64         \n",
      " 10  lat                    523174 non-null  float64       \n",
      " 11  long                   523174 non-null  float64       \n",
      " 12  city_pop               523174 non-null  int64         \n",
      " 13  job                    523174 non-null  object        \n",
      " 14  merch_lat              523174 non-null  float64       \n",
      " 15  merch_long             523174 non-null  float64       \n",
      " 16  is_fraud               523174 non-null  int64         \n",
      " 17  recency                523174 non-null  float64       \n",
      "dtypes: datetime64[ns](1), float64(6), int64(4), object(7)\n",
      "memory usage: 71.8+ MB\n"
     ]
    }
   ],
   "source": [
    "# in predicting customer frauds, dob doesn't play any role that whether there will be a fraud with customer or not, so removing dob column too\n",
    "data = data.drop(\"dob\",axis=1)\n",
    "\n",
    "# checking columns now\n",
    "\n",
    "data.info()"
   ]
  },
  {
   "cell_type": "code",
   "execution_count": 142,
   "metadata": {
    "execution": {
     "iopub.execute_input": "2023-11-22T16:26:21.123483Z",
     "iopub.status.busy": "2023-11-22T16:26:21.123169Z",
     "iopub.status.idle": "2023-11-22T16:26:21.133621Z",
     "shell.execute_reply": "2023-11-22T16:26:21.132056Z",
     "shell.execute_reply.started": "2023-11-22T16:26:21.123458Z"
    }
   },
   "outputs": [],
   "source": [
    "# sometimes distance from the customer's home location to the merchant's location can prove out to be main reason for fraud, so taking the \n",
    "# difference of longitude and lattitude of respective columns\n",
    "data[\"lat_diff\"] = abs(data.lat - data.merch_lat)\n",
    "data[\"long_diff\"] = abs(data[\"long\"] - data[\"merch_long\"])\n"
   ]
  },
  {
   "cell_type": "code",
   "execution_count": 143,
   "metadata": {
    "execution": {
     "iopub.execute_input": "2023-11-22T16:26:21.136124Z",
     "iopub.status.busy": "2023-11-22T16:26:21.135134Z",
     "iopub.status.idle": "2023-11-22T16:26:21.159699Z",
     "shell.execute_reply": "2023-11-22T16:26:21.157746Z",
     "shell.execute_reply.started": "2023-11-22T16:26:21.136088Z"
    }
   },
   "outputs": [
    {
     "data": {
      "text/html": [
       "<div>\n",
       "<style scoped>\n",
       "    .dataframe tbody tr th:only-of-type {\n",
       "        vertical-align: middle;\n",
       "    }\n",
       "\n",
       "    .dataframe tbody tr th {\n",
       "        vertical-align: top;\n",
       "    }\n",
       "\n",
       "    .dataframe thead th {\n",
       "        text-align: right;\n",
       "    }\n",
       "</style>\n",
       "<table border=\"1\" class=\"dataframe\">\n",
       "  <thead>\n",
       "    <tr style=\"text-align: right;\">\n",
       "      <th></th>\n",
       "      <th>trans_date_trans_time</th>\n",
       "      <th>cc_num</th>\n",
       "      <th>merchant</th>\n",
       "      <th>category</th>\n",
       "      <th>amt</th>\n",
       "      <th>gender</th>\n",
       "      <th>street</th>\n",
       "      <th>city</th>\n",
       "      <th>state</th>\n",
       "      <th>zip</th>\n",
       "      <th>lat</th>\n",
       "      <th>long</th>\n",
       "      <th>city_pop</th>\n",
       "      <th>job</th>\n",
       "      <th>merch_lat</th>\n",
       "      <th>merch_long</th>\n",
       "      <th>is_fraud</th>\n",
       "      <th>recency</th>\n",
       "      <th>lat_diff</th>\n",
       "      <th>long_diff</th>\n",
       "    </tr>\n",
       "  </thead>\n",
       "  <tbody>\n",
       "    <tr>\n",
       "      <th>0</th>\n",
       "      <td>2019-12-15 10:35:10</td>\n",
       "      <td>3597926034019603</td>\n",
       "      <td>fraud_Ruecker Group</td>\n",
       "      <td>misc_net</td>\n",
       "      <td>7.19</td>\n",
       "      <td>M</td>\n",
       "      <td>83690 Nicholas Ports Apt. 846</td>\n",
       "      <td>Oakland</td>\n",
       "      <td>TN</td>\n",
       "      <td>38060</td>\n",
       "      <td>35.2229</td>\n",
       "      <td>-89.5518</td>\n",
       "      <td>9496</td>\n",
       "      <td>Furniture conservator/restorer</td>\n",
       "      <td>35.189455</td>\n",
       "      <td>-90.121666</td>\n",
       "      <td>0</td>\n",
       "      <td>-1.0</td>\n",
       "      <td>0.033445</td>\n",
       "      <td>0.569866</td>\n",
       "    </tr>\n",
       "    <tr>\n",
       "      <th>1</th>\n",
       "      <td>2019-04-10 21:49:53</td>\n",
       "      <td>4873783502705038</td>\n",
       "      <td>fraud_Lynch Ltd</td>\n",
       "      <td>shopping_pos</td>\n",
       "      <td>6.32</td>\n",
       "      <td>F</td>\n",
       "      <td>194 Goodman Fall Apt. 569</td>\n",
       "      <td>Burlington</td>\n",
       "      <td>WA</td>\n",
       "      <td>98233</td>\n",
       "      <td>48.4786</td>\n",
       "      <td>-122.3345</td>\n",
       "      <td>14871</td>\n",
       "      <td>Public house manager</td>\n",
       "      <td>49.004316</td>\n",
       "      <td>-122.745016</td>\n",
       "      <td>0</td>\n",
       "      <td>-1.0</td>\n",
       "      <td>0.525716</td>\n",
       "      <td>0.410516</td>\n",
       "    </tr>\n",
       "    <tr>\n",
       "      <th>2</th>\n",
       "      <td>2020-02-16 10:56:18</td>\n",
       "      <td>213161869125933</td>\n",
       "      <td>fraud_Bauch-Raynor</td>\n",
       "      <td>grocery_pos</td>\n",
       "      <td>147.59</td>\n",
       "      <td>F</td>\n",
       "      <td>3270 Scott Islands</td>\n",
       "      <td>East Andover</td>\n",
       "      <td>ME</td>\n",
       "      <td>4226</td>\n",
       "      <td>44.6084</td>\n",
       "      <td>-70.6993</td>\n",
       "      <td>190</td>\n",
       "      <td>Animal nutritionist</td>\n",
       "      <td>44.455449</td>\n",
       "      <td>-70.809148</td>\n",
       "      <td>0</td>\n",
       "      <td>-1.0</td>\n",
       "      <td>0.152951</td>\n",
       "      <td>0.109848</td>\n",
       "    </tr>\n",
       "    <tr>\n",
       "      <th>3</th>\n",
       "      <td>2020-04-30 16:14:16</td>\n",
       "      <td>374656033243756</td>\n",
       "      <td>fraud_Effertz, Welch and Schowalter</td>\n",
       "      <td>entertainment</td>\n",
       "      <td>32.40</td>\n",
       "      <td>M</td>\n",
       "      <td>1499 Michael Rue</td>\n",
       "      <td>Arlington</td>\n",
       "      <td>VA</td>\n",
       "      <td>22213</td>\n",
       "      <td>38.8954</td>\n",
       "      <td>-77.1633</td>\n",
       "      <td>207410</td>\n",
       "      <td>Mudlogger</td>\n",
       "      <td>39.476941</td>\n",
       "      <td>-77.613438</td>\n",
       "      <td>0</td>\n",
       "      <td>-1.0</td>\n",
       "      <td>0.581541</td>\n",
       "      <td>0.450138</td>\n",
       "    </tr>\n",
       "    <tr>\n",
       "      <th>4</th>\n",
       "      <td>2019-12-05 21:07:59</td>\n",
       "      <td>6011999606625827</td>\n",
       "      <td>fraud_Wilkinson LLC</td>\n",
       "      <td>personal_care</td>\n",
       "      <td>29.79</td>\n",
       "      <td>M</td>\n",
       "      <td>870 Rocha Drive</td>\n",
       "      <td>Harrington Park</td>\n",
       "      <td>NJ</td>\n",
       "      <td>7640</td>\n",
       "      <td>40.9918</td>\n",
       "      <td>-73.9800</td>\n",
       "      <td>4664</td>\n",
       "      <td>Radiographer, diagnostic</td>\n",
       "      <td>40.863808</td>\n",
       "      <td>-74.674018</td>\n",
       "      <td>0</td>\n",
       "      <td>-1.0</td>\n",
       "      <td>0.127992</td>\n",
       "      <td>0.694018</td>\n",
       "    </tr>\n",
       "  </tbody>\n",
       "</table>\n",
       "</div>"
      ],
      "text/plain": [
       "  trans_date_trans_time            cc_num  \\\n",
       "0   2019-12-15 10:35:10  3597926034019603   \n",
       "1   2019-04-10 21:49:53  4873783502705038   \n",
       "2   2020-02-16 10:56:18   213161869125933   \n",
       "3   2020-04-30 16:14:16   374656033243756   \n",
       "4   2019-12-05 21:07:59  6011999606625827   \n",
       "\n",
       "                              merchant       category     amt gender  \\\n",
       "0                  fraud_Ruecker Group       misc_net    7.19      M   \n",
       "1                      fraud_Lynch Ltd   shopping_pos    6.32      F   \n",
       "2                   fraud_Bauch-Raynor    grocery_pos  147.59      F   \n",
       "3  fraud_Effertz, Welch and Schowalter  entertainment   32.40      M   \n",
       "4                  fraud_Wilkinson LLC  personal_care   29.79      M   \n",
       "\n",
       "                          street             city state    zip      lat  \\\n",
       "0  83690 Nicholas Ports Apt. 846          Oakland    TN  38060  35.2229   \n",
       "1      194 Goodman Fall Apt. 569       Burlington    WA  98233  48.4786   \n",
       "2             3270 Scott Islands     East Andover    ME   4226  44.6084   \n",
       "3               1499 Michael Rue        Arlington    VA  22213  38.8954   \n",
       "4                870 Rocha Drive  Harrington Park    NJ   7640  40.9918   \n",
       "\n",
       "       long  city_pop                             job  merch_lat  merch_long  \\\n",
       "0  -89.5518      9496  Furniture conservator/restorer  35.189455  -90.121666   \n",
       "1 -122.3345     14871            Public house manager  49.004316 -122.745016   \n",
       "2  -70.6993       190             Animal nutritionist  44.455449  -70.809148   \n",
       "3  -77.1633    207410                       Mudlogger  39.476941  -77.613438   \n",
       "4  -73.9800      4664        Radiographer, diagnostic  40.863808  -74.674018   \n",
       "\n",
       "   is_fraud  recency  lat_diff  long_diff  \n",
       "0         0     -1.0  0.033445   0.569866  \n",
       "1         0     -1.0  0.525716   0.410516  \n",
       "2         0     -1.0  0.152951   0.109848  \n",
       "3         0     -1.0  0.581541   0.450138  \n",
       "4         0     -1.0  0.127992   0.694018  "
      ]
     },
     "execution_count": 143,
     "metadata": {},
     "output_type": "execute_result"
    }
   ],
   "source": [
    "# checking data\n",
    "data.head()"
   ]
  },
  {
   "cell_type": "code",
   "execution_count": 144,
   "metadata": {
    "execution": {
     "iopub.execute_input": "2023-11-22T16:26:21.161625Z",
     "iopub.status.busy": "2023-11-22T16:26:21.161271Z",
     "iopub.status.idle": "2023-11-22T16:26:21.171313Z",
     "shell.execute_reply": "2023-11-22T16:26:21.169894Z",
     "shell.execute_reply.started": "2023-11-22T16:26:21.161549Z"
    }
   },
   "outputs": [],
   "source": [
    "\n",
    "# Calculate displacement using lat_diff and long_diff\n",
    "data[\"displacement\"] = np.sqrt(pow((data[\"lat_diff\"] * 110), 2) + pow((data[\"long_diff\"] * 110), 2))\n"
   ]
  },
  {
   "cell_type": "code",
   "execution_count": 145,
   "metadata": {
    "execution": {
     "iopub.execute_input": "2023-11-22T16:26:21.173057Z",
     "iopub.status.busy": "2023-11-22T16:26:21.172744Z",
     "iopub.status.idle": "2023-11-22T16:26:21.197895Z",
     "shell.execute_reply": "2023-11-22T16:26:21.196474Z",
     "shell.execute_reply.started": "2023-11-22T16:26:21.173031Z"
    }
   },
   "outputs": [
    {
     "data": {
      "text/html": [
       "<div>\n",
       "<style scoped>\n",
       "    .dataframe tbody tr th:only-of-type {\n",
       "        vertical-align: middle;\n",
       "    }\n",
       "\n",
       "    .dataframe tbody tr th {\n",
       "        vertical-align: top;\n",
       "    }\n",
       "\n",
       "    .dataframe thead th {\n",
       "        text-align: right;\n",
       "    }\n",
       "</style>\n",
       "<table border=\"1\" class=\"dataframe\">\n",
       "  <thead>\n",
       "    <tr style=\"text-align: right;\">\n",
       "      <th></th>\n",
       "      <th>trans_date_trans_time</th>\n",
       "      <th>cc_num</th>\n",
       "      <th>merchant</th>\n",
       "      <th>category</th>\n",
       "      <th>amt</th>\n",
       "      <th>gender</th>\n",
       "      <th>street</th>\n",
       "      <th>city</th>\n",
       "      <th>state</th>\n",
       "      <th>zip</th>\n",
       "      <th>...</th>\n",
       "      <th>long</th>\n",
       "      <th>city_pop</th>\n",
       "      <th>job</th>\n",
       "      <th>merch_lat</th>\n",
       "      <th>merch_long</th>\n",
       "      <th>is_fraud</th>\n",
       "      <th>recency</th>\n",
       "      <th>lat_diff</th>\n",
       "      <th>long_diff</th>\n",
       "      <th>displacement</th>\n",
       "    </tr>\n",
       "  </thead>\n",
       "  <tbody>\n",
       "    <tr>\n",
       "      <th>0</th>\n",
       "      <td>2019-12-15 10:35:10</td>\n",
       "      <td>3597926034019603</td>\n",
       "      <td>fraud_Ruecker Group</td>\n",
       "      <td>misc_net</td>\n",
       "      <td>7.19</td>\n",
       "      <td>M</td>\n",
       "      <td>83690 Nicholas Ports Apt. 846</td>\n",
       "      <td>Oakland</td>\n",
       "      <td>TN</td>\n",
       "      <td>38060</td>\n",
       "      <td>...</td>\n",
       "      <td>-89.5518</td>\n",
       "      <td>9496</td>\n",
       "      <td>Furniture conservator/restorer</td>\n",
       "      <td>35.189455</td>\n",
       "      <td>-90.121666</td>\n",
       "      <td>0</td>\n",
       "      <td>-1.0</td>\n",
       "      <td>0.033445</td>\n",
       "      <td>0.569866</td>\n",
       "      <td>62.793125</td>\n",
       "    </tr>\n",
       "    <tr>\n",
       "      <th>1</th>\n",
       "      <td>2019-04-10 21:49:53</td>\n",
       "      <td>4873783502705038</td>\n",
       "      <td>fraud_Lynch Ltd</td>\n",
       "      <td>shopping_pos</td>\n",
       "      <td>6.32</td>\n",
       "      <td>F</td>\n",
       "      <td>194 Goodman Fall Apt. 569</td>\n",
       "      <td>Burlington</td>\n",
       "      <td>WA</td>\n",
       "      <td>98233</td>\n",
       "      <td>...</td>\n",
       "      <td>-122.3345</td>\n",
       "      <td>14871</td>\n",
       "      <td>Public house manager</td>\n",
       "      <td>49.004316</td>\n",
       "      <td>-122.745016</td>\n",
       "      <td>0</td>\n",
       "      <td>-1.0</td>\n",
       "      <td>0.525716</td>\n",
       "      <td>0.410516</td>\n",
       "      <td>73.370965</td>\n",
       "    </tr>\n",
       "    <tr>\n",
       "      <th>2</th>\n",
       "      <td>2020-02-16 10:56:18</td>\n",
       "      <td>213161869125933</td>\n",
       "      <td>fraud_Bauch-Raynor</td>\n",
       "      <td>grocery_pos</td>\n",
       "      <td>147.59</td>\n",
       "      <td>F</td>\n",
       "      <td>3270 Scott Islands</td>\n",
       "      <td>East Andover</td>\n",
       "      <td>ME</td>\n",
       "      <td>4226</td>\n",
       "      <td>...</td>\n",
       "      <td>-70.6993</td>\n",
       "      <td>190</td>\n",
       "      <td>Animal nutritionist</td>\n",
       "      <td>44.455449</td>\n",
       "      <td>-70.809148</td>\n",
       "      <td>0</td>\n",
       "      <td>-1.0</td>\n",
       "      <td>0.152951</td>\n",
       "      <td>0.109848</td>\n",
       "      <td>20.714081</td>\n",
       "    </tr>\n",
       "    <tr>\n",
       "      <th>3</th>\n",
       "      <td>2020-04-30 16:14:16</td>\n",
       "      <td>374656033243756</td>\n",
       "      <td>fraud_Effertz, Welch and Schowalter</td>\n",
       "      <td>entertainment</td>\n",
       "      <td>32.40</td>\n",
       "      <td>M</td>\n",
       "      <td>1499 Michael Rue</td>\n",
       "      <td>Arlington</td>\n",
       "      <td>VA</td>\n",
       "      <td>22213</td>\n",
       "      <td>...</td>\n",
       "      <td>-77.1633</td>\n",
       "      <td>207410</td>\n",
       "      <td>Mudlogger</td>\n",
       "      <td>39.476941</td>\n",
       "      <td>-77.613438</td>\n",
       "      <td>0</td>\n",
       "      <td>-1.0</td>\n",
       "      <td>0.581541</td>\n",
       "      <td>0.450138</td>\n",
       "      <td>80.894074</td>\n",
       "    </tr>\n",
       "    <tr>\n",
       "      <th>4</th>\n",
       "      <td>2019-12-05 21:07:59</td>\n",
       "      <td>6011999606625827</td>\n",
       "      <td>fraud_Wilkinson LLC</td>\n",
       "      <td>personal_care</td>\n",
       "      <td>29.79</td>\n",
       "      <td>M</td>\n",
       "      <td>870 Rocha Drive</td>\n",
       "      <td>Harrington Park</td>\n",
       "      <td>NJ</td>\n",
       "      <td>7640</td>\n",
       "      <td>...</td>\n",
       "      <td>-73.9800</td>\n",
       "      <td>4664</td>\n",
       "      <td>Radiographer, diagnostic</td>\n",
       "      <td>40.863808</td>\n",
       "      <td>-74.674018</td>\n",
       "      <td>0</td>\n",
       "      <td>-1.0</td>\n",
       "      <td>0.127992</td>\n",
       "      <td>0.694018</td>\n",
       "      <td>77.629373</td>\n",
       "    </tr>\n",
       "  </tbody>\n",
       "</table>\n",
       "<p>5 rows × 21 columns</p>\n",
       "</div>"
      ],
      "text/plain": [
       "  trans_date_trans_time            cc_num  \\\n",
       "0   2019-12-15 10:35:10  3597926034019603   \n",
       "1   2019-04-10 21:49:53  4873783502705038   \n",
       "2   2020-02-16 10:56:18   213161869125933   \n",
       "3   2020-04-30 16:14:16   374656033243756   \n",
       "4   2019-12-05 21:07:59  6011999606625827   \n",
       "\n",
       "                              merchant       category     amt gender  \\\n",
       "0                  fraud_Ruecker Group       misc_net    7.19      M   \n",
       "1                      fraud_Lynch Ltd   shopping_pos    6.32      F   \n",
       "2                   fraud_Bauch-Raynor    grocery_pos  147.59      F   \n",
       "3  fraud_Effertz, Welch and Schowalter  entertainment   32.40      M   \n",
       "4                  fraud_Wilkinson LLC  personal_care   29.79      M   \n",
       "\n",
       "                          street             city state    zip  ...      long  \\\n",
       "0  83690 Nicholas Ports Apt. 846          Oakland    TN  38060  ...  -89.5518   \n",
       "1      194 Goodman Fall Apt. 569       Burlington    WA  98233  ... -122.3345   \n",
       "2             3270 Scott Islands     East Andover    ME   4226  ...  -70.6993   \n",
       "3               1499 Michael Rue        Arlington    VA  22213  ...  -77.1633   \n",
       "4                870 Rocha Drive  Harrington Park    NJ   7640  ...  -73.9800   \n",
       "\n",
       "   city_pop                             job  merch_lat  merch_long  is_fraud  \\\n",
       "0      9496  Furniture conservator/restorer  35.189455  -90.121666         0   \n",
       "1     14871            Public house manager  49.004316 -122.745016         0   \n",
       "2       190             Animal nutritionist  44.455449  -70.809148         0   \n",
       "3    207410                       Mudlogger  39.476941  -77.613438         0   \n",
       "4      4664        Radiographer, diagnostic  40.863808  -74.674018         0   \n",
       "\n",
       "   recency  lat_diff  long_diff  displacement  \n",
       "0     -1.0  0.033445   0.569866     62.793125  \n",
       "1     -1.0  0.525716   0.410516     73.370965  \n",
       "2     -1.0  0.152951   0.109848     20.714081  \n",
       "3     -1.0  0.581541   0.450138     80.894074  \n",
       "4     -1.0  0.127992   0.694018     77.629373  \n",
       "\n",
       "[5 rows x 21 columns]"
      ]
     },
     "execution_count": 145,
     "metadata": {},
     "output_type": "execute_result"
    }
   ],
   "source": [
    "data.head()"
   ]
  },
  {
   "cell_type": "code",
   "execution_count": 146,
   "metadata": {
    "execution": {
     "iopub.execute_input": "2023-11-22T16:26:21.199728Z",
     "iopub.status.busy": "2023-11-22T16:26:21.199374Z",
     "iopub.status.idle": "2023-11-22T16:26:21.329938Z",
     "shell.execute_reply": "2023-11-22T16:26:21.328605Z",
     "shell.execute_reply.started": "2023-11-22T16:26:21.199692Z"
    }
   },
   "outputs": [
    {
     "name": "stdout",
     "output_type": "stream",
     "text": [
      "<class 'pandas.core.frame.DataFrame'>\n",
      "RangeIndex: 523174 entries, 0 to 523173\n",
      "Data columns (total 21 columns):\n",
      " #   Column                 Non-Null Count   Dtype         \n",
      "---  ------                 --------------   -----         \n",
      " 0   trans_date_trans_time  523174 non-null  datetime64[ns]\n",
      " 1   cc_num                 523174 non-null  int64         \n",
      " 2   merchant               523174 non-null  object        \n",
      " 3   category               523174 non-null  object        \n",
      " 4   amt                    523174 non-null  float64       \n",
      " 5   gender                 523174 non-null  object        \n",
      " 6   street                 523174 non-null  object        \n",
      " 7   city                   523174 non-null  object        \n",
      " 8   state                  523174 non-null  object        \n",
      " 9   zip                    523174 non-null  int64         \n",
      " 10  lat                    523174 non-null  float64       \n",
      " 11  long                   523174 non-null  float64       \n",
      " 12  city_pop               523174 non-null  int64         \n",
      " 13  job                    523174 non-null  object        \n",
      " 14  merch_lat              523174 non-null  float64       \n",
      " 15  merch_long             523174 non-null  float64       \n",
      " 16  is_fraud               523174 non-null  int64         \n",
      " 17  recency                523174 non-null  float64       \n",
      " 18  lat_diff               523174 non-null  float64       \n",
      " 19  long_diff              523174 non-null  float64       \n",
      " 20  displacement           523174 non-null  float64       \n",
      "dtypes: datetime64[ns](1), float64(9), int64(4), object(7)\n",
      "memory usage: 83.8+ MB\n"
     ]
    }
   ],
   "source": [
    "data.info()"
   ]
  },
  {
   "cell_type": "code",
   "execution_count": 147,
   "metadata": {
    "execution": {
     "iopub.execute_input": "2023-11-22T16:26:21.332069Z",
     "iopub.status.busy": "2023-11-22T16:26:21.331659Z",
     "iopub.status.idle": "2023-11-22T16:26:21.369639Z",
     "shell.execute_reply": "2023-11-22T16:26:21.368618Z",
     "shell.execute_reply.started": "2023-11-22T16:26:21.332038Z"
    }
   },
   "outputs": [],
   "source": [
    "# now since we got the displacement so longitudes and lattitudes columns are of no use now, so we can remove them\n",
    "data = data.drop(columns = [\"lat\",\"long\",\"merch_lat\",\"merch_long\",\"lat_diff\",\"long_diff\"])"
   ]
  },
  {
   "cell_type": "code",
   "execution_count": 148,
   "metadata": {
    "execution": {
     "iopub.execute_input": "2023-11-22T16:26:21.371105Z",
     "iopub.status.busy": "2023-11-22T16:26:21.370792Z",
     "iopub.status.idle": "2023-11-22T16:26:21.491082Z",
     "shell.execute_reply": "2023-11-22T16:26:21.489743Z",
     "shell.execute_reply.started": "2023-11-22T16:26:21.37108Z"
    }
   },
   "outputs": [
    {
     "name": "stdout",
     "output_type": "stream",
     "text": [
      "<class 'pandas.core.frame.DataFrame'>\n",
      "RangeIndex: 523174 entries, 0 to 523173\n",
      "Data columns (total 15 columns):\n",
      " #   Column                 Non-Null Count   Dtype         \n",
      "---  ------                 --------------   -----         \n",
      " 0   trans_date_trans_time  523174 non-null  datetime64[ns]\n",
      " 1   cc_num                 523174 non-null  int64         \n",
      " 2   merchant               523174 non-null  object        \n",
      " 3   category               523174 non-null  object        \n",
      " 4   amt                    523174 non-null  float64       \n",
      " 5   gender                 523174 non-null  object        \n",
      " 6   street                 523174 non-null  object        \n",
      " 7   city                   523174 non-null  object        \n",
      " 8   state                  523174 non-null  object        \n",
      " 9   zip                    523174 non-null  int64         \n",
      " 10  city_pop               523174 non-null  int64         \n",
      " 11  job                    523174 non-null  object        \n",
      " 12  is_fraud               523174 non-null  int64         \n",
      " 13  recency                523174 non-null  float64       \n",
      " 14  displacement           523174 non-null  float64       \n",
      "dtypes: datetime64[ns](1), float64(3), int64(4), object(7)\n",
      "memory usage: 59.9+ MB\n"
     ]
    }
   ],
   "source": [
    "data.info()"
   ]
  },
  {
   "cell_type": "code",
   "execution_count": 149,
   "metadata": {
    "execution": {
     "iopub.execute_input": "2023-11-22T16:26:21.492695Z",
     "iopub.status.busy": "2023-11-22T16:26:21.492389Z",
     "iopub.status.idle": "2023-11-22T16:26:21.618366Z",
     "shell.execute_reply": "2023-11-22T16:26:21.617416Z",
     "shell.execute_reply.started": "2023-11-22T16:26:21.492671Z"
    }
   },
   "outputs": [
    {
     "name": "stdout",
     "output_type": "stream",
     "text": [
      "<class 'pandas.core.frame.DataFrame'>\n",
      "RangeIndex: 523174 entries, 0 to 523173\n",
      "Data columns (total 12 columns):\n",
      " #   Column                 Non-Null Count   Dtype         \n",
      "---  ------                 --------------   -----         \n",
      " 0   trans_date_trans_time  523174 non-null  datetime64[ns]\n",
      " 1   cc_num                 523174 non-null  int64         \n",
      " 2   merchant               523174 non-null  object        \n",
      " 3   category               523174 non-null  object        \n",
      " 4   amt                    523174 non-null  float64       \n",
      " 5   gender                 523174 non-null  object        \n",
      " 6   state                  523174 non-null  object        \n",
      " 7   city_pop               523174 non-null  int64         \n",
      " 8   job                    523174 non-null  object        \n",
      " 9   is_fraud               523174 non-null  int64         \n",
      " 10  recency                523174 non-null  float64       \n",
      " 11  displacement           523174 non-null  float64       \n",
      "dtypes: datetime64[ns](1), float64(3), int64(3), object(5)\n",
      "memory usage: 47.9+ MB\n"
     ]
    }
   ],
   "source": [
    "data= data.drop(columns = [\"city\",\"zip\",\"street\"])\n",
    "data.info()"
   ]
  },
  {
   "cell_type": "code",
   "execution_count": 150,
   "metadata": {
    "execution": {
     "iopub.execute_input": "2023-11-22T16:26:21.620163Z",
     "iopub.status.busy": "2023-11-22T16:26:21.619816Z",
     "iopub.status.idle": "2023-11-22T16:26:21.649603Z",
     "shell.execute_reply": "2023-11-22T16:26:21.648031Z",
     "shell.execute_reply.started": "2023-11-22T16:26:21.620131Z"
    }
   },
   "outputs": [
    {
     "data": {
      "text/plain": [
       "count    523174.000000\n",
       "mean         84.170912\n",
       "std          31.318124\n",
       "min           0.240681\n",
       "25%          62.066235\n",
       "50%          87.735180\n",
       "75%         107.482548\n",
       "max         155.469150\n",
       "Name: displacement, dtype: float64"
      ]
     },
     "execution_count": 150,
     "metadata": {},
     "output_type": "execute_result"
    }
   ],
   "source": [
    "data.displacement.describe()"
   ]
  },
  {
   "cell_type": "code",
   "execution_count": 151,
   "metadata": {
    "execution": {
     "iopub.execute_input": "2023-11-22T16:26:21.652185Z",
     "iopub.status.busy": "2023-11-22T16:26:21.651371Z",
     "iopub.status.idle": "2023-11-22T16:26:21.811162Z",
     "shell.execute_reply": "2023-11-22T16:26:21.809626Z",
     "shell.execute_reply.started": "2023-11-22T16:26:21.652095Z"
    }
   },
   "outputs": [
    {
     "name": "stdout",
     "output_type": "stream",
     "text": [
      "<class 'pandas.core.frame.DataFrame'>\n",
      "RangeIndex: 523174 entries, 0 to 523173\n",
      "Data columns (total 13 columns):\n",
      " #   Column                 Non-Null Count   Dtype         \n",
      "---  ------                 --------------   -----         \n",
      " 0   trans_date_trans_time  523174 non-null  datetime64[ns]\n",
      " 1   cc_num                 523174 non-null  int64         \n",
      " 2   merchant               523174 non-null  object        \n",
      " 3   category               523174 non-null  object        \n",
      " 4   amt                    523174 non-null  float64       \n",
      " 5   gender                 523174 non-null  object        \n",
      " 6   state                  523174 non-null  object        \n",
      " 7   city_pop               523174 non-null  int64         \n",
      " 8   job                    523174 non-null  object        \n",
      " 9   is_fraud               523174 non-null  int64         \n",
      " 10  recency                523174 non-null  float64       \n",
      " 11  displacement           523174 non-null  float64       \n",
      " 12  location               523174 non-null  object        \n",
      "dtypes: datetime64[ns](1), float64(3), int64(3), object(6)\n",
      "memory usage: 51.9+ MB\n"
     ]
    }
   ],
   "source": [
    "data.loc[(data[\"displacement\"]<45),[\"location\"]] = \"Nearby\"\n",
    "data.loc[((data[\"displacement\"]>45) & (data[\"displacement\"]<90)),[\"location\"]] = \"Far Away\"\n",
    "data.loc[(data[\"displacement\"]>90),[\"location\"]] = \"Long Distance\"\n",
    "data.info()"
   ]
  },
  {
   "cell_type": "code",
   "execution_count": 152,
   "metadata": {
    "execution": {
     "iopub.execute_input": "2023-11-22T16:26:21.814622Z",
     "iopub.status.busy": "2023-11-22T16:26:21.813814Z",
     "iopub.status.idle": "2023-11-22T16:26:21.842097Z",
     "shell.execute_reply": "2023-11-22T16:26:21.840742Z",
     "shell.execute_reply.started": "2023-11-22T16:26:21.814588Z"
    }
   },
   "outputs": [
    {
     "data": {
      "text/plain": [
       "Long Distance    0.473741\n",
       "Far Away         0.395039\n",
       "Nearby           0.131220\n",
       "Name: location, dtype: float64"
      ]
     },
     "execution_count": 152,
     "metadata": {},
     "output_type": "execute_result"
    }
   ],
   "source": [
    "data.location.value_counts(normalize = True)"
   ]
  },
  {
   "cell_type": "code",
   "execution_count": 153,
   "metadata": {
    "execution": {
     "iopub.execute_input": "2023-11-22T16:26:21.843743Z",
     "iopub.status.busy": "2023-11-22T16:26:21.843464Z",
     "iopub.status.idle": "2023-11-22T16:26:22.061712Z",
     "shell.execute_reply": "2023-11-22T16:26:22.060917Z",
     "shell.execute_reply.started": "2023-11-22T16:26:21.843719Z"
    }
   },
   "outputs": [],
   "source": [
    "data[\"Time\"] = pd.to_datetime(data[\"trans_date_trans_time\"],\"%H:%M\").dt.time"
   ]
  },
  {
   "cell_type": "code",
   "execution_count": 154,
   "metadata": {
    "execution": {
     "iopub.execute_input": "2023-11-22T16:26:22.064007Z",
     "iopub.status.busy": "2023-11-22T16:26:22.062818Z",
     "iopub.status.idle": "2023-11-22T16:26:22.083702Z",
     "shell.execute_reply": "2023-11-22T16:26:22.081679Z",
     "shell.execute_reply.started": "2023-11-22T16:26:22.063971Z"
    }
   },
   "outputs": [
    {
     "data": {
      "text/html": [
       "<div>\n",
       "<style scoped>\n",
       "    .dataframe tbody tr th:only-of-type {\n",
       "        vertical-align: middle;\n",
       "    }\n",
       "\n",
       "    .dataframe tbody tr th {\n",
       "        vertical-align: top;\n",
       "    }\n",
       "\n",
       "    .dataframe thead th {\n",
       "        text-align: right;\n",
       "    }\n",
       "</style>\n",
       "<table border=\"1\" class=\"dataframe\">\n",
       "  <thead>\n",
       "    <tr style=\"text-align: right;\">\n",
       "      <th></th>\n",
       "      <th>trans_date_trans_time</th>\n",
       "      <th>cc_num</th>\n",
       "      <th>merchant</th>\n",
       "      <th>category</th>\n",
       "      <th>amt</th>\n",
       "      <th>gender</th>\n",
       "      <th>state</th>\n",
       "      <th>city_pop</th>\n",
       "      <th>job</th>\n",
       "      <th>is_fraud</th>\n",
       "      <th>recency</th>\n",
       "      <th>displacement</th>\n",
       "      <th>location</th>\n",
       "      <th>Time</th>\n",
       "    </tr>\n",
       "  </thead>\n",
       "  <tbody>\n",
       "    <tr>\n",
       "      <th>0</th>\n",
       "      <td>2019-12-15 10:35:10</td>\n",
       "      <td>3597926034019603</td>\n",
       "      <td>fraud_Ruecker Group</td>\n",
       "      <td>misc_net</td>\n",
       "      <td>7.19</td>\n",
       "      <td>M</td>\n",
       "      <td>TN</td>\n",
       "      <td>9496</td>\n",
       "      <td>Furniture conservator/restorer</td>\n",
       "      <td>0</td>\n",
       "      <td>-1.0</td>\n",
       "      <td>62.793125</td>\n",
       "      <td>Far Away</td>\n",
       "      <td>10:35:10</td>\n",
       "    </tr>\n",
       "    <tr>\n",
       "      <th>1</th>\n",
       "      <td>2019-04-10 21:49:53</td>\n",
       "      <td>4873783502705038</td>\n",
       "      <td>fraud_Lynch Ltd</td>\n",
       "      <td>shopping_pos</td>\n",
       "      <td>6.32</td>\n",
       "      <td>F</td>\n",
       "      <td>WA</td>\n",
       "      <td>14871</td>\n",
       "      <td>Public house manager</td>\n",
       "      <td>0</td>\n",
       "      <td>-1.0</td>\n",
       "      <td>73.370965</td>\n",
       "      <td>Far Away</td>\n",
       "      <td>21:49:53</td>\n",
       "    </tr>\n",
       "    <tr>\n",
       "      <th>2</th>\n",
       "      <td>2020-02-16 10:56:18</td>\n",
       "      <td>213161869125933</td>\n",
       "      <td>fraud_Bauch-Raynor</td>\n",
       "      <td>grocery_pos</td>\n",
       "      <td>147.59</td>\n",
       "      <td>F</td>\n",
       "      <td>ME</td>\n",
       "      <td>190</td>\n",
       "      <td>Animal nutritionist</td>\n",
       "      <td>0</td>\n",
       "      <td>-1.0</td>\n",
       "      <td>20.714081</td>\n",
       "      <td>Nearby</td>\n",
       "      <td>10:56:18</td>\n",
       "    </tr>\n",
       "    <tr>\n",
       "      <th>3</th>\n",
       "      <td>2020-04-30 16:14:16</td>\n",
       "      <td>374656033243756</td>\n",
       "      <td>fraud_Effertz, Welch and Schowalter</td>\n",
       "      <td>entertainment</td>\n",
       "      <td>32.40</td>\n",
       "      <td>M</td>\n",
       "      <td>VA</td>\n",
       "      <td>207410</td>\n",
       "      <td>Mudlogger</td>\n",
       "      <td>0</td>\n",
       "      <td>-1.0</td>\n",
       "      <td>80.894074</td>\n",
       "      <td>Far Away</td>\n",
       "      <td>16:14:16</td>\n",
       "    </tr>\n",
       "    <tr>\n",
       "      <th>4</th>\n",
       "      <td>2019-12-05 21:07:59</td>\n",
       "      <td>6011999606625827</td>\n",
       "      <td>fraud_Wilkinson LLC</td>\n",
       "      <td>personal_care</td>\n",
       "      <td>29.79</td>\n",
       "      <td>M</td>\n",
       "      <td>NJ</td>\n",
       "      <td>4664</td>\n",
       "      <td>Radiographer, diagnostic</td>\n",
       "      <td>0</td>\n",
       "      <td>-1.0</td>\n",
       "      <td>77.629373</td>\n",
       "      <td>Far Away</td>\n",
       "      <td>21:07:59</td>\n",
       "    </tr>\n",
       "  </tbody>\n",
       "</table>\n",
       "</div>"
      ],
      "text/plain": [
       "  trans_date_trans_time            cc_num  \\\n",
       "0   2019-12-15 10:35:10  3597926034019603   \n",
       "1   2019-04-10 21:49:53  4873783502705038   \n",
       "2   2020-02-16 10:56:18   213161869125933   \n",
       "3   2020-04-30 16:14:16   374656033243756   \n",
       "4   2019-12-05 21:07:59  6011999606625827   \n",
       "\n",
       "                              merchant       category     amt gender state  \\\n",
       "0                  fraud_Ruecker Group       misc_net    7.19      M    TN   \n",
       "1                      fraud_Lynch Ltd   shopping_pos    6.32      F    WA   \n",
       "2                   fraud_Bauch-Raynor    grocery_pos  147.59      F    ME   \n",
       "3  fraud_Effertz, Welch and Schowalter  entertainment   32.40      M    VA   \n",
       "4                  fraud_Wilkinson LLC  personal_care   29.79      M    NJ   \n",
       "\n",
       "   city_pop                             job  is_fraud  recency  displacement  \\\n",
       "0      9496  Furniture conservator/restorer         0     -1.0     62.793125   \n",
       "1     14871            Public house manager         0     -1.0     73.370965   \n",
       "2       190             Animal nutritionist         0     -1.0     20.714081   \n",
       "3    207410                       Mudlogger         0     -1.0     80.894074   \n",
       "4      4664        Radiographer, diagnostic         0     -1.0     77.629373   \n",
       "\n",
       "   location      Time  \n",
       "0  Far Away  10:35:10  \n",
       "1  Far Away  21:49:53  \n",
       "2    Nearby  10:56:18  \n",
       "3  Far Away  16:14:16  \n",
       "4  Far Away  21:07:59  "
      ]
     },
     "execution_count": 154,
     "metadata": {},
     "output_type": "execute_result"
    }
   ],
   "source": [
    "data.head()"
   ]
  },
  {
   "cell_type": "code",
   "execution_count": 155,
   "metadata": {
    "execution": {
     "iopub.execute_input": "2023-11-22T16:26:22.085825Z",
     "iopub.status.busy": "2023-11-22T16:26:22.085438Z",
     "iopub.status.idle": "2023-11-22T16:26:22.125827Z",
     "shell.execute_reply": "2023-11-22T16:26:22.124297Z",
     "shell.execute_reply.started": "2023-11-22T16:26:22.085793Z"
    }
   },
   "outputs": [],
   "source": [
    "data[\"Time\"] = pd.to_datetime(data[\"trans_date_trans_time\"]).dt.hour"
   ]
  },
  {
   "cell_type": "code",
   "execution_count": 156,
   "metadata": {
    "execution": {
     "iopub.execute_input": "2023-11-22T16:26:22.127724Z",
     "iopub.status.busy": "2023-11-22T16:26:22.127401Z",
     "iopub.status.idle": "2023-11-22T16:26:22.210435Z",
     "shell.execute_reply": "2023-11-22T16:26:22.208986Z",
     "shell.execute_reply.started": "2023-11-22T16:26:22.127698Z"
    }
   },
   "outputs": [],
   "source": [
    "data[\"Time\"] = pd.to_datetime(data[\"trans_date_trans_time\"]).dt.hour\n",
    "# segregating city_population tab on the basis of less dense, adequately densed, densely populated\n",
    "data.loc[(data[\"city_pop\"]<10000),[\"city_pop_segment\"]] = \"Less Dense\"\n",
    "data.loc[((data[\"city_pop\"]>10000) & (data[\"city_pop\"]<50000)),[\"city_pop_segment\"]] = \"Adequately Dense\"\n",
    "data.loc[(data[\"city_pop\"]>50000),[\"city_pop_segment\"]] = \"Densely populated\""
   ]
  },
  {
   "cell_type": "code",
   "execution_count": 157,
   "metadata": {
    "execution": {
     "iopub.execute_input": "2023-11-22T16:26:22.21212Z",
     "iopub.status.busy": "2023-11-22T16:26:22.211795Z",
     "iopub.status.idle": "2023-11-22T16:26:22.239843Z",
     "shell.execute_reply": "2023-11-22T16:26:22.238804Z",
     "shell.execute_reply.started": "2023-11-22T16:26:22.212095Z"
    }
   },
   "outputs": [
    {
     "data": {
      "text/plain": [
       "Less Dense           0.700341\n",
       "Densely populated    0.186768\n",
       "Adequately Dense     0.112892\n",
       "Name: city_pop_segment, dtype: float64"
      ]
     },
     "execution_count": 157,
     "metadata": {},
     "output_type": "execute_result"
    }
   ],
   "source": [
    "data.city_pop_segment.value_counts(normalize = True)"
   ]
  },
  {
   "cell_type": "code",
   "execution_count": 158,
   "metadata": {
    "execution": {
     "iopub.execute_input": "2023-11-22T16:26:22.243059Z",
     "iopub.status.busy": "2023-11-22T16:26:22.241654Z",
     "iopub.status.idle": "2023-11-22T16:26:22.295777Z",
     "shell.execute_reply": "2023-11-22T16:26:22.294281Z",
     "shell.execute_reply.started": "2023-11-22T16:26:22.242993Z"
    }
   },
   "outputs": [],
   "source": [
    "data = data.drop(\"city_pop\",axis=1)"
   ]
  },
  {
   "cell_type": "code",
   "execution_count": 159,
   "metadata": {
    "execution": {
     "iopub.execute_input": "2023-11-22T16:26:22.29745Z",
     "iopub.status.busy": "2023-11-22T16:26:22.29712Z",
     "iopub.status.idle": "2023-11-22T16:26:22.524757Z",
     "shell.execute_reply": "2023-11-22T16:26:22.52314Z",
     "shell.execute_reply.started": "2023-11-22T16:26:22.297419Z"
    }
   },
   "outputs": [
    {
     "data": {
      "text/plain": [
       "First Transaction     0.500747\n",
       "After 24 hours        0.496600\n",
       "After Half-Day        0.001263\n",
       "Within 6 hours        0.000596\n",
       "After 6 hours         0.000566\n",
       "Recent_Transaction    0.000227\n",
       "Name: recency_segment, dtype: float64"
      ]
     },
     "execution_count": 159,
     "metadata": {},
     "output_type": "execute_result"
    }
   ],
   "source": [
    "data.recency = data.recency.apply(lambda x: float((x/60)/60))\n",
    "# dividing recency to segments based on number of hours passed\n",
    "data.loc[(data[\"recency\"]<1),[\"recency_segment\"]] = \"Recent_Transaction\"\n",
    "data.loc[((data[\"recency\"]>1) & (data[\"recency\"]<6)),[\"recency_segment\"]] = \"Within 6 hours\"\n",
    "data.loc[((data[\"recency\"]>6) & (data[\"recency\"]<12)),[\"recency_segment\"]] = \"After 6 hours\"\n",
    "data.loc[((data[\"recency\"]>12) & (data[\"recency\"]<24)),[\"recency_segment\"]] = \"After Half-Day\"\n",
    "data.loc[(data[\"recency\"]>24),[\"recency_segment\"]] = \"After 24 hours\"\n",
    "data.loc[(data[\"recency\"]<0),[\"recency_segment\"]] = \"First Transaction\"\n",
    "data.recency_segment.value_counts(normalize = True)"
   ]
  },
  {
   "cell_type": "code",
   "execution_count": 160,
   "metadata": {
    "execution": {
     "iopub.execute_input": "2023-11-22T16:26:22.526652Z",
     "iopub.status.busy": "2023-11-22T16:26:22.526244Z",
     "iopub.status.idle": "2023-11-22T16:26:22.564613Z",
     "shell.execute_reply": "2023-11-22T16:26:22.562756Z",
     "shell.execute_reply.started": "2023-11-22T16:26:22.526617Z"
    }
   },
   "outputs": [
    {
     "data": {
      "text/plain": [
       "gas_transport     52994\n",
       "grocery_pos       50285\n",
       "home              49709\n",
       "shopping_pos      47128\n",
       "kids_pets         45080\n",
       "shopping_net      40365\n",
       "entertainment     37709\n",
       "personal_care     36727\n",
       "food_dining       36462\n",
       "health_fitness    34622\n",
       "misc_pos          31950\n",
       "misc_net          25657\n",
       "grocery_net       18256\n",
       "travel            16230\n",
       "Name: category, dtype: int64"
      ]
     },
     "execution_count": 160,
     "metadata": {},
     "output_type": "execute_result"
    }
   ],
   "source": [
    "# examining category column\n",
    "data.category.value_counts()"
   ]
  },
  {
   "cell_type": "code",
   "execution_count": 161,
   "metadata": {
    "execution": {
     "iopub.execute_input": "2023-11-22T16:26:22.567942Z",
     "iopub.status.busy": "2023-11-22T16:26:22.567185Z",
     "iopub.status.idle": "2023-11-22T16:26:22.612967Z",
     "shell.execute_reply": "2023-11-22T16:26:22.611528Z",
     "shell.execute_reply.started": "2023-11-22T16:26:22.567902Z"
    }
   },
   "outputs": [
    {
     "data": {
      "text/plain": [
       "fraud_Kilback LLC                       1759\n",
       "fraud_Cormier LLC                       1510\n",
       "fraud_Schumm PLC                        1497\n",
       "fraud_Kuhn LLC                          1429\n",
       "fraud_Boyer PLC                         1405\n",
       "                                        ... \n",
       "fraud_Tromp Group                        300\n",
       "fraud_Hartmann, Rowe and Hermann         298\n",
       "fraud_Medhurst, Labadie and Gottlieb     297\n",
       "fraud_Mosciski Group                     297\n",
       "fraud_Hahn, Douglas and Schowalter       292\n",
       "Name: merchant, Length: 693, dtype: int64"
      ]
     },
     "execution_count": 161,
     "metadata": {},
     "output_type": "execute_result"
    }
   ],
   "source": [
    "# examining merchant column\n",
    "data.merchant.value_counts()"
   ]
  },
  {
   "cell_type": "code",
   "execution_count": 162,
   "metadata": {
    "execution": {
     "iopub.execute_input": "2023-11-22T16:26:22.615212Z",
     "iopub.status.busy": "2023-11-22T16:26:22.61473Z",
     "iopub.status.idle": "2023-11-22T16:26:22.622513Z",
     "shell.execute_reply": "2023-11-22T16:26:22.621472Z",
     "shell.execute_reply.started": "2023-11-22T16:26:22.615169Z"
    }
   },
   "outputs": [
    {
     "data": {
      "text/plain": [
       "Index(['trans_date_trans_time', 'cc_num', 'merchant', 'category', 'amt',\n",
       "       'gender', 'state', 'job', 'is_fraud', 'recency', 'displacement',\n",
       "       'location', 'Time', 'city_pop_segment', 'recency_segment'],\n",
       "      dtype='object')"
      ]
     },
     "execution_count": 162,
     "metadata": {},
     "output_type": "execute_result"
    }
   ],
   "source": [
    "data.columns\n"
   ]
  },
  {
   "cell_type": "code",
   "execution_count": null,
   "metadata": {},
   "outputs": [],
   "source": []
  },
  {
   "cell_type": "markdown",
   "metadata": {},
   "source": [
    "# Work on test data Column"
   ]
  },
  {
   "cell_type": "code",
   "execution_count": 163,
   "metadata": {
    "execution": {
     "iopub.execute_input": "2023-11-22T16:26:22.625107Z",
     "iopub.status.busy": "2023-11-22T16:26:22.624141Z",
     "iopub.status.idle": "2023-11-22T16:26:22.705906Z",
     "shell.execute_reply": "2023-11-22T16:26:22.703539Z",
     "shell.execute_reply.started": "2023-11-22T16:26:22.625071Z"
    }
   },
   "outputs": [],
   "source": [
    "# we cannot work on trans_num as there is no unique pattern, so dropping it\n",
    "data_t = data_t.drop(\"trans_num\",axis=1)"
   ]
  },
  {
   "cell_type": "code",
   "execution_count": 164,
   "metadata": {
    "execution": {
     "iopub.execute_input": "2023-11-22T16:26:22.707904Z",
     "iopub.status.busy": "2023-11-22T16:26:22.707513Z",
     "iopub.status.idle": "2023-11-22T16:26:22.800223Z",
     "shell.execute_reply": "2023-11-22T16:26:22.79904Z",
     "shell.execute_reply.started": "2023-11-22T16:26:22.707859Z"
    }
   },
   "outputs": [],
   "source": [
    "data_t = data_t.drop(columns=[\"first\",\"last\"])"
   ]
  },
  {
   "cell_type": "code",
   "execution_count": 165,
   "metadata": {
    "execution": {
     "iopub.execute_input": "2023-11-22T16:26:22.80201Z",
     "iopub.status.busy": "2023-11-22T16:26:22.80169Z",
     "iopub.status.idle": "2023-11-22T16:26:22.825027Z",
     "shell.execute_reply": "2023-11-22T16:26:22.824076Z",
     "shell.execute_reply.started": "2023-11-22T16:26:22.801978Z"
    }
   },
   "outputs": [],
   "source": [
    "data_t[\"recency\"] = data_t.groupby(by=\"cc_num\")[\"unix_time\"].diff()"
   ]
  },
  {
   "cell_type": "code",
   "execution_count": 166,
   "metadata": {
    "execution": {
     "iopub.execute_input": "2023-11-22T16:26:22.827139Z",
     "iopub.status.busy": "2023-11-22T16:26:22.82657Z",
     "iopub.status.idle": "2023-11-22T16:26:22.836226Z",
     "shell.execute_reply": "2023-11-22T16:26:22.834789Z",
     "shell.execute_reply.started": "2023-11-22T16:26:22.8271Z"
    }
   },
   "outputs": [],
   "source": [
    "# we are getting null values because as 983 because there are 983 unique values of cards, this means whenever the cc_num group changes\n",
    "# python makes the first value of every group null, so making them as starting payment, we will initialize null values to -1\n",
    "\n",
    "data_t.loc[data_t.recency.isnull(),[\"recency\"]] = -1"
   ]
  },
  {
   "cell_type": "code",
   "execution_count": 167,
   "metadata": {
    "execution": {
     "iopub.execute_input": "2023-11-22T16:26:22.838224Z",
     "iopub.status.busy": "2023-11-22T16:26:22.837823Z",
     "iopub.status.idle": "2023-11-22T16:26:22.981251Z",
     "shell.execute_reply": "2023-11-22T16:26:22.979295Z",
     "shell.execute_reply.started": "2023-11-22T16:26:22.838198Z"
    }
   },
   "outputs": [],
   "source": [
    "# converting trans_date_trans_time to datetime\n",
    "\n",
    "data_t[\"trans_date_trans_time\"] = pd.to_datetime(data_t[\"trans_date_trans_time\"])"
   ]
  },
  {
   "cell_type": "code",
   "execution_count": 168,
   "metadata": {
    "execution": {
     "iopub.execute_input": "2023-11-22T16:26:22.983294Z",
     "iopub.status.busy": "2023-11-22T16:26:22.982877Z",
     "iopub.status.idle": "2023-11-22T16:26:23.056277Z",
     "shell.execute_reply": "2023-11-22T16:26:23.055129Z",
     "shell.execute_reply.started": "2023-11-22T16:26:22.983256Z"
    }
   },
   "outputs": [],
   "source": [
    "# we now don't need unix_time so we can drop it\n",
    "data_t= data_t.drop(\"unix_time\",axis=1)"
   ]
  },
  {
   "cell_type": "code",
   "execution_count": 169,
   "metadata": {
    "execution": {
     "iopub.execute_input": "2023-11-22T16:26:23.058396Z",
     "iopub.status.busy": "2023-11-22T16:26:23.057983Z",
     "iopub.status.idle": "2023-11-22T16:26:23.125312Z",
     "shell.execute_reply": "2023-11-22T16:26:23.123852Z",
     "shell.execute_reply.started": "2023-11-22T16:26:23.058361Z"
    }
   },
   "outputs": [],
   "source": [
    "\n",
    "data_t = data_t.drop(\"id\",axis=1)"
   ]
  },
  {
   "cell_type": "code",
   "execution_count": 170,
   "metadata": {
    "execution": {
     "iopub.execute_input": "2023-11-22T16:26:23.126821Z",
     "iopub.status.busy": "2023-11-22T16:26:23.126523Z",
     "iopub.status.idle": "2023-11-22T16:26:23.184493Z",
     "shell.execute_reply": "2023-11-22T16:26:23.183039Z",
     "shell.execute_reply.started": "2023-11-22T16:26:23.126796Z"
    }
   },
   "outputs": [],
   "source": [
    "data_t = data_t.drop(\"dob\",axis=1)"
   ]
  },
  {
   "cell_type": "code",
   "execution_count": 171,
   "metadata": {
    "execution": {
     "iopub.execute_input": "2023-11-22T16:26:23.18614Z",
     "iopub.status.busy": "2023-11-22T16:26:23.185802Z",
     "iopub.status.idle": "2023-11-22T16:26:23.200142Z",
     "shell.execute_reply": "2023-11-22T16:26:23.198708Z",
     "shell.execute_reply.started": "2023-11-22T16:26:23.186111Z"
    }
   },
   "outputs": [],
   "source": [
    "data_t[\"lat_diff\"] = abs(data_t.lat - data_t.merch_lat)\n",
    "data_t[\"long_diff\"] = abs(data_t[\"long\"] - data_t[\"merch_long\"])\n",
    "data_t[\"displacement\"] = np.sqrt(pow((data_t[\"lat_diff\"]*110),2) + pow((data_t[\"long_diff\"]*110),2))"
   ]
  },
  {
   "cell_type": "code",
   "execution_count": 172,
   "metadata": {
    "execution": {
     "iopub.execute_input": "2023-11-22T16:26:23.202295Z",
     "iopub.status.busy": "2023-11-22T16:26:23.201861Z",
     "iopub.status.idle": "2023-11-22T16:26:23.26202Z",
     "shell.execute_reply": "2023-11-22T16:26:23.260734Z",
     "shell.execute_reply.started": "2023-11-22T16:26:23.202263Z"
    }
   },
   "outputs": [],
   "source": [
    "data_t = data_t.drop(columns = [\"lat\",\"long\",\"merch_lat\",\"merch_long\",\"lat_diff\",\"long_diff\"])"
   ]
  },
  {
   "cell_type": "code",
   "execution_count": 173,
   "metadata": {
    "execution": {
     "iopub.execute_input": "2023-11-22T16:26:23.26355Z",
     "iopub.status.busy": "2023-11-22T16:26:23.263254Z",
     "iopub.status.idle": "2023-11-22T16:26:23.309432Z",
     "shell.execute_reply": "2023-11-22T16:26:23.307921Z",
     "shell.execute_reply.started": "2023-11-22T16:26:23.263524Z"
    }
   },
   "outputs": [],
   "source": [
    "# since state contains both city and zip code and street comes under city, so we can move with state column and drop street, city and zip\n",
    "# we can work with cities through their population parameter, as names of cities cannot implement whether a fraud will be done or not, while\n",
    "# population of a city can.\n",
    "data_t= data_t.drop(columns = [\"city\",\"zip\",\"street\"])"
   ]
  },
  {
   "cell_type": "code",
   "execution_count": 174,
   "metadata": {
    "execution": {
     "iopub.execute_input": "2023-11-22T16:26:23.31072Z",
     "iopub.status.busy": "2023-11-22T16:26:23.310432Z",
     "iopub.status.idle": "2023-11-22T16:26:23.367812Z",
     "shell.execute_reply": "2023-11-22T16:26:23.366315Z",
     "shell.execute_reply.started": "2023-11-22T16:26:23.310695Z"
    }
   },
   "outputs": [],
   "source": [
    "# now we can bin the displacement into near, far and very far records\n",
    "# if merchant lies between the range of 0-45 then it is near, while above 45 but below 90 will be far and rest can be very far\n",
    "\n",
    "data_t.loc[(data_t[\"displacement\"]<45),[\"location\"]] = \"Nearby\"\n",
    "data_t.loc[((data_t[\"displacement\"]>45) & (data_t[\"displacement\"]<90)),[\"location\"]] = \"Far Away\"\n",
    "data_t.loc[(data_t[\"displacement\"]>90),[\"location\"]] = \"Long Distance\""
   ]
  },
  {
   "cell_type": "code",
   "execution_count": 175,
   "metadata": {
    "execution": {
     "iopub.execute_input": "2023-11-22T16:26:23.369152Z",
     "iopub.status.busy": "2023-11-22T16:26:23.368872Z",
     "iopub.status.idle": "2023-11-22T16:26:23.825876Z",
     "shell.execute_reply": "2023-11-22T16:26:23.824316Z",
     "shell.execute_reply.started": "2023-11-22T16:26:23.369129Z"
    }
   },
   "outputs": [],
   "source": [
    "# Although date part in column trans_date_trans_time is not important because that is historical data, but time part of the component is important\n",
    "# so creating a column of time\n",
    "\n",
    "data_t[\"Time\"] = pd.to_datetime(data_t[\"trans_date_trans_time\"],\"%H:%M\").dt.time\n",
    "# converting Time column to datetime\n",
    "data_t[\"Time\"] = pd.to_datetime(data_t[\"trans_date_trans_time\"]).dt.hour"
   ]
  },
  {
   "cell_type": "code",
   "execution_count": 176,
   "metadata": {
    "execution": {
     "iopub.execute_input": "2023-11-22T16:26:23.82848Z",
     "iopub.status.busy": "2023-11-22T16:26:23.827785Z",
     "iopub.status.idle": "2023-11-22T16:26:23.885533Z",
     "shell.execute_reply": "2023-11-22T16:26:23.883825Z",
     "shell.execute_reply.started": "2023-11-22T16:26:23.828449Z"
    }
   },
   "outputs": [],
   "source": [
    "data_t.loc[(data_t[\"city_pop\"]<10000),[\"city_pop_segment\"]] = \"Less Dense\"\n",
    "data_t.loc[((data_t[\"city_pop\"]>10000) & (data_t[\"city_pop\"]<50000)),[\"city_pop_segment\"]] = \"Adequately Dense\"\n",
    "data_t.loc[(data_t[\"city_pop\"]>50000),[\"city_pop_segment\"]] = \"Densely populated\""
   ]
  },
  {
   "cell_type": "code",
   "execution_count": 177,
   "metadata": {
    "execution": {
     "iopub.execute_input": "2023-11-22T16:26:23.887385Z",
     "iopub.status.busy": "2023-11-22T16:26:23.887046Z",
     "iopub.status.idle": "2023-11-22T16:26:23.951931Z",
     "shell.execute_reply": "2023-11-22T16:26:23.950835Z",
     "shell.execute_reply.started": "2023-11-22T16:26:23.887357Z"
    }
   },
   "outputs": [],
   "source": [
    "# dropping column city_pop as it is of no use now\n",
    "data_t = data_t.drop(\"city_pop\",axis=1)"
   ]
  },
  {
   "cell_type": "code",
   "execution_count": 178,
   "metadata": {
    "execution": {
     "iopub.execute_input": "2023-11-22T16:26:23.953641Z",
     "iopub.status.busy": "2023-11-22T16:26:23.953342Z",
     "iopub.status.idle": "2023-11-22T16:26:24.11168Z",
     "shell.execute_reply": "2023-11-22T16:26:24.110418Z",
     "shell.execute_reply.started": "2023-11-22T16:26:23.953615Z"
    }
   },
   "outputs": [],
   "source": [
    "data_t.recency = data_t.recency.apply(lambda x: float((x/60)/60))"
   ]
  },
  {
   "cell_type": "code",
   "execution_count": 179,
   "metadata": {
    "execution": {
     "iopub.execute_input": "2023-11-22T16:26:24.113465Z",
     "iopub.status.busy": "2023-11-22T16:26:24.113139Z",
     "iopub.status.idle": "2023-11-22T16:26:24.194809Z",
     "shell.execute_reply": "2023-11-22T16:26:24.193516Z",
     "shell.execute_reply.started": "2023-11-22T16:26:24.113438Z"
    }
   },
   "outputs": [],
   "source": [
    "data_t.loc[(data_t[\"recency\"]<1),[\"recency_segment\"]] = \"Recent_Transaction\"\n",
    "data_t.loc[((data_t[\"recency\"]>1) & (data_t[\"recency\"]<6)),[\"recency_segment\"]] = \"Within 6 hours\"\n",
    "data_t.loc[((data_t[\"recency\"]>6) & (data_t[\"recency\"]<12)),[\"recency_segment\"]] = \"After 6 hours\"\n",
    "data_t.loc[((data_t[\"recency\"]>12) & (data_t[\"recency\"]<24)),[\"recency_segment\"]] = \"After Half-Day\"\n",
    "data_t.loc[(data_t[\"recency\"]>24),[\"recency_segment\"]] = \"After 24 hours\"\n",
    "data_t.loc[(data_t[\"recency\"]<0),[\"recency_segment\"]] = \"First Transaction\""
   ]
  },
  {
   "cell_type": "code",
   "execution_count": 180,
   "metadata": {
    "execution": {
     "iopub.execute_input": "2023-11-22T16:26:24.197357Z",
     "iopub.status.busy": "2023-11-22T16:26:24.196912Z",
     "iopub.status.idle": "2023-11-22T16:26:24.20561Z",
     "shell.execute_reply": "2023-11-22T16:26:24.204126Z",
     "shell.execute_reply.started": "2023-11-22T16:26:24.197321Z"
    }
   },
   "outputs": [
    {
     "data": {
      "text/plain": [
       "Index(['trans_date_trans_time', 'cc_num', 'merchant', 'category', 'amt',\n",
       "       'gender', 'state', 'job', 'recency', 'displacement', 'location', 'Time',\n",
       "       'city_pop_segment', 'recency_segment'],\n",
       "      dtype='object')"
      ]
     },
     "execution_count": 180,
     "metadata": {},
     "output_type": "execute_result"
    }
   ],
   "source": [
    "data_t.columns"
   ]
  },
  {
   "cell_type": "code",
   "execution_count": null,
   "metadata": {},
   "outputs": [],
   "source": []
  },
  {
   "cell_type": "markdown",
   "metadata": {},
   "source": [
    "# Univariate Analysis"
   ]
  },
  {
   "cell_type": "code",
   "execution_count": 181,
   "metadata": {
    "execution": {
     "iopub.execute_input": "2023-11-22T16:26:24.207125Z",
     "iopub.status.busy": "2023-11-22T16:26:24.206799Z",
     "iopub.status.idle": "2023-11-22T16:26:24.347725Z",
     "shell.execute_reply": "2023-11-22T16:26:24.346815Z",
     "shell.execute_reply.started": "2023-11-22T16:26:24.2071Z"
    }
   },
   "outputs": [
    {
     "name": "stdout",
     "output_type": "stream",
     "text": [
      "<class 'pandas.core.frame.DataFrame'>\n",
      "RangeIndex: 523174 entries, 0 to 523173\n",
      "Data columns (total 15 columns):\n",
      " #   Column                 Non-Null Count   Dtype         \n",
      "---  ------                 --------------   -----         \n",
      " 0   trans_date_trans_time  523174 non-null  datetime64[ns]\n",
      " 1   cc_num                 523174 non-null  int64         \n",
      " 2   merchant               523174 non-null  object        \n",
      " 3   category               523174 non-null  object        \n",
      " 4   amt                    523174 non-null  float64       \n",
      " 5   gender                 523174 non-null  object        \n",
      " 6   state                  523174 non-null  object        \n",
      " 7   job                    523174 non-null  object        \n",
      " 8   is_fraud               523174 non-null  int64         \n",
      " 9   recency                523174 non-null  float64       \n",
      " 10  displacement           523174 non-null  float64       \n",
      " 11  location               523174 non-null  object        \n",
      " 12  Time                   523174 non-null  int64         \n",
      " 13  city_pop_segment       523174 non-null  object        \n",
      " 14  recency_segment        523174 non-null  object        \n",
      "dtypes: datetime64[ns](1), float64(3), int64(3), object(8)\n",
      "memory usage: 59.9+ MB\n"
     ]
    }
   ],
   "source": [
    "# checking the peak hours for transaction\n",
    "data.info()"
   ]
  },
  {
   "cell_type": "code",
   "execution_count": 182,
   "metadata": {
    "execution": {
     "iopub.execute_input": "2023-11-22T16:26:24.349108Z",
     "iopub.status.busy": "2023-11-22T16:26:24.348716Z",
     "iopub.status.idle": "2023-11-22T16:26:24.368334Z",
     "shell.execute_reply": "2023-11-22T16:26:24.366517Z",
     "shell.execute_reply.started": "2023-11-22T16:26:24.349074Z"
    }
   },
   "outputs": [
    {
     "data": {
      "text/html": [
       "<div>\n",
       "<style scoped>\n",
       "    .dataframe tbody tr th:only-of-type {\n",
       "        vertical-align: middle;\n",
       "    }\n",
       "\n",
       "    .dataframe tbody tr th {\n",
       "        vertical-align: top;\n",
       "    }\n",
       "\n",
       "    .dataframe thead th {\n",
       "        text-align: right;\n",
       "    }\n",
       "</style>\n",
       "<table border=\"1\" class=\"dataframe\">\n",
       "  <thead>\n",
       "    <tr style=\"text-align: right;\">\n",
       "      <th></th>\n",
       "      <th>trans_date_trans_time</th>\n",
       "      <th>cc_num</th>\n",
       "      <th>merchant</th>\n",
       "      <th>category</th>\n",
       "      <th>amt</th>\n",
       "      <th>gender</th>\n",
       "      <th>state</th>\n",
       "      <th>job</th>\n",
       "      <th>is_fraud</th>\n",
       "      <th>recency</th>\n",
       "      <th>displacement</th>\n",
       "      <th>location</th>\n",
       "      <th>Time</th>\n",
       "      <th>city_pop_segment</th>\n",
       "      <th>recency_segment</th>\n",
       "    </tr>\n",
       "  </thead>\n",
       "  <tbody>\n",
       "    <tr>\n",
       "      <th>0</th>\n",
       "      <td>2019-12-15 10:35:10</td>\n",
       "      <td>3597926034019603</td>\n",
       "      <td>fraud_Ruecker Group</td>\n",
       "      <td>misc_net</td>\n",
       "      <td>7.19</td>\n",
       "      <td>M</td>\n",
       "      <td>TN</td>\n",
       "      <td>Furniture conservator/restorer</td>\n",
       "      <td>0</td>\n",
       "      <td>-0.000278</td>\n",
       "      <td>62.793125</td>\n",
       "      <td>Far Away</td>\n",
       "      <td>10</td>\n",
       "      <td>Less Dense</td>\n",
       "      <td>First Transaction</td>\n",
       "    </tr>\n",
       "    <tr>\n",
       "      <th>1</th>\n",
       "      <td>2019-04-10 21:49:53</td>\n",
       "      <td>4873783502705038</td>\n",
       "      <td>fraud_Lynch Ltd</td>\n",
       "      <td>shopping_pos</td>\n",
       "      <td>6.32</td>\n",
       "      <td>F</td>\n",
       "      <td>WA</td>\n",
       "      <td>Public house manager</td>\n",
       "      <td>0</td>\n",
       "      <td>-0.000278</td>\n",
       "      <td>73.370965</td>\n",
       "      <td>Far Away</td>\n",
       "      <td>21</td>\n",
       "      <td>Adequately Dense</td>\n",
       "      <td>First Transaction</td>\n",
       "    </tr>\n",
       "    <tr>\n",
       "      <th>2</th>\n",
       "      <td>2020-02-16 10:56:18</td>\n",
       "      <td>213161869125933</td>\n",
       "      <td>fraud_Bauch-Raynor</td>\n",
       "      <td>grocery_pos</td>\n",
       "      <td>147.59</td>\n",
       "      <td>F</td>\n",
       "      <td>ME</td>\n",
       "      <td>Animal nutritionist</td>\n",
       "      <td>0</td>\n",
       "      <td>-0.000278</td>\n",
       "      <td>20.714081</td>\n",
       "      <td>Nearby</td>\n",
       "      <td>10</td>\n",
       "      <td>Less Dense</td>\n",
       "      <td>First Transaction</td>\n",
       "    </tr>\n",
       "    <tr>\n",
       "      <th>3</th>\n",
       "      <td>2020-04-30 16:14:16</td>\n",
       "      <td>374656033243756</td>\n",
       "      <td>fraud_Effertz, Welch and Schowalter</td>\n",
       "      <td>entertainment</td>\n",
       "      <td>32.40</td>\n",
       "      <td>M</td>\n",
       "      <td>VA</td>\n",
       "      <td>Mudlogger</td>\n",
       "      <td>0</td>\n",
       "      <td>-0.000278</td>\n",
       "      <td>80.894074</td>\n",
       "      <td>Far Away</td>\n",
       "      <td>16</td>\n",
       "      <td>Densely populated</td>\n",
       "      <td>First Transaction</td>\n",
       "    </tr>\n",
       "    <tr>\n",
       "      <th>4</th>\n",
       "      <td>2019-12-05 21:07:59</td>\n",
       "      <td>6011999606625827</td>\n",
       "      <td>fraud_Wilkinson LLC</td>\n",
       "      <td>personal_care</td>\n",
       "      <td>29.79</td>\n",
       "      <td>M</td>\n",
       "      <td>NJ</td>\n",
       "      <td>Radiographer, diagnostic</td>\n",
       "      <td>0</td>\n",
       "      <td>-0.000278</td>\n",
       "      <td>77.629373</td>\n",
       "      <td>Far Away</td>\n",
       "      <td>21</td>\n",
       "      <td>Less Dense</td>\n",
       "      <td>First Transaction</td>\n",
       "    </tr>\n",
       "  </tbody>\n",
       "</table>\n",
       "</div>"
      ],
      "text/plain": [
       "  trans_date_trans_time            cc_num  \\\n",
       "0   2019-12-15 10:35:10  3597926034019603   \n",
       "1   2019-04-10 21:49:53  4873783502705038   \n",
       "2   2020-02-16 10:56:18   213161869125933   \n",
       "3   2020-04-30 16:14:16   374656033243756   \n",
       "4   2019-12-05 21:07:59  6011999606625827   \n",
       "\n",
       "                              merchant       category     amt gender state  \\\n",
       "0                  fraud_Ruecker Group       misc_net    7.19      M    TN   \n",
       "1                      fraud_Lynch Ltd   shopping_pos    6.32      F    WA   \n",
       "2                   fraud_Bauch-Raynor    grocery_pos  147.59      F    ME   \n",
       "3  fraud_Effertz, Welch and Schowalter  entertainment   32.40      M    VA   \n",
       "4                  fraud_Wilkinson LLC  personal_care   29.79      M    NJ   \n",
       "\n",
       "                              job  is_fraud   recency  displacement  location  \\\n",
       "0  Furniture conservator/restorer         0 -0.000278     62.793125  Far Away   \n",
       "1            Public house manager         0 -0.000278     73.370965  Far Away   \n",
       "2             Animal nutritionist         0 -0.000278     20.714081    Nearby   \n",
       "3                       Mudlogger         0 -0.000278     80.894074  Far Away   \n",
       "4        Radiographer, diagnostic         0 -0.000278     77.629373  Far Away   \n",
       "\n",
       "   Time   city_pop_segment    recency_segment  \n",
       "0    10         Less Dense  First Transaction  \n",
       "1    21   Adequately Dense  First Transaction  \n",
       "2    10         Less Dense  First Transaction  \n",
       "3    16  Densely populated  First Transaction  \n",
       "4    21         Less Dense  First Transaction  "
      ]
     },
     "execution_count": 182,
     "metadata": {},
     "output_type": "execute_result"
    }
   ],
   "source": [
    "data.head()"
   ]
  },
  {
   "cell_type": "code",
   "execution_count": 183,
   "metadata": {
    "execution": {
     "iopub.execute_input": "2023-11-22T16:26:24.371095Z",
     "iopub.status.busy": "2023-11-22T16:26:24.369839Z",
     "iopub.status.idle": "2023-11-22T16:26:24.390927Z",
     "shell.execute_reply": "2023-11-22T16:26:24.38929Z",
     "shell.execute_reply.started": "2023-11-22T16:26:24.370975Z"
    }
   },
   "outputs": [],
   "source": [
    "# let's initialize a separate data containing fraud transactionsto analyze trends\n",
    "data_fraud = data[data[\"is_fraud\"]==1]"
   ]
  },
  {
   "cell_type": "code",
   "execution_count": 184,
   "metadata": {
    "execution": {
     "iopub.execute_input": "2023-11-22T16:26:24.394895Z",
     "iopub.status.busy": "2023-11-22T16:26:24.394404Z",
     "iopub.status.idle": "2023-11-22T16:26:24.65504Z",
     "shell.execute_reply": "2023-11-22T16:26:24.653706Z",
     "shell.execute_reply.started": "2023-11-22T16:26:24.394855Z"
    }
   },
   "outputs": [
    {
     "data": {
      "image/png": "[encoded data removed]",
      "text/plain": [
       "<Figure size 640x480 with 1 Axes>"
      ]
     },
     "metadata": {},
     "output_type": "display_data"
    }
   ],
   "source": [
    "sns.kdeplot(data_fraud[\"Time\"])\n",
    "plt.xlim(left = 0,right = 24)\n",
    "plt.show()"
   ]
  },
  {
   "cell_type": "code",
   "execution_count": 185,
   "metadata": {
    "execution": {
     "iopub.execute_input": "2023-11-22T16:26:24.656862Z",
     "iopub.status.busy": "2023-11-22T16:26:24.656502Z",
     "iopub.status.idle": "2023-11-22T16:26:24.827597Z",
     "shell.execute_reply": "2023-11-22T16:26:24.826718Z",
     "shell.execute_reply.started": "2023-11-22T16:26:24.656835Z"
    }
   },
   "outputs": [
    {
     "data": {
      "image/png": "[encoded data removed]",
      "text/plain": [
       "<Figure size 640x480 with 1 Axes>"
      ]
     },
     "metadata": {},
     "output_type": "display_data"
    }
   ],
   "source": [
    "# lets have a look about the fraud transactions done in cities according to their populations\n",
    "sns.histplot(data_fraud[\"city_pop_segment\"])\n",
    "plt.show()\n"
   ]
  },
  {
   "cell_type": "code",
   "execution_count": 186,
   "metadata": {
    "execution": {
     "iopub.execute_input": "2023-11-22T16:26:24.829491Z",
     "iopub.status.busy": "2023-11-22T16:26:24.828848Z",
     "iopub.status.idle": "2023-11-22T16:26:25.30508Z",
     "shell.execute_reply": "2023-11-22T16:26:25.30374Z",
     "shell.execute_reply.started": "2023-11-22T16:26:24.829461Z"
    }
   },
   "outputs": [
    {
     "data": {
      "image/png": "[encoded data removed]",
      "text/plain": [
       "<Figure size 800x1000 with 1 Axes>"
      ]
     },
     "metadata": {},
     "output_type": "display_data"
    }
   ],
   "source": [
    "# let's have a look on state-wise fraud transactions\n",
    "plt.figure(figsize = [8,10])\n",
    "sns.countplot(y=data_fraud.state)\n",
    "plt.show()"
   ]
  },
  {
   "cell_type": "code",
   "execution_count": 187,
   "metadata": {
    "execution": {
     "iopub.execute_input": "2023-11-22T16:26:25.306659Z",
     "iopub.status.busy": "2023-11-22T16:26:25.306356Z",
     "iopub.status.idle": "2023-11-22T16:26:25.626797Z",
     "shell.execute_reply": "2023-11-22T16:26:25.625122Z",
     "shell.execute_reply.started": "2023-11-22T16:26:25.306634Z"
    }
   },
   "outputs": [
    {
     "data": {
      "image/png": "[encoded data removed]",
      "text/plain": [
       "<Figure size 640x480 with 1 Axes>"
      ]
     },
     "metadata": {},
     "output_type": "display_data"
    }
   ],
   "source": [
    "sns.kdeplot(data_fraud.trans_date_trans_time)\n",
    "plt.xticks(rotation = 90)\n",
    "plt.show()"
   ]
  },
  {
   "cell_type": "code",
   "execution_count": 188,
   "metadata": {
    "execution": {
     "iopub.execute_input": "2023-11-22T16:26:25.628633Z",
     "iopub.status.busy": "2023-11-22T16:26:25.62829Z",
     "iopub.status.idle": "2023-11-22T16:26:25.812745Z",
     "shell.execute_reply": "2023-11-22T16:26:25.811846Z",
     "shell.execute_reply.started": "2023-11-22T16:26:25.628603Z"
    }
   },
   "outputs": [
    {
     "data": {
      "image/png": "[encoded data removed]",
      "text/plain": [
       "<Figure size 640x480 with 1 Axes>"
      ]
     },
     "metadata": {},
     "output_type": "display_data"
    }
   ],
   "source": [
    "sns.countplot(y=data_fraud.recency_segment)\n",
    "plt.show()"
   ]
  },
  {
   "cell_type": "code",
   "execution_count": 189,
   "metadata": {
    "execution": {
     "iopub.execute_input": "2023-11-22T16:26:25.815154Z",
     "iopub.status.busy": "2023-11-22T16:26:25.813807Z",
     "iopub.status.idle": "2023-11-22T16:26:26.202455Z",
     "shell.execute_reply": "2023-11-22T16:26:26.201048Z",
     "shell.execute_reply.started": "2023-11-22T16:26:25.815117Z"
    }
   },
   "outputs": [
    {
     "data": {
      "image/png": "[encoded data removed]",
      "text/plain": [
       "<Figure size 640x480 with 1 Axes>"
      ]
     },
     "metadata": {},
     "output_type": "display_data"
    }
   ],
   "source": [
    "sns.countplot(y=data.recency_segment)\n",
    "plt.show()"
   ]
  },
  {
   "cell_type": "code",
   "execution_count": 190,
   "metadata": {
    "execution": {
     "iopub.execute_input": "2023-11-22T16:26:26.203983Z",
     "iopub.status.busy": "2023-11-22T16:26:26.203666Z",
     "iopub.status.idle": "2023-11-22T16:26:26.233131Z",
     "shell.execute_reply": "2023-11-22T16:26:26.23169Z",
     "shell.execute_reply.started": "2023-11-22T16:26:26.203939Z"
    }
   },
   "outputs": [
    {
     "data": {
      "text/plain": [
       "First Transaction     261978\n",
       "After 24 hours        259808\n",
       "After Half-Day           661\n",
       "Within 6 hours           312\n",
       "After 6 hours            296\n",
       "Recent_Transaction       119\n",
       "Name: recency_segment, dtype: int64"
      ]
     },
     "execution_count": 190,
     "metadata": {},
     "output_type": "execute_result"
    }
   ],
   "source": [
    "data[\"recency_segment\"].value_counts()"
   ]
  },
  {
   "cell_type": "code",
   "execution_count": 191,
   "metadata": {
    "execution": {
     "iopub.execute_input": "2023-11-22T16:26:26.23501Z",
     "iopub.status.busy": "2023-11-22T16:26:26.234625Z",
     "iopub.status.idle": "2023-11-22T16:26:26.456192Z",
     "shell.execute_reply": "2023-11-22T16:26:26.455477Z",
     "shell.execute_reply.started": "2023-11-22T16:26:26.23497Z"
    }
   },
   "outputs": [
    {
     "data": {
      "image/png": "[encoded data removed]",
      "text/plain": [
       "<Figure size 640x480 with 1 Axes>"
      ]
     },
     "metadata": {},
     "output_type": "display_data"
    }
   ],
   "source": [
    "# checking how recent the transaction is can be termed as fraud\n",
    "sns.kdeplot(data_fraud.recency)\n",
    "#plt.xlim(right = 15000,left = -1)\n",
    "plt.show()"
   ]
  },
  {
   "cell_type": "code",
   "execution_count": 192,
   "metadata": {
    "execution": {
     "iopub.execute_input": "2023-11-22T16:26:26.457492Z",
     "iopub.status.busy": "2023-11-22T16:26:26.457106Z",
     "iopub.status.idle": "2023-11-22T16:26:26.687967Z",
     "shell.execute_reply": "2023-11-22T16:26:26.686123Z",
     "shell.execute_reply.started": "2023-11-22T16:26:26.457467Z"
    }
   },
   "outputs": [
    {
     "data": {
      "image/png": "[encoded data removed]",
      "text/plain": [
       "<Figure size 640x480 with 1 Axes>"
      ]
     },
     "metadata": {},
     "output_type": "display_data"
    }
   ],
   "source": [
    "sns.kdeplot(data_fraud[data_fraud[\"recency_segment\"] == \"Recent_Transaction\"].Time)\n",
    "plt.xlim(left=0,right=24)\n",
    "plt.show()"
   ]
  },
  {
   "cell_type": "code",
   "execution_count": 193,
   "metadata": {
    "execution": {
     "iopub.execute_input": "2023-11-22T16:26:26.689899Z",
     "iopub.status.busy": "2023-11-22T16:26:26.689598Z",
     "iopub.status.idle": "2023-11-22T16:26:26.779868Z",
     "shell.execute_reply": "2023-11-22T16:26:26.778485Z",
     "shell.execute_reply.started": "2023-11-22T16:26:26.689874Z"
    }
   },
   "outputs": [
    {
     "data": {
      "text/plain": [
       "1.473406163876356"
      ]
     },
     "execution_count": 193,
     "metadata": {},
     "output_type": "execute_result"
    }
   ],
   "source": [
    "# checking separately for first transactions done through credit cards.\n",
    "(data_fraud[data[\"recency_segment\"] == \"First Transaction\"][\"is_fraud\"].sum()/len(data[data[\"recency\"]<0][\"is_fraud\"]))*100"
   ]
  },
  {
   "cell_type": "code",
   "execution_count": 194,
   "metadata": {
    "execution": {
     "iopub.execute_input": "2023-11-22T16:26:26.781892Z",
     "iopub.status.busy": "2023-11-22T16:26:26.781568Z",
     "iopub.status.idle": "2023-11-22T16:26:26.789284Z",
     "shell.execute_reply": "2023-11-22T16:26:26.787976Z",
     "shell.execute_reply.started": "2023-11-22T16:26:26.781865Z"
    }
   },
   "outputs": [
    {
     "data": {
      "text/plain": [
       "(7506, 15)"
      ]
     },
     "execution_count": 194,
     "metadata": {},
     "output_type": "execute_result"
    }
   ],
   "source": [
    "data_fraud.shape"
   ]
  },
  {
   "cell_type": "code",
   "execution_count": 195,
   "metadata": {
    "execution": {
     "iopub.execute_input": "2023-11-22T16:26:26.803113Z",
     "iopub.status.busy": "2023-11-22T16:26:26.802763Z",
     "iopub.status.idle": "2023-11-22T16:26:27.037068Z",
     "shell.execute_reply": "2023-11-22T16:26:27.035659Z",
     "shell.execute_reply.started": "2023-11-22T16:26:26.803087Z"
    }
   },
   "outputs": [
    {
     "data": {
      "image/png": "[encoded data removed]",
      "text/plain": [
       "<Figure size 640x480 with 1 Axes>"
      ]
     },
     "metadata": {},
     "output_type": "display_data"
    }
   ],
   "source": [
    "sns.countplot(y=data_fraud.category)\n",
    "plt.show()"
   ]
  },
  {
   "cell_type": "code",
   "execution_count": 196,
   "metadata": {
    "execution": {
     "iopub.execute_input": "2023-11-22T16:26:27.038694Z",
     "iopub.status.busy": "2023-11-22T16:26:27.038373Z",
     "iopub.status.idle": "2023-11-22T16:26:27.531117Z",
     "shell.execute_reply": "2023-11-22T16:26:27.529166Z",
     "shell.execute_reply.started": "2023-11-22T16:26:27.038666Z"
    }
   },
   "outputs": [
    {
     "data": {
      "image/png": "[encoded data removed]",
      "text/plain": [
       "<Figure size 1200x600 with 2 Axes>"
      ]
     },
     "metadata": {},
     "output_type": "display_data"
    }
   ],
   "source": [
    "plt.figure(figsize=[12,6])\n",
    "plt.subplot(121)\n",
    "sns.kdeplot(x=data_fraud[data_fraud.category == \"grocery_pos\"].Time)\n",
    "plt.xlim(left=0,right=24)\n",
    "plt.title(label = \"Offline Grocery Transactions Frauds\", fontdict = {\"color\": \"Red\", \"size\": 15, \"weight\" : \"5\"})\n",
    "plt.subplot(122)\n",
    "sns.kdeplot(x=data_fraud[data_fraud.category == \"shopping_net\"].Time)\n",
    "plt.title(label = \"Internet Shopping Transactions Frauds\", fontdict = {\"color\": \"Green\", \"size\": 15, \"weight\" : \"5\"})\n",
    "plt.xlim(left=0,right=24)\n",
    "plt.show()\n"
   ]
  },
  {
   "cell_type": "code",
   "execution_count": 197,
   "metadata": {
    "execution": {
     "iopub.execute_input": "2023-11-22T16:26:27.533379Z",
     "iopub.status.busy": "2023-11-22T16:26:27.53299Z",
     "iopub.status.idle": "2023-11-22T16:26:28.716516Z",
     "shell.execute_reply": "2023-11-22T16:26:28.714991Z",
     "shell.execute_reply.started": "2023-11-22T16:26:27.53335Z"
    }
   },
   "outputs": [
    {
     "data": {
      "image/png": "[encoded data removed]",
      "text/plain": [
       "<Figure size 1200x1000 with 2 Axes>"
      ]
     },
     "metadata": {},
     "output_type": "display_data"
    }
   ],
   "source": [
    "plt.figure(figsize=[12,10])\n",
    "plt.subplot(121)\n",
    "sns.countplot(y=data_fraud[data_fraud.category == \"grocery_pos\"].state)\n",
    "plt.title(label = \"Offline Grocery Transactions Frauds \\n by States\", fontdict = {\"color\": \"Red\", \"size\": 15, \"weight\" : \"5\"})\n",
    "plt.subplot(122)\n",
    "sns.countplot(y=data_fraud[data_fraud.category == \"shopping_net\"].state)\n",
    "plt.title(label = \"Internet Shopping Transactions Frauds \\n by States\", fontdict = {\"color\": \"Green\", \"size\": 15, \"weight\" : \"5\"})\n",
    "plt.show()"
   ]
  },
  {
   "cell_type": "code",
   "execution_count": 198,
   "metadata": {
    "execution": {
     "iopub.execute_input": "2023-11-22T16:26:28.718594Z",
     "iopub.status.busy": "2023-11-22T16:26:28.71825Z",
     "iopub.status.idle": "2023-11-22T16:26:28.899855Z",
     "shell.execute_reply": "2023-11-22T16:26:28.8985Z",
     "shell.execute_reply.started": "2023-11-22T16:26:28.718561Z"
    }
   },
   "outputs": [
    {
     "data": {
      "image/png": "[encoded data removed]",
      "text/plain": [
       "<Figure size 640x480 with 1 Axes>"
      ]
     },
     "metadata": {},
     "output_type": "display_data"
    }
   ],
   "source": [
    "# let's check how far frauds happens from customer's residence\n",
    "sns.histplot(data_fraud.location)\n",
    "plt.show()"
   ]
  },
  {
   "cell_type": "code",
   "execution_count": 199,
   "metadata": {
    "execution": {
     "iopub.execute_input": "2023-11-22T16:26:28.901278Z",
     "iopub.status.busy": "2023-11-22T16:26:28.900909Z",
     "iopub.status.idle": "2023-11-22T16:26:29.06377Z",
     "shell.execute_reply": "2023-11-22T16:26:29.063023Z",
     "shell.execute_reply.started": "2023-11-22T16:26:28.90124Z"
    }
   },
   "outputs": [
    {
     "data": {
      "image/png": "[encoded data removed]",
      "text/plain": [
       "<Figure size 640x480 with 1 Axes>"
      ]
     },
     "metadata": {},
     "output_type": "display_data"
    }
   ],
   "source": [
    "sns.histplot(data_fraud['gender'])\n",
    "plt.show()"
   ]
  },
  {
   "cell_type": "code",
   "execution_count": 200,
   "metadata": {
    "execution": {
     "iopub.execute_input": "2023-11-22T16:26:29.065273Z",
     "iopub.status.busy": "2023-11-22T16:26:29.06483Z",
     "iopub.status.idle": "2023-11-22T16:26:29.684583Z",
     "shell.execute_reply": "2023-11-22T16:26:29.683514Z",
     "shell.execute_reply.started": "2023-11-22T16:26:29.065244Z"
    }
   },
   "outputs": [
    {
     "data": {
      "image/png": "[encoded data removed]",
      "text/plain": [
       "<Figure size 1500x1000 with 1 Axes>"
      ]
     },
     "metadata": {},
     "output_type": "display_data"
    }
   ],
   "source": [
    "plt.figure(figsize = [15,10])\n",
    "sns.countplot(y=data_fraud.state, hue=data_fraud.gender)\n",
    "plt.show()"
   ]
  },
  {
   "cell_type": "code",
   "execution_count": 201,
   "metadata": {
    "execution": {
     "iopub.execute_input": "2023-11-22T16:26:29.687081Z",
     "iopub.status.busy": "2023-11-22T16:26:29.685622Z",
     "iopub.status.idle": "2023-11-22T16:26:29.920169Z",
     "shell.execute_reply": "2023-11-22T16:26:29.919331Z",
     "shell.execute_reply.started": "2023-11-22T16:26:29.687025Z"
    }
   },
   "outputs": [
    {
     "data": {
      "image/png": "[encoded data removed]",
      "text/plain": [
       "<Figure size 640x480 with 1 Axes>"
      ]
     },
     "metadata": {},
     "output_type": "display_data"
    }
   ],
   "source": [
    "sns.kdeplot(data_fraud.amt)\n",
    "plt.xlim(left=0)\n",
    "plt.show()"
   ]
  },
  {
   "cell_type": "code",
   "execution_count": 202,
   "metadata": {
    "execution": {
     "iopub.execute_input": "2023-11-22T16:26:29.922438Z",
     "iopub.status.busy": "2023-11-22T16:26:29.921162Z",
     "iopub.status.idle": "2023-11-22T16:26:30.165745Z",
     "shell.execute_reply": "2023-11-22T16:26:30.164301Z",
     "shell.execute_reply.started": "2023-11-22T16:26:29.92238Z"
    }
   },
   "outputs": [
    {
     "data": {
      "image/png": "[encoded data removed]",
      "text/plain": [
       "<Figure size 640x480 with 1 Axes>"
      ]
     },
     "metadata": {},
     "output_type": "display_data"
    }
   ],
   "source": [
    "# Let's see in which category the losses are huge\n",
    "data_cat = data_fraud.groupby(by=\"category\")[\"amt\"].sum()\n",
    "sns.barplot(y=data_cat.index, x=data_cat)\n",
    "plt.show()\n"
   ]
  },
  {
   "cell_type": "code",
   "execution_count": 203,
   "metadata": {
    "execution": {
     "iopub.execute_input": "2023-11-22T16:26:30.167424Z",
     "iopub.status.busy": "2023-11-22T16:26:30.167106Z",
     "iopub.status.idle": "2023-11-22T16:26:30.188051Z",
     "shell.execute_reply": "2023-11-22T16:26:30.185923Z",
     "shell.execute_reply.started": "2023-11-22T16:26:30.167397Z"
    }
   },
   "outputs": [
    {
     "name": "stdout",
     "output_type": "stream",
     "text": [
      "<class 'pandas.core.frame.DataFrame'>\n",
      "Int64Index: 7506 entries, 57 to 522982\n",
      "Data columns (total 15 columns):\n",
      " #   Column                 Non-Null Count  Dtype         \n",
      "---  ------                 --------------  -----         \n",
      " 0   trans_date_trans_time  7506 non-null   datetime64[ns]\n",
      " 1   cc_num                 7506 non-null   int64         \n",
      " 2   merchant               7506 non-null   object        \n",
      " 3   category               7506 non-null   object        \n",
      " 4   amt                    7506 non-null   float64       \n",
      " 5   gender                 7506 non-null   object        \n",
      " 6   state                  7506 non-null   object        \n",
      " 7   job                    7506 non-null   object        \n",
      " 8   is_fraud               7506 non-null   int64         \n",
      " 9   recency                7506 non-null   float64       \n",
      " 10  displacement           7506 non-null   float64       \n",
      " 11  location               7506 non-null   object        \n",
      " 12  Time                   7506 non-null   int64         \n",
      " 13  city_pop_segment       7506 non-null   object        \n",
      " 14  recency_segment        7506 non-null   object        \n",
      "dtypes: datetime64[ns](1), float64(3), int64(3), object(8)\n",
      "memory usage: 1.2+ MB\n"
     ]
    }
   ],
   "source": [
    "data_fraud.info()"
   ]
  },
  {
   "cell_type": "code",
   "execution_count": 204,
   "metadata": {
    "execution": {
     "iopub.execute_input": "2023-11-22T16:26:30.190382Z",
     "iopub.status.busy": "2023-11-22T16:26:30.190056Z",
     "iopub.status.idle": "2023-11-22T16:26:30.447154Z",
     "shell.execute_reply": "2023-11-22T16:26:30.445892Z",
     "shell.execute_reply.started": "2023-11-22T16:26:30.190357Z"
    }
   },
   "outputs": [
    {
     "data": {
      "image/png": "[encoded data removed]",
      "text/plain": [
       "<Figure size 640x480 with 1 Axes>"
      ]
     },
     "metadata": {},
     "output_type": "display_data"
    },
    {
     "data": {
      "text/html": [
       "<div>\n",
       "<style scoped>\n",
       "    .dataframe tbody tr th:only-of-type {\n",
       "        vertical-align: middle;\n",
       "    }\n",
       "\n",
       "    .dataframe tbody tr th {\n",
       "        vertical-align: top;\n",
       "    }\n",
       "\n",
       "    .dataframe thead th {\n",
       "        text-align: right;\n",
       "    }\n",
       "</style>\n",
       "<table border=\"1\" class=\"dataframe\">\n",
       "  <thead>\n",
       "    <tr style=\"text-align: right;\">\n",
       "      <th></th>\n",
       "      <th>Category</th>\n",
       "      <th>Ticket Size</th>\n",
       "    </tr>\n",
       "  </thead>\n",
       "  <tbody>\n",
       "    <tr>\n",
       "      <th>0</th>\n",
       "      <td>shopping_net</td>\n",
       "      <td>1711723.71</td>\n",
       "    </tr>\n",
       "    <tr>\n",
       "      <th>1</th>\n",
       "      <td>shopping_pos</td>\n",
       "      <td>739245.09</td>\n",
       "    </tr>\n",
       "    <tr>\n",
       "      <th>2</th>\n",
       "      <td>misc_net</td>\n",
       "      <td>729266.76</td>\n",
       "    </tr>\n",
       "    <tr>\n",
       "      <th>3</th>\n",
       "      <td>grocery_pos</td>\n",
       "      <td>543797.90</td>\n",
       "    </tr>\n",
       "    <tr>\n",
       "      <th>4</th>\n",
       "      <td>entertainment</td>\n",
       "      <td>117323.79</td>\n",
       "    </tr>\n",
       "    <tr>\n",
       "      <th>5</th>\n",
       "      <td>misc_pos</td>\n",
       "      <td>54571.02</td>\n",
       "    </tr>\n",
       "    <tr>\n",
       "      <th>6</th>\n",
       "      <td>home</td>\n",
       "      <td>50971.66</td>\n",
       "    </tr>\n",
       "    <tr>\n",
       "      <th>7</th>\n",
       "      <td>food_dining</td>\n",
       "      <td>18131.62</td>\n",
       "    </tr>\n",
       "    <tr>\n",
       "      <th>8</th>\n",
       "      <td>gas_transport</td>\n",
       "      <td>7594.11</td>\n",
       "    </tr>\n",
       "    <tr>\n",
       "      <th>9</th>\n",
       "      <td>personal_care</td>\n",
       "      <td>5757.52</td>\n",
       "    </tr>\n",
       "    <tr>\n",
       "      <th>10</th>\n",
       "      <td>kids_pets</td>\n",
       "      <td>4331.08</td>\n",
       "    </tr>\n",
       "    <tr>\n",
       "      <th>11</th>\n",
       "      <td>health_fitness</td>\n",
       "      <td>2693.04</td>\n",
       "    </tr>\n",
       "    <tr>\n",
       "      <th>12</th>\n",
       "      <td>grocery_net</td>\n",
       "      <td>1629.82</td>\n",
       "    </tr>\n",
       "    <tr>\n",
       "      <th>13</th>\n",
       "      <td>travel</td>\n",
       "      <td>1051.49</td>\n",
       "    </tr>\n",
       "  </tbody>\n",
       "</table>\n",
       "</div>"
      ],
      "text/plain": [
       "          Category  Ticket Size\n",
       "0     shopping_net   1711723.71\n",
       "1     shopping_pos    739245.09\n",
       "2         misc_net    729266.76\n",
       "3      grocery_pos    543797.90\n",
       "4    entertainment    117323.79\n",
       "5         misc_pos     54571.02\n",
       "6             home     50971.66\n",
       "7      food_dining     18131.62\n",
       "8    gas_transport      7594.11\n",
       "9    personal_care      5757.52\n",
       "10       kids_pets      4331.08\n",
       "11  health_fitness      2693.04\n",
       "12     grocery_net      1629.82\n",
       "13          travel      1051.49"
      ]
     },
     "execution_count": 204,
     "metadata": {},
     "output_type": "execute_result"
    }
   ],
   "source": [
    "data_cat = data_fraud.groupby(by=[\"category\", \"is_fraud\"])[\"amt\"].sum().reset_index()\n",
    "\n",
    "# Filter only the fraud entries\n",
    "data_fraud_only = data_cat[data_cat[\"is_fraud\"] == True]\n",
    "\n",
    "sns.barplot(y=data_fraud_only[\"category\"], x=data_fraud_only[\"amt\"])\n",
    "plt.show()\n",
    "\n",
    "# Creating a DataFrame for Ticket Size\n",
    "data_ticket = pd.DataFrame({\"Category\": data_fraud_only[\"category\"], \"Ticket Size\": data_fraud_only[\"amt\"]})\n",
    "data_ticket.sort_values(by=\"Ticket Size\", ascending=False, inplace=True)\n",
    "data_ticket.reset_index(drop=True, inplace=True)\n",
    "\n",
    "data_ticket\n"
   ]
  },
  {
   "cell_type": "markdown",
   "metadata": {},
   "source": [
    "# Model Building "
   ]
  },
  {
   "cell_type": "markdown",
   "metadata": {},
   "source": [
    "**Logistic Regression**"
   ]
  },
  {
   "cell_type": "markdown",
   "metadata": {},
   "source": [
    "**Building a model***"
   ]
  },
  {
   "cell_type": "code",
   "execution_count": 205,
   "metadata": {
    "execution": {
     "iopub.execute_input": "2023-11-22T16:26:30.448699Z",
     "iopub.status.busy": "2023-11-22T16:26:30.448392Z",
     "iopub.status.idle": "2023-11-22T16:26:31.157935Z",
     "shell.execute_reply": "2023-11-22T16:26:31.156534Z",
     "shell.execute_reply.started": "2023-11-22T16:26:30.448671Z"
    }
   },
   "outputs": [],
   "source": [
    "data4 = data.drop(columns=[\"trans_date_trans_time\",\"cc_num\",\"merchant\",\"job\",\"state\"])\n",
    "data5 = pd.get_dummies(data=data4,columns=[\"category\",\"gender\",\"recency_segment\",\"city_pop_segment\",\"location\"], drop_first=True)\n",
    "\n",
    "# assigning them to test dataset\n",
    "\n",
    "data6 = data_t.drop(columns=[\"trans_date_trans_time\",\"cc_num\",\"merchant\",\"job\",\"state\"])\n",
    "data_test = pd.get_dummies(data=data6,columns=[\"category\",\"gender\",\"recency_segment\",\"city_pop_segment\",\"location\"], drop_first=True)"
   ]
  },
  {
   "cell_type": "code",
   "execution_count": 206,
   "metadata": {
    "execution": {
     "iopub.execute_input": "2023-11-22T16:26:31.159448Z",
     "iopub.status.busy": "2023-11-22T16:26:31.159161Z",
     "iopub.status.idle": "2023-11-22T16:26:31.185182Z",
     "shell.execute_reply": "2023-11-22T16:26:31.183803Z",
     "shell.execute_reply.started": "2023-11-22T16:26:31.159423Z"
    }
   },
   "outputs": [
    {
     "data": {
      "text/html": [
       "<div>\n",
       "<style scoped>\n",
       "    .dataframe tbody tr th:only-of-type {\n",
       "        vertical-align: middle;\n",
       "    }\n",
       "\n",
       "    .dataframe tbody tr th {\n",
       "        vertical-align: top;\n",
       "    }\n",
       "\n",
       "    .dataframe thead th {\n",
       "        text-align: right;\n",
       "    }\n",
       "</style>\n",
       "<table border=\"1\" class=\"dataframe\">\n",
       "  <thead>\n",
       "    <tr style=\"text-align: right;\">\n",
       "      <th></th>\n",
       "      <th>amt</th>\n",
       "      <th>recency</th>\n",
       "      <th>displacement</th>\n",
       "      <th>Time</th>\n",
       "      <th>category_food_dining</th>\n",
       "      <th>category_gas_transport</th>\n",
       "      <th>category_grocery_net</th>\n",
       "      <th>category_grocery_pos</th>\n",
       "      <th>category_health_fitness</th>\n",
       "      <th>category_home</th>\n",
       "      <th>...</th>\n",
       "      <th>gender_M</th>\n",
       "      <th>recency_segment_After 6 hours</th>\n",
       "      <th>recency_segment_After Half-Day</th>\n",
       "      <th>recency_segment_First Transaction</th>\n",
       "      <th>recency_segment_Recent_Transaction</th>\n",
       "      <th>recency_segment_Within 6 hours</th>\n",
       "      <th>city_pop_segment_Densely populated</th>\n",
       "      <th>city_pop_segment_Less Dense</th>\n",
       "      <th>location_Long Distance</th>\n",
       "      <th>location_Nearby</th>\n",
       "    </tr>\n",
       "  </thead>\n",
       "  <tbody>\n",
       "    <tr>\n",
       "      <th>0</th>\n",
       "      <td>2.86</td>\n",
       "      <td>-0.000278</td>\n",
       "      <td>29.260485</td>\n",
       "      <td>12</td>\n",
       "      <td>0</td>\n",
       "      <td>0</td>\n",
       "      <td>0</td>\n",
       "      <td>0</td>\n",
       "      <td>0</td>\n",
       "      <td>0</td>\n",
       "      <td>...</td>\n",
       "      <td>1</td>\n",
       "      <td>0</td>\n",
       "      <td>0</td>\n",
       "      <td>1</td>\n",
       "      <td>0</td>\n",
       "      <td>0</td>\n",
       "      <td>1</td>\n",
       "      <td>0</td>\n",
       "      <td>0</td>\n",
       "      <td>1</td>\n",
       "    </tr>\n",
       "    <tr>\n",
       "      <th>1</th>\n",
       "      <td>29.84</td>\n",
       "      <td>-0.000278</td>\n",
       "      <td>109.084144</td>\n",
       "      <td>12</td>\n",
       "      <td>0</td>\n",
       "      <td>0</td>\n",
       "      <td>0</td>\n",
       "      <td>0</td>\n",
       "      <td>0</td>\n",
       "      <td>0</td>\n",
       "      <td>...</td>\n",
       "      <td>0</td>\n",
       "      <td>0</td>\n",
       "      <td>0</td>\n",
       "      <td>1</td>\n",
       "      <td>0</td>\n",
       "      <td>0</td>\n",
       "      <td>0</td>\n",
       "      <td>1</td>\n",
       "      <td>1</td>\n",
       "      <td>0</td>\n",
       "    </tr>\n",
       "    <tr>\n",
       "      <th>2</th>\n",
       "      <td>41.28</td>\n",
       "      <td>-0.000278</td>\n",
       "      <td>75.126661</td>\n",
       "      <td>12</td>\n",
       "      <td>0</td>\n",
       "      <td>0</td>\n",
       "      <td>0</td>\n",
       "      <td>0</td>\n",
       "      <td>1</td>\n",
       "      <td>0</td>\n",
       "      <td>...</td>\n",
       "      <td>0</td>\n",
       "      <td>0</td>\n",
       "      <td>0</td>\n",
       "      <td>1</td>\n",
       "      <td>0</td>\n",
       "      <td>0</td>\n",
       "      <td>0</td>\n",
       "      <td>0</td>\n",
       "      <td>0</td>\n",
       "      <td>0</td>\n",
       "    </tr>\n",
       "    <tr>\n",
       "      <th>3</th>\n",
       "      <td>60.05</td>\n",
       "      <td>-0.000278</td>\n",
       "      <td>27.608319</td>\n",
       "      <td>12</td>\n",
       "      <td>0</td>\n",
       "      <td>0</td>\n",
       "      <td>0</td>\n",
       "      <td>0</td>\n",
       "      <td>0</td>\n",
       "      <td>0</td>\n",
       "      <td>...</td>\n",
       "      <td>1</td>\n",
       "      <td>0</td>\n",
       "      <td>0</td>\n",
       "      <td>1</td>\n",
       "      <td>0</td>\n",
       "      <td>0</td>\n",
       "      <td>1</td>\n",
       "      <td>0</td>\n",
       "      <td>0</td>\n",
       "      <td>1</td>\n",
       "    </tr>\n",
       "    <tr>\n",
       "      <th>4</th>\n",
       "      <td>3.19</td>\n",
       "      <td>-0.000278</td>\n",
       "      <td>123.069725</td>\n",
       "      <td>12</td>\n",
       "      <td>0</td>\n",
       "      <td>0</td>\n",
       "      <td>0</td>\n",
       "      <td>0</td>\n",
       "      <td>0</td>\n",
       "      <td>0</td>\n",
       "      <td>...</td>\n",
       "      <td>1</td>\n",
       "      <td>0</td>\n",
       "      <td>0</td>\n",
       "      <td>1</td>\n",
       "      <td>0</td>\n",
       "      <td>0</td>\n",
       "      <td>0</td>\n",
       "      <td>1</td>\n",
       "      <td>1</td>\n",
       "      <td>0</td>\n",
       "    </tr>\n",
       "  </tbody>\n",
       "</table>\n",
       "<p>5 rows × 27 columns</p>\n",
       "</div>"
      ],
      "text/plain": [
       "     amt   recency  displacement  Time  category_food_dining  \\\n",
       "0   2.86 -0.000278     29.260485    12                     0   \n",
       "1  29.84 -0.000278    109.084144    12                     0   \n",
       "2  41.28 -0.000278     75.126661    12                     0   \n",
       "3  60.05 -0.000278     27.608319    12                     0   \n",
       "4   3.19 -0.000278    123.069725    12                     0   \n",
       "\n",
       "   category_gas_transport  category_grocery_net  category_grocery_pos  \\\n",
       "0                       0                     0                     0   \n",
       "1                       0                     0                     0   \n",
       "2                       0                     0                     0   \n",
       "3                       0                     0                     0   \n",
       "4                       0                     0                     0   \n",
       "\n",
       "   category_health_fitness  category_home  ...  gender_M  \\\n",
       "0                        0              0  ...         1   \n",
       "1                        0              0  ...         0   \n",
       "2                        1              0  ...         0   \n",
       "3                        0              0  ...         1   \n",
       "4                        0              0  ...         1   \n",
       "\n",
       "   recency_segment_After 6 hours  recency_segment_After Half-Day  \\\n",
       "0                              0                               0   \n",
       "1                              0                               0   \n",
       "2                              0                               0   \n",
       "3                              0                               0   \n",
       "4                              0                               0   \n",
       "\n",
       "   recency_segment_First Transaction  recency_segment_Recent_Transaction  \\\n",
       "0                                  1                                   0   \n",
       "1                                  1                                   0   \n",
       "2                                  1                                   0   \n",
       "3                                  1                                   0   \n",
       "4                                  1                                   0   \n",
       "\n",
       "   recency_segment_Within 6 hours  city_pop_segment_Densely populated  \\\n",
       "0                               0                                   1   \n",
       "1                               0                                   0   \n",
       "2                               0                                   0   \n",
       "3                               0                                   1   \n",
       "4                               0                                   0   \n",
       "\n",
       "   city_pop_segment_Less Dense  location_Long Distance  location_Nearby  \n",
       "0                            0                       0                1  \n",
       "1                            1                       1                0  \n",
       "2                            0                       0                0  \n",
       "3                            0                       0                1  \n",
       "4                            1                       1                0  \n",
       "\n",
       "[5 rows x 27 columns]"
      ]
     },
     "execution_count": 206,
     "metadata": {},
     "output_type": "execute_result"
    }
   ],
   "source": [
    "data_test.head()"
   ]
  },
  {
   "cell_type": "code",
   "execution_count": 207,
   "metadata": {
    "execution": {
     "iopub.execute_input": "2023-11-22T16:26:31.186912Z",
     "iopub.status.busy": "2023-11-22T16:26:31.186636Z",
     "iopub.status.idle": "2023-11-22T16:26:31.191562Z",
     "shell.execute_reply": "2023-11-22T16:26:31.190092Z",
     "shell.execute_reply.started": "2023-11-22T16:26:31.186888Z"
    }
   },
   "outputs": [],
   "source": [
    "from sklearn.preprocessing import StandardScaler\n",
    "\n",
    "sc=StandardScaler()"
   ]
  },
  {
   "cell_type": "code",
   "execution_count": 208,
   "metadata": {
    "execution": {
     "iopub.execute_input": "2023-11-22T16:26:31.193332Z",
     "iopub.status.busy": "2023-11-22T16:26:31.192989Z",
     "iopub.status.idle": "2023-11-22T16:26:31.234169Z",
     "shell.execute_reply": "2023-11-22T16:26:31.232918Z",
     "shell.execute_reply.started": "2023-11-22T16:26:31.193304Z"
    }
   },
   "outputs": [],
   "source": [
    "data5[[\"amt\",\"Time\",\"displacement\",\"recency\"]] = sc.fit_transform(data5[[\"amt\",\"Time\",\"displacement\",\"recency\"]])"
   ]
  },
  {
   "cell_type": "code",
   "execution_count": 209,
   "metadata": {
    "execution": {
     "iopub.execute_input": "2023-11-22T16:26:31.23635Z",
     "iopub.status.busy": "2023-11-22T16:26:31.235901Z",
     "iopub.status.idle": "2023-11-22T16:26:31.259274Z",
     "shell.execute_reply": "2023-11-22T16:26:31.258403Z",
     "shell.execute_reply.started": "2023-11-22T16:26:31.236319Z"
    }
   },
   "outputs": [
    {
     "data": {
      "text/html": [
       "<div>\n",
       "<style scoped>\n",
       "    .dataframe tbody tr th:only-of-type {\n",
       "        vertical-align: middle;\n",
       "    }\n",
       "\n",
       "    .dataframe tbody tr th {\n",
       "        vertical-align: top;\n",
       "    }\n",
       "\n",
       "    .dataframe thead th {\n",
       "        text-align: right;\n",
       "    }\n",
       "</style>\n",
       "<table border=\"1\" class=\"dataframe\">\n",
       "  <thead>\n",
       "    <tr style=\"text-align: right;\">\n",
       "      <th></th>\n",
       "      <th>amt</th>\n",
       "      <th>is_fraud</th>\n",
       "      <th>recency</th>\n",
       "      <th>displacement</th>\n",
       "      <th>Time</th>\n",
       "      <th>category_food_dining</th>\n",
       "      <th>category_gas_transport</th>\n",
       "      <th>category_grocery_net</th>\n",
       "      <th>category_grocery_pos</th>\n",
       "      <th>category_health_fitness</th>\n",
       "      <th>...</th>\n",
       "      <th>gender_M</th>\n",
       "      <th>recency_segment_After 6 hours</th>\n",
       "      <th>recency_segment_After Half-Day</th>\n",
       "      <th>recency_segment_First Transaction</th>\n",
       "      <th>recency_segment_Recent_Transaction</th>\n",
       "      <th>recency_segment_Within 6 hours</th>\n",
       "      <th>city_pop_segment_Densely populated</th>\n",
       "      <th>city_pop_segment_Less Dense</th>\n",
       "      <th>location_Long Distance</th>\n",
       "      <th>location_Nearby</th>\n",
       "    </tr>\n",
       "  </thead>\n",
       "  <tbody>\n",
       "    <tr>\n",
       "      <th>0</th>\n",
       "      <td>-0.406597</td>\n",
       "      <td>0</td>\n",
       "      <td>0.000003</td>\n",
       "      <td>-0.682602</td>\n",
       "      <td>-0.412513</td>\n",
       "      <td>0</td>\n",
       "      <td>0</td>\n",
       "      <td>0</td>\n",
       "      <td>0</td>\n",
       "      <td>0</td>\n",
       "      <td>...</td>\n",
       "      <td>1</td>\n",
       "      <td>0</td>\n",
       "      <td>0</td>\n",
       "      <td>1</td>\n",
       "      <td>0</td>\n",
       "      <td>0</td>\n",
       "      <td>0</td>\n",
       "      <td>1</td>\n",
       "      <td>0</td>\n",
       "      <td>0</td>\n",
       "    </tr>\n",
       "    <tr>\n",
       "      <th>1</th>\n",
       "      <td>-0.411882</td>\n",
       "      <td>0</td>\n",
       "      <td>0.000003</td>\n",
       "      <td>-0.344847</td>\n",
       "      <td>1.195999</td>\n",
       "      <td>0</td>\n",
       "      <td>0</td>\n",
       "      <td>0</td>\n",
       "      <td>0</td>\n",
       "      <td>0</td>\n",
       "      <td>...</td>\n",
       "      <td>0</td>\n",
       "      <td>0</td>\n",
       "      <td>0</td>\n",
       "      <td>1</td>\n",
       "      <td>0</td>\n",
       "      <td>0</td>\n",
       "      <td>0</td>\n",
       "      <td>0</td>\n",
       "      <td>0</td>\n",
       "      <td>0</td>\n",
       "    </tr>\n",
       "    <tr>\n",
       "      <th>2</th>\n",
       "      <td>0.446238</td>\n",
       "      <td>0</td>\n",
       "      <td>0.000003</td>\n",
       "      <td>-2.026203</td>\n",
       "      <td>-0.412513</td>\n",
       "      <td>0</td>\n",
       "      <td>0</td>\n",
       "      <td>0</td>\n",
       "      <td>1</td>\n",
       "      <td>0</td>\n",
       "      <td>...</td>\n",
       "      <td>0</td>\n",
       "      <td>0</td>\n",
       "      <td>0</td>\n",
       "      <td>1</td>\n",
       "      <td>0</td>\n",
       "      <td>0</td>\n",
       "      <td>0</td>\n",
       "      <td>1</td>\n",
       "      <td>0</td>\n",
       "      <td>1</td>\n",
       "    </tr>\n",
       "    <tr>\n",
       "      <th>3</th>\n",
       "      <td>-0.253464</td>\n",
       "      <td>0</td>\n",
       "      <td>0.000003</td>\n",
       "      <td>-0.104631</td>\n",
       "      <td>0.464857</td>\n",
       "      <td>0</td>\n",
       "      <td>0</td>\n",
       "      <td>0</td>\n",
       "      <td>0</td>\n",
       "      <td>0</td>\n",
       "      <td>...</td>\n",
       "      <td>1</td>\n",
       "      <td>0</td>\n",
       "      <td>0</td>\n",
       "      <td>1</td>\n",
       "      <td>0</td>\n",
       "      <td>0</td>\n",
       "      <td>1</td>\n",
       "      <td>0</td>\n",
       "      <td>0</td>\n",
       "      <td>0</td>\n",
       "    </tr>\n",
       "    <tr>\n",
       "      <th>4</th>\n",
       "      <td>-0.269318</td>\n",
       "      <td>0</td>\n",
       "      <td>0.000003</td>\n",
       "      <td>-0.208874</td>\n",
       "      <td>1.195999</td>\n",
       "      <td>0</td>\n",
       "      <td>0</td>\n",
       "      <td>0</td>\n",
       "      <td>0</td>\n",
       "      <td>0</td>\n",
       "      <td>...</td>\n",
       "      <td>1</td>\n",
       "      <td>0</td>\n",
       "      <td>0</td>\n",
       "      <td>1</td>\n",
       "      <td>0</td>\n",
       "      <td>0</td>\n",
       "      <td>0</td>\n",
       "      <td>1</td>\n",
       "      <td>0</td>\n",
       "      <td>0</td>\n",
       "    </tr>\n",
       "  </tbody>\n",
       "</table>\n",
       "<p>5 rows × 28 columns</p>\n",
       "</div>"
      ],
      "text/plain": [
       "        amt  is_fraud   recency  displacement      Time  category_food_dining  \\\n",
       "0 -0.406597         0  0.000003     -0.682602 -0.412513                     0   \n",
       "1 -0.411882         0  0.000003     -0.344847  1.195999                     0   \n",
       "2  0.446238         0  0.000003     -2.026203 -0.412513                     0   \n",
       "3 -0.253464         0  0.000003     -0.104631  0.464857                     0   \n",
       "4 -0.269318         0  0.000003     -0.208874  1.195999                     0   \n",
       "\n",
       "   category_gas_transport  category_grocery_net  category_grocery_pos  \\\n",
       "0                       0                     0                     0   \n",
       "1                       0                     0                     0   \n",
       "2                       0                     0                     1   \n",
       "3                       0                     0                     0   \n",
       "4                       0                     0                     0   \n",
       "\n",
       "   category_health_fitness  ...  gender_M  recency_segment_After 6 hours  \\\n",
       "0                        0  ...         1                              0   \n",
       "1                        0  ...         0                              0   \n",
       "2                        0  ...         0                              0   \n",
       "3                        0  ...         1                              0   \n",
       "4                        0  ...         1                              0   \n",
       "\n",
       "   recency_segment_After Half-Day  recency_segment_First Transaction  \\\n",
       "0                               0                                  1   \n",
       "1                               0                                  1   \n",
       "2                               0                                  1   \n",
       "3                               0                                  1   \n",
       "4                               0                                  1   \n",
       "\n",
       "   recency_segment_Recent_Transaction  recency_segment_Within 6 hours  \\\n",
       "0                                   0                               0   \n",
       "1                                   0                               0   \n",
       "2                                   0                               0   \n",
       "3                                   0                               0   \n",
       "4                                   0                               0   \n",
       "\n",
       "   city_pop_segment_Densely populated  city_pop_segment_Less Dense  \\\n",
       "0                                   0                            1   \n",
       "1                                   0                            0   \n",
       "2                                   0                            1   \n",
       "3                                   1                            0   \n",
       "4                                   0                            1   \n",
       "\n",
       "   location_Long Distance  location_Nearby  \n",
       "0                       0                0  \n",
       "1                       0                0  \n",
       "2                       0                1  \n",
       "3                       0                0  \n",
       "4                       0                0  \n",
       "\n",
       "[5 rows x 28 columns]"
      ]
     },
     "execution_count": 209,
     "metadata": {},
     "output_type": "execute_result"
    }
   ],
   "source": [
    "data5.head()"
   ]
  },
  {
   "cell_type": "code",
   "execution_count": 210,
   "metadata": {
    "execution": {
     "iopub.execute_input": "2023-11-22T16:26:31.260419Z",
     "iopub.status.busy": "2023-11-22T16:26:31.260154Z",
     "iopub.status.idle": "2023-11-22T16:26:31.283982Z",
     "shell.execute_reply": "2023-11-22T16:26:31.282668Z",
     "shell.execute_reply.started": "2023-11-22T16:26:31.260395Z"
    }
   },
   "outputs": [],
   "source": [
    "y= data5.is_fraud[:]\n",
    "x=data5.drop(\"is_fraud\",axis=1)\n"
   ]
  },
  {
   "cell_type": "code",
   "execution_count": 211,
   "metadata": {
    "execution": {
     "iopub.execute_input": "2023-11-22T16:26:31.286359Z",
     "iopub.status.busy": "2023-11-22T16:26:31.285867Z",
     "iopub.status.idle": "2023-11-22T16:26:31.307223Z",
     "shell.execute_reply": "2023-11-22T16:26:31.306377Z",
     "shell.execute_reply.started": "2023-11-22T16:26:31.286324Z"
    }
   },
   "outputs": [
    {
     "name": "stdout",
     "output_type": "stream",
     "text": [
      "<class 'pandas.core.frame.DataFrame'>\n",
      "RangeIndex: 523174 entries, 0 to 523173\n",
      "Data columns (total 28 columns):\n",
      " #   Column                              Non-Null Count   Dtype  \n",
      "---  ------                              --------------   -----  \n",
      " 0   amt                                 523174 non-null  float64\n",
      " 1   is_fraud                            523174 non-null  int64  \n",
      " 2   recency                             523174 non-null  float64\n",
      " 3   displacement                        523174 non-null  float64\n",
      " 4   Time                                523174 non-null  float64\n",
      " 5   category_food_dining                523174 non-null  uint8  \n",
      " 6   category_gas_transport              523174 non-null  uint8  \n",
      " 7   category_grocery_net                523174 non-null  uint8  \n",
      " 8   category_grocery_pos                523174 non-null  uint8  \n",
      " 9   category_health_fitness             523174 non-null  uint8  \n",
      " 10  category_home                       523174 non-null  uint8  \n",
      " 11  category_kids_pets                  523174 non-null  uint8  \n",
      " 12  category_misc_net                   523174 non-null  uint8  \n",
      " 13  category_misc_pos                   523174 non-null  uint8  \n",
      " 14  category_personal_care              523174 non-null  uint8  \n",
      " 15  category_shopping_net               523174 non-null  uint8  \n",
      " 16  category_shopping_pos               523174 non-null  uint8  \n",
      " 17  category_travel                     523174 non-null  uint8  \n",
      " 18  gender_M                            523174 non-null  uint8  \n",
      " 19  recency_segment_After 6 hours       523174 non-null  uint8  \n",
      " 20  recency_segment_After Half-Day      523174 non-null  uint8  \n",
      " 21  recency_segment_First Transaction   523174 non-null  uint8  \n",
      " 22  recency_segment_Recent_Transaction  523174 non-null  uint8  \n",
      " 23  recency_segment_Within 6 hours      523174 non-null  uint8  \n",
      " 24  city_pop_segment_Densely populated  523174 non-null  uint8  \n",
      " 25  city_pop_segment_Less Dense         523174 non-null  uint8  \n",
      " 26  location_Long Distance              523174 non-null  uint8  \n",
      " 27  location_Nearby                     523174 non-null  uint8  \n",
      "dtypes: float64(4), int64(1), uint8(23)\n",
      "memory usage: 31.4 MB\n"
     ]
    }
   ],
   "source": [
    "data5.info()"
   ]
  },
  {
   "cell_type": "code",
   "execution_count": 212,
   "metadata": {
    "execution": {
     "iopub.execute_input": "2023-11-22T16:26:31.308483Z",
     "iopub.status.busy": "2023-11-22T16:26:31.308191Z",
     "iopub.status.idle": "2023-11-22T16:26:31.346728Z",
     "shell.execute_reply": "2023-11-22T16:26:31.346023Z",
     "shell.execute_reply.started": "2023-11-22T16:26:31.308458Z"
    }
   },
   "outputs": [],
   "source": [
    "boolean_columns = data5.select_dtypes(include=bool).columns\n",
    "data5[boolean_columns] = data5[boolean_columns].astype(int)"
   ]
  },
  {
   "cell_type": "code",
   "execution_count": 213,
   "metadata": {
    "execution": {
     "iopub.execute_input": "2023-11-22T16:26:31.348109Z",
     "iopub.status.busy": "2023-11-22T16:26:31.347798Z",
     "iopub.status.idle": "2023-11-22T16:26:31.372255Z",
     "shell.execute_reply": "2023-11-22T16:26:31.371077Z",
     "shell.execute_reply.started": "2023-11-22T16:26:31.348084Z"
    }
   },
   "outputs": [
    {
     "name": "stdout",
     "output_type": "stream",
     "text": [
      "<class 'pandas.core.frame.DataFrame'>\n",
      "RangeIndex: 523174 entries, 0 to 523173\n",
      "Data columns (total 28 columns):\n",
      " #   Column                              Non-Null Count   Dtype  \n",
      "---  ------                              --------------   -----  \n",
      " 0   amt                                 523174 non-null  float64\n",
      " 1   is_fraud                            523174 non-null  int64  \n",
      " 2   recency                             523174 non-null  float64\n",
      " 3   displacement                        523174 non-null  float64\n",
      " 4   Time                                523174 non-null  float64\n",
      " 5   category_food_dining                523174 non-null  uint8  \n",
      " 6   category_gas_transport              523174 non-null  uint8  \n",
      " 7   category_grocery_net                523174 non-null  uint8  \n",
      " 8   category_grocery_pos                523174 non-null  uint8  \n",
      " 9   category_health_fitness             523174 non-null  uint8  \n",
      " 10  category_home                       523174 non-null  uint8  \n",
      " 11  category_kids_pets                  523174 non-null  uint8  \n",
      " 12  category_misc_net                   523174 non-null  uint8  \n",
      " 13  category_misc_pos                   523174 non-null  uint8  \n",
      " 14  category_personal_care              523174 non-null  uint8  \n",
      " 15  category_shopping_net               523174 non-null  uint8  \n",
      " 16  category_shopping_pos               523174 non-null  uint8  \n",
      " 17  category_travel                     523174 non-null  uint8  \n",
      " 18  gender_M                            523174 non-null  uint8  \n",
      " 19  recency_segment_After 6 hours       523174 non-null  uint8  \n",
      " 20  recency_segment_After Half-Day      523174 non-null  uint8  \n",
      " 21  recency_segment_First Transaction   523174 non-null  uint8  \n",
      " 22  recency_segment_Recent_Transaction  523174 non-null  uint8  \n",
      " 23  recency_segment_Within 6 hours      523174 non-null  uint8  \n",
      " 24  city_pop_segment_Densely populated  523174 non-null  uint8  \n",
      " 25  city_pop_segment_Less Dense         523174 non-null  uint8  \n",
      " 26  location_Long Distance              523174 non-null  uint8  \n",
      " 27  location_Nearby                     523174 non-null  uint8  \n",
      "dtypes: float64(4), int64(1), uint8(23)\n",
      "memory usage: 31.4 MB\n"
     ]
    }
   ],
   "source": [
    "data5.info()"
   ]
  },
  {
   "cell_type": "code",
   "execution_count": 214,
   "metadata": {
    "execution": {
     "iopub.execute_input": "2023-11-22T16:26:31.375072Z",
     "iopub.status.busy": "2023-11-22T16:26:31.373815Z",
     "iopub.status.idle": "2023-11-22T16:26:36.413492Z",
     "shell.execute_reply": "2023-11-22T16:26:36.412486Z",
     "shell.execute_reply.started": "2023-11-22T16:26:31.375021Z"
    }
   },
   "outputs": [
    {
     "name": "stdout",
     "output_type": "stream",
     "text": [
      "                 Generalized Linear Model Regression Results                  \n",
      "==============================================================================\n",
      "Dep. Variable:               is_fraud   No. Observations:               523174\n",
      "Model:                            GLM   Df Residuals:                   523146\n",
      "Model Family:                Binomial   Df Model:                           27\n",
      "Link Function:                  Logit   Scale:                          1.0000\n",
      "Method:                          IRLS   Log-Likelihood:                -28479.\n",
      "Date:                Mon, 25 Nov 2024   Deviance:                       56958.\n",
      "Time:                        12:58:43   Pearson chi2:                 6.08e+16\n",
      "No. Iterations:                    11   Pseudo R-squ. (CS):            0.04055\n",
      "Covariance Type:            nonrobust                                         \n",
      "======================================================================================================\n",
      "                                         coef    std err          z      P>|z|      [0.025      0.975]\n",
      "------------------------------------------------------------------------------------------------------\n",
      "const                                 -5.7970      0.085    -68.582      0.000      -5.963      -5.631\n",
      "amt                                    0.6834      0.007     91.415      0.000       0.669       0.698\n",
      "recency                                0.0648      0.023      2.864      0.004       0.020       0.109\n",
      "displacement                          -0.0386      0.031     -1.253      0.210      -0.099       0.022\n",
      "Time                                   0.6195      0.017     36.625      0.000       0.586       0.653\n",
      "category_food_dining                  -0.3258      0.105     -3.099      0.002      -0.532      -0.120\n",
      "category_gas_transport                 1.6955      0.083     20.535      0.000       1.534       1.857\n",
      "category_grocery_net                   1.2825      0.113     11.369      0.000       1.061       1.504\n",
      "category_grocery_pos                   2.5000      0.076     33.098      0.000       2.352       2.648\n",
      "category_health_fitness               -0.4956      0.109     -4.533      0.000      -0.710      -0.281\n",
      "category_home                         -0.4763      0.097     -4.894      0.000      -0.667      -0.286\n",
      "category_kids_pets                    -0.1814      0.093     -1.955      0.051      -0.363       0.000\n",
      "category_misc_net                      1.6766      0.079     21.091      0.000       1.521       1.832\n",
      "category_misc_pos                      0.2209      0.097      2.285      0.022       0.031       0.410\n",
      "category_personal_care                -0.0068      0.095     -0.072      0.943      -0.193       0.179\n",
      "category_shopping_net                  1.0401      0.077     13.562      0.000       0.890       1.190\n",
      "category_shopping_pos                  0.2552      0.082      3.114      0.002       0.095       0.416\n",
      "category_travel                       -3.9687      0.284    -13.979      0.000      -4.525      -3.412\n",
      "gender_M                               0.2194      0.026      8.372      0.000       0.168       0.271\n",
      "recency_segment_After 6 hours          1.6596      0.270      6.142      0.000       1.130       2.189\n",
      "recency_segment_After Half-Day         2.6341      0.138     19.074      0.000       2.363       2.905\n",
      "recency_segment_First Transaction      0.2531      0.045      5.609      0.000       0.165       0.342\n",
      "recency_segment_Recent_Transaction     3.6222      0.265     13.679      0.000       3.103       4.141\n",
      "recency_segment_Within 6 hours         3.2900      0.168     19.583      0.000       2.961       3.619\n",
      "city_pop_segment_Densely populated    -0.0129      0.049     -0.264      0.792      -0.109       0.083\n",
      "city_pop_segment_Less Dense            0.0828      0.042      1.984      0.047       0.001       0.165\n",
      "location_Long Distance                 0.0335      0.049      0.683      0.495      -0.063       0.130\n",
      "location_Nearby                       -0.1387      0.058     -2.394      0.017      -0.252      -0.025\n",
      "======================================================================================================\n"
     ]
    }
   ],
   "source": [
    "import statsmodels.api as sm\n",
    "from sklearn.preprocessing import StandardScaler\n",
    "\n",
    "# Assuming data5 is your DataFrame\n",
    "scaler = StandardScaler()\n",
    "numeric_cols = [\"amt\", \"Time\", \"recency\", \"displacement\"]\n",
    "data5[numeric_cols] = scaler.fit_transform(data5[numeric_cols])\n",
    "\n",
    "# Convert boolean columns to integers\n",
    "boolean_columns = data5.select_dtypes(include=bool).columns\n",
    "data5[boolean_columns] = data5[boolean_columns].astype(int)\n",
    "\n",
    "# Set up target variable y and features x\n",
    "y = data5[\"is_fraud\"]\n",
    "x = data5.drop(\"is_fraud\", axis=1)\n",
    "\n",
    "# Add a constant term to the independent variables\n",
    "X = sm.add_constant(x)\n",
    "\n",
    "# Fit the logistic regression model\n",
    "model = sm.GLM(y, X, family=sm.families.Binomial())\n",
    "result = model.fit()\n",
    "\n",
    "# Display the summary\n",
    "print(result.summary())\n"
   ]
  },
  {
   "cell_type": "markdown",
   "metadata": {},
   "source": [
    "# Random forest regressor"
   ]
  },
  {
   "cell_type": "code",
   "execution_count": 215,
   "metadata": {
    "execution": {
     "iopub.execute_input": "2023-11-22T16:26:36.415474Z",
     "iopub.status.busy": "2023-11-22T16:26:36.415079Z",
     "iopub.status.idle": "2023-11-22T16:26:36.422789Z",
     "shell.execute_reply": "2023-11-22T16:26:36.418823Z",
     "shell.execute_reply.started": "2023-11-22T16:26:36.415436Z"
    }
   },
   "outputs": [],
   "source": [
    "from sklearn.model_selection import train_test_split"
   ]
  },
  {
   "cell_type": "code",
   "execution_count": 216,
   "metadata": {
    "execution": {
     "iopub.execute_input": "2023-11-22T16:26:36.426161Z",
     "iopub.status.busy": "2023-11-22T16:26:36.425278Z",
     "iopub.status.idle": "2023-11-22T16:26:36.441765Z",
     "shell.execute_reply": "2023-11-22T16:26:36.44077Z",
     "shell.execute_reply.started": "2023-11-22T16:26:36.42613Z"
    }
   },
   "outputs": [
    {
     "data": {
      "text/plain": [
       "((418539, 28), (104635, 28))"
      ]
     },
     "execution_count": 216,
     "metadata": {},
     "output_type": "execute_result"
    }
   ],
   "source": [
    "train = data5[:int(len(data5)*0.8)]\n",
    "test = data5[int(len(data5)*0.8):]\n",
    "train.shape, test.shape"
   ]
  },
  {
   "cell_type": "code",
   "execution_count": 217,
   "metadata": {
    "execution": {
     "iopub.execute_input": "2023-11-22T16:26:36.444243Z",
     "iopub.status.busy": "2023-11-22T16:26:36.44352Z",
     "iopub.status.idle": "2023-11-22T16:26:36.482375Z",
     "shell.execute_reply": "2023-11-22T16:26:36.480947Z",
     "shell.execute_reply.started": "2023-11-22T16:26:36.444213Z"
    }
   },
   "outputs": [
    {
     "data": {
      "text/plain": [
       "((418539, 27), (418539,))"
      ]
     },
     "execution_count": 217,
     "metadata": {},
     "output_type": "execute_result"
    }
   ],
   "source": [
    "target = 'is_fraud'\n",
    "\n",
    "X_train = train.drop(target, axis=1)\n",
    "y_train = train[target]\n",
    "X_test = test.drop(target, axis=1)\n",
    "y_test = test[target]\n",
    "\n",
    "X_train.shape, y_train.shape"
   ]
  },
  {
   "cell_type": "code",
   "execution_count": 218,
   "metadata": {},
   "outputs": [],
   "source": [
    "#!pip install imbalanced-learn\n"
   ]
  },
  {
   "cell_type": "markdown",
   "metadata": {},
   "source": [
    "**Oversampling data to compensate for the high class imbalance in the data**"
   ]
  },
  {
   "cell_type": "code",
   "execution_count": 219,
   "metadata": {
    "execution": {
     "iopub.execute_input": "2023-11-22T16:26:36.485039Z",
     "iopub.status.busy": "2023-11-22T16:26:36.484366Z",
     "iopub.status.idle": "2023-11-22T16:26:41.414742Z",
     "shell.execute_reply": "2023-11-22T16:26:41.413354Z",
     "shell.execute_reply.started": "2023-11-22T16:26:36.485008Z"
    }
   },
   "outputs": [],
   "source": [
    "\n",
    "# Using ADASYN to oversample\n",
    "\n",
    "#from imblearn.over_sampling import ADASYN\n",
    "#X_train_res, y_train_res = ADASYN().fit_resample(X_train, y_train)\n",
    "\n",
    "#from collections import Counter\n",
    "#print(sorted(Counter(y_train_res).items()))"
   ]
  },
  {
   "cell_type": "code",
   "execution_count": 220,
   "metadata": {
    "execution": {
     "iopub.execute_input": "2023-11-22T16:26:41.417163Z",
     "iopub.status.busy": "2023-11-22T16:26:41.416746Z",
     "iopub.status.idle": "2023-11-22T16:26:41.423234Z",
     "shell.execute_reply": "2023-11-22T16:26:41.421642Z",
     "shell.execute_reply.started": "2023-11-22T16:26:41.417128Z"
    }
   },
   "outputs": [],
   "source": [
    "from sklearn.ensemble import RandomForestClassifier\n",
    "#from sklearn.metrics import plot_roc_curve\n",
    "from sklearn.model_selection import GridSearchCV"
   ]
  },
  {
   "cell_type": "code",
   "execution_count": null,
   "metadata": {},
   "outputs": [],
   "source": []
  },
  {
   "cell_type": "code",
   "execution_count": 221,
   "metadata": {
    "execution": {
     "iopub.execute_input": "2023-11-22T16:26:41.426538Z",
     "iopub.status.busy": "2023-11-22T16:26:41.426046Z",
     "iopub.status.idle": "2023-11-22T16:26:41.435825Z",
     "shell.execute_reply": "2023-11-22T16:26:41.434324Z",
     "shell.execute_reply.started": "2023-11-22T16:26:41.426504Z"
    }
   },
   "outputs": [],
   "source": [
    "#data5 is entire train data set\n",
    "rf = RandomForestClassifier(n_estimators=10, max_depth=5, max_features=12, min_samples_leaf=100, random_state=100, oob_score=True)\n"
   ]
  },
  {
   "cell_type": "code",
   "execution_count": 222,
   "metadata": {
    "execution": {
     "iopub.execute_input": "2023-11-22T16:26:41.437922Z",
     "iopub.status.busy": "2023-11-22T16:26:41.437482Z",
     "iopub.status.idle": "2023-11-22T16:26:52.009899Z",
     "shell.execute_reply": "2023-11-22T16:26:52.008314Z",
     "shell.execute_reply.started": "2023-11-22T16:26:41.437882Z"
    }
   },
   "outputs": [
    {
     "data": {
      "text/plain": [
       "RandomForestClassifier(max_depth=5, max_features=12, min_samples_leaf=100,\n",
       "                       n_estimators=10, oob_score=True, random_state=100)"
      ]
     },
     "execution_count": 222,
     "metadata": {},
     "output_type": "execute_result"
    }
   ],
   "source": [
    "rf.fit(x,y)"
   ]
  },
  {
   "cell_type": "code",
   "execution_count": 223,
   "metadata": {
    "execution": {
     "iopub.execute_input": "2023-11-22T16:26:52.011542Z",
     "iopub.status.busy": "2023-11-22T16:26:52.011235Z",
     "iopub.status.idle": "2023-11-22T16:26:52.018543Z",
     "shell.execute_reply": "2023-11-22T16:26:52.016585Z",
     "shell.execute_reply.started": "2023-11-22T16:26:52.011515Z"
    }
   },
   "outputs": [
    {
     "data": {
      "text/plain": [
       "0.9931972919143536"
      ]
     },
     "execution_count": 223,
     "metadata": {},
     "output_type": "execute_result"
    }
   ],
   "source": [
    "rf.oob_score_"
   ]
  },
  {
   "cell_type": "code",
   "execution_count": 224,
   "metadata": {
    "execution": {
     "iopub.execute_input": "2023-11-22T16:57:10.339322Z",
     "iopub.status.busy": "2023-11-22T16:57:10.338765Z",
     "iopub.status.idle": "2023-11-22T16:57:11.12411Z",
     "shell.execute_reply": "2023-11-22T16:57:11.12263Z",
     "shell.execute_reply.started": "2023-11-22T16:57:10.339291Z"
    }
   },
   "outputs": [],
   "source": [
    "#import matplotlib.pyplot as plt\n",
    "#from sklearn.metrics import roc_curve, auc\n",
    "\n",
    "# Assuming you have a trained model 'rf_model' and test data 'X_test', 'y_test'\n",
    "# rf_model = ...\n",
    "\n",
    "# Get predicted probabilities for the positive class\n",
    "#y_probs = rf.predict_proba(X_train_res)[:, 1]\n",
    "\n",
    "# Compute ROC curve and AUC\n",
    "#fpr, tpr, thresholds = roc_curve(y_train_res, y_probs)\n",
    "#roc_auc = auc(fpr, tpr)\n",
    "\n",
    "# Plot ROC curve\n",
    "#plt.figure(figsize=(8, 6))\n",
    "#plt.plot(fpr, tpr, color='darkorange', lw=2, label='ROC curve (AUC = {:.2f})'.format(roc_auc))\n",
    "#plt.plot([0, 1], [0, 1], color='navy', lw=2, linestyle='--')\n",
    "#plt.xlabel('False Positive Rate')\n",
    "#plt.ylabel('True Positive Rate')\n",
    "#plt.title('Receiver Operating Characteristic (ROC) Curve')\n",
    "#plt.legend(loc='lower right')\n",
    "#plt.show()\n"
   ]
  },
  {
   "cell_type": "code",
   "execution_count": 225,
   "metadata": {
    "execution": {
     "iopub.execute_input": "2023-11-22T16:58:07.388122Z",
     "iopub.status.busy": "2023-11-22T16:58:07.387608Z",
     "iopub.status.idle": "2023-11-22T16:58:07.396215Z",
     "shell.execute_reply": "2023-11-22T16:58:07.394772Z",
     "shell.execute_reply.started": "2023-11-22T16:58:07.388082Z"
    }
   },
   "outputs": [],
   "source": [
    "imp_df = pd.DataFrame({\n",
    "    \"Varname\": X_train.columns,\n",
    "    \"Imp\": rf.feature_importances_\n",
    "})"
   ]
  },
  {
   "cell_type": "code",
   "execution_count": 226,
   "metadata": {
    "execution": {
     "iopub.execute_input": "2023-11-22T16:58:08.933267Z",
     "iopub.status.busy": "2023-11-22T16:58:08.932832Z",
     "iopub.status.idle": "2023-11-22T16:58:08.946347Z",
     "shell.execute_reply": "2023-11-22T16:58:08.944437Z",
     "shell.execute_reply.started": "2023-11-22T16:58:08.933236Z"
    }
   },
   "outputs": [
    {
     "data": {
      "text/html": [
       "<div>\n",
       "<style scoped>\n",
       "    .dataframe tbody tr th:only-of-type {\n",
       "        vertical-align: middle;\n",
       "    }\n",
       "\n",
       "    .dataframe tbody tr th {\n",
       "        vertical-align: top;\n",
       "    }\n",
       "\n",
       "    .dataframe thead th {\n",
       "        text-align: right;\n",
       "    }\n",
       "</style>\n",
       "<table border=\"1\" class=\"dataframe\">\n",
       "  <thead>\n",
       "    <tr style=\"text-align: right;\">\n",
       "      <th></th>\n",
       "      <th>Varname</th>\n",
       "      <th>Imp</th>\n",
       "    </tr>\n",
       "  </thead>\n",
       "  <tbody>\n",
       "    <tr>\n",
       "      <th>0</th>\n",
       "      <td>amt</td>\n",
       "      <td>7.458820e-01</td>\n",
       "    </tr>\n",
       "    <tr>\n",
       "      <th>3</th>\n",
       "      <td>Time</td>\n",
       "      <td>1.025527e-01</td>\n",
       "    </tr>\n",
       "    <tr>\n",
       "      <th>7</th>\n",
       "      <td>category_grocery_pos</td>\n",
       "      <td>9.242955e-02</td>\n",
       "    </tr>\n",
       "    <tr>\n",
       "      <th>14</th>\n",
       "      <td>category_shopping_net</td>\n",
       "      <td>1.781557e-02</td>\n",
       "    </tr>\n",
       "    <tr>\n",
       "      <th>5</th>\n",
       "      <td>category_gas_transport</td>\n",
       "      <td>1.113659e-02</td>\n",
       "    </tr>\n",
       "    <tr>\n",
       "      <th>12</th>\n",
       "      <td>category_misc_pos</td>\n",
       "      <td>8.826461e-03</td>\n",
       "    </tr>\n",
       "    <tr>\n",
       "      <th>17</th>\n",
       "      <td>gender_M</td>\n",
       "      <td>6.004865e-03</td>\n",
       "    </tr>\n",
       "    <tr>\n",
       "      <th>16</th>\n",
       "      <td>category_travel</td>\n",
       "      <td>5.701198e-03</td>\n",
       "    </tr>\n",
       "    <tr>\n",
       "      <th>1</th>\n",
       "      <td>recency</td>\n",
       "      <td>4.079773e-03</td>\n",
       "    </tr>\n",
       "    <tr>\n",
       "      <th>9</th>\n",
       "      <td>category_home</td>\n",
       "      <td>1.736316e-03</td>\n",
       "    </tr>\n",
       "    <tr>\n",
       "      <th>15</th>\n",
       "      <td>category_shopping_pos</td>\n",
       "      <td>1.509191e-03</td>\n",
       "    </tr>\n",
       "    <tr>\n",
       "      <th>11</th>\n",
       "      <td>category_misc_net</td>\n",
       "      <td>8.071183e-04</td>\n",
       "    </tr>\n",
       "    <tr>\n",
       "      <th>6</th>\n",
       "      <td>category_grocery_net</td>\n",
       "      <td>4.795093e-04</td>\n",
       "    </tr>\n",
       "    <tr>\n",
       "      <th>24</th>\n",
       "      <td>city_pop_segment_Less Dense</td>\n",
       "      <td>3.922716e-04</td>\n",
       "    </tr>\n",
       "    <tr>\n",
       "      <th>19</th>\n",
       "      <td>recency_segment_After Half-Day</td>\n",
       "      <td>3.030051e-04</td>\n",
       "    </tr>\n",
       "    <tr>\n",
       "      <th>2</th>\n",
       "      <td>displacement</td>\n",
       "      <td>1.707122e-04</td>\n",
       "    </tr>\n",
       "    <tr>\n",
       "      <th>23</th>\n",
       "      <td>city_pop_segment_Densely populated</td>\n",
       "      <td>1.601903e-04</td>\n",
       "    </tr>\n",
       "    <tr>\n",
       "      <th>22</th>\n",
       "      <td>recency_segment_Within 6 hours</td>\n",
       "      <td>8.756976e-06</td>\n",
       "    </tr>\n",
       "    <tr>\n",
       "      <th>4</th>\n",
       "      <td>category_food_dining</td>\n",
       "      <td>3.685719e-06</td>\n",
       "    </tr>\n",
       "    <tr>\n",
       "      <th>25</th>\n",
       "      <td>location_Long Distance</td>\n",
       "      <td>5.184289e-07</td>\n",
       "    </tr>\n",
       "    <tr>\n",
       "      <th>21</th>\n",
       "      <td>recency_segment_Recent_Transaction</td>\n",
       "      <td>0.000000e+00</td>\n",
       "    </tr>\n",
       "    <tr>\n",
       "      <th>13</th>\n",
       "      <td>category_personal_care</td>\n",
       "      <td>0.000000e+00</td>\n",
       "    </tr>\n",
       "    <tr>\n",
       "      <th>20</th>\n",
       "      <td>recency_segment_First Transaction</td>\n",
       "      <td>0.000000e+00</td>\n",
       "    </tr>\n",
       "    <tr>\n",
       "      <th>18</th>\n",
       "      <td>recency_segment_After 6 hours</td>\n",
       "      <td>0.000000e+00</td>\n",
       "    </tr>\n",
       "    <tr>\n",
       "      <th>10</th>\n",
       "      <td>category_kids_pets</td>\n",
       "      <td>0.000000e+00</td>\n",
       "    </tr>\n",
       "    <tr>\n",
       "      <th>8</th>\n",
       "      <td>category_health_fitness</td>\n",
       "      <td>0.000000e+00</td>\n",
       "    </tr>\n",
       "    <tr>\n",
       "      <th>26</th>\n",
       "      <td>location_Nearby</td>\n",
       "      <td>0.000000e+00</td>\n",
       "    </tr>\n",
       "  </tbody>\n",
       "</table>\n",
       "</div>"
      ],
      "text/plain": [
       "                               Varname           Imp\n",
       "0                                  amt  7.458820e-01\n",
       "3                                 Time  1.025527e-01\n",
       "7                 category_grocery_pos  9.242955e-02\n",
       "14               category_shopping_net  1.781557e-02\n",
       "5               category_gas_transport  1.113659e-02\n",
       "12                   category_misc_pos  8.826461e-03\n",
       "17                            gender_M  6.004865e-03\n",
       "16                     category_travel  5.701198e-03\n",
       "1                              recency  4.079773e-03\n",
       "9                        category_home  1.736316e-03\n",
       "15               category_shopping_pos  1.509191e-03\n",
       "11                   category_misc_net  8.071183e-04\n",
       "6                 category_grocery_net  4.795093e-04\n",
       "24         city_pop_segment_Less Dense  3.922716e-04\n",
       "19      recency_segment_After Half-Day  3.030051e-04\n",
       "2                         displacement  1.707122e-04\n",
       "23  city_pop_segment_Densely populated  1.601903e-04\n",
       "22      recency_segment_Within 6 hours  8.756976e-06\n",
       "4                 category_food_dining  3.685719e-06\n",
       "25              location_Long Distance  5.184289e-07\n",
       "21  recency_segment_Recent_Transaction  0.000000e+00\n",
       "13              category_personal_care  0.000000e+00\n",
       "20   recency_segment_First Transaction  0.000000e+00\n",
       "18       recency_segment_After 6 hours  0.000000e+00\n",
       "10                  category_kids_pets  0.000000e+00\n",
       "8              category_health_fitness  0.000000e+00\n",
       "26                     location_Nearby  0.000000e+00"
      ]
     },
     "execution_count": 226,
     "metadata": {},
     "output_type": "execute_result"
    }
   ],
   "source": [
    "\n",
    "imp_df.sort_values(by=\"Imp\", ascending=False)"
   ]
  },
  {
   "cell_type": "code",
   "execution_count": 227,
   "metadata": {},
   "outputs": [
    {
     "name": "stdout",
     "output_type": "stream",
     "text": [
      "X_train shape: (104634, 27), y_train shape: (104634,)\n",
      "X_test shape: (418540, 27), y_test shape: (418540,)\n",
      "RandomForest ROC AUC: 0.9825615709189717\n",
      "RandomForest Classification Report:\n",
      "              precision    recall  f1-score   support\n",
      "\n",
      "           0       1.00      1.00      1.00    412505\n",
      "           1       0.94      0.73      0.82      6035\n",
      "\n",
      "    accuracy                           1.00    418540\n",
      "   macro avg       0.97      0.87      0.91    418540\n",
      "weighted avg       1.00      1.00      1.00    418540\n",
      "\n",
      "\n",
      "GradientBoosting ROC AUC: 0.9912992854988567\n",
      "GradientBoosting Classification Report:\n",
      "              precision    recall  f1-score   support\n",
      "\n",
      "           0       1.00      1.00      1.00    412505\n",
      "           1       0.92      0.74      0.82      6035\n",
      "\n",
      "    accuracy                           1.00    418540\n",
      "   macro avg       0.96      0.87      0.91    418540\n",
      "weighted avg       1.00      1.00      1.00    418540\n",
      "\n",
      "\n",
      "LogisticRegression ROC AUC: 0.8644195201289367\n",
      "LogisticRegression Classification Report:\n",
      "              precision    recall  f1-score   support\n",
      "\n",
      "           0       0.99      1.00      0.99    412505\n",
      "           1       0.66      0.22      0.33      6035\n",
      "\n",
      "    accuracy                           0.99    418540\n",
      "   macro avg       0.83      0.61      0.66    418540\n",
      "weighted avg       0.98      0.99      0.98    418540\n",
      "\n",
      "\n",
      "SVM ROC AUC: 0.9765299800488471\n",
      "SVM Classification Report:\n",
      "              precision    recall  f1-score   support\n",
      "\n",
      "           0       0.99      1.00      1.00    412505\n",
      "           1       0.90      0.62      0.73      6035\n",
      "\n",
      "    accuracy                           0.99    418540\n",
      "   macro avg       0.95      0.81      0.87    418540\n",
      "weighted avg       0.99      0.99      0.99    418540\n",
      "\n",
      "\n",
      "KNN ROC AUC: 0.8771762455200387\n",
      "KNN Classification Report:\n",
      "              precision    recall  f1-score   support\n",
      "\n",
      "           0       0.99      1.00      1.00    412505\n",
      "           1       0.87      0.56      0.68      6035\n",
      "\n",
      "    accuracy                           0.99    418540\n",
      "   macro avg       0.93      0.78      0.84    418540\n",
      "weighted avg       0.99      0.99      0.99    418540\n",
      "\n",
      "\n",
      "Wall time: 45min 22s\n"
     ]
    },
    {
     "data": {
      "text/plain": [
       "((104634, 27), (104634,))"
      ]
     },
     "execution_count": 227,
     "metadata": {},
     "output_type": "execute_result"
    }
   ],
   "source": [
    "%%time\n",
    "\n",
    "# Step 1: Importing necessary libraries\n",
    "from sklearn.model_selection import train_test_split\n",
    "from sklearn.preprocessing import StandardScaler\n",
    "from sklearn.ensemble import RandomForestClassifier, GradientBoostingClassifier\n",
    "from sklearn.linear_model import LogisticRegression\n",
    "from sklearn.svm import SVC\n",
    "from sklearn.neighbors import KNeighborsClassifier\n",
    "from sklearn.metrics import roc_auc_score, classification_report\n",
    "\n",
    "# Step 2: Prepare your data (splitting into train and test sets)\n",
    "train = data5[:int(len(data5)*0.2)]\n",
    "test = data5[int(len(data5)*0.2):]\n",
    "target = 'is_fraud'\n",
    "\n",
    "# Features (X) and Target (y)\n",
    "X_train = train.drop(target, axis=1)\n",
    "y_train = train[target]\n",
    "X_test = test.drop(target, axis=1)\n",
    "y_test = test[target]\n",
    "\n",
    "# Checking the shape of the data\n",
    "print(f\"X_train shape: {X_train.shape}, y_train shape: {y_train.shape}\")\n",
    "print(f\"X_test shape: {X_test.shape}, y_test shape: {y_test.shape}\")\n",
    "\n",
    "# Step 3: Feature Scaling (Standardization)\n",
    "scaler = StandardScaler()\n",
    "\n",
    "# Fit and transform the training data, transform the test data\n",
    "X_train_scaled = scaler.fit_transform(X_train)\n",
    "X_test_scaled = scaler.transform(X_test)\n",
    "\n",
    "# Step 4: Train multiple models and evaluate them\n",
    "models = {\n",
    "    'RandomForest': RandomForestClassifier(),\n",
    "    'GradientBoosting': GradientBoostingClassifier(),\n",
    "    'LogisticRegression': LogisticRegression(),\n",
    "    'SVM': SVC(probability=True),  # probability=True for ROC AUC\n",
    "    'KNN': KNeighborsClassifier()\n",
    "}\n",
    "\n",
    "# Dictionary to store results\n",
    "model_results = {}\n",
    "\n",
    "# Train and evaluate each model\n",
    "for model_name, model in models.items():\n",
    "    # Fit the model on training data\n",
    "    model.fit(X_train_scaled, y_train)\n",
    "    \n",
    "    # Predict on test data\n",
    "    y_pred = model.predict(X_test_scaled)\n",
    "    \n",
    "    # Calculate ROC AUC score\n",
    "    auc_score = roc_auc_score(y_test, model.predict_proba(X_test_scaled)[:, 1])\n",
    "    \n",
    "    # Store results\n",
    "    model_results[model_name] = {\n",
    "        'ROC AUC': auc_score,\n",
    "        'Classification Report': classification_report(y_test, y_pred)\n",
    "    }\n",
    "    \n",
    "    # Print the ROC AUC and Classification Report for each model\n",
    "    print(f'{model_name} ROC AUC: {auc_score}')\n",
    "    print(f'{model_name} Classification Report:\\n{model_results[model_name][\"Classification Report\"]}\\n')\n",
    "\n",
    "# Optional: Select the best model and make final predictions\n",
    "best_model_name = 'RandomForest'  # Replace with the model that performed best\n",
    "best_model = models[best_model_name]\n",
    "\n",
    "# Train the best model on the entire training data\n",
    "best_model.fit(X_train_scaled, y_train)\n",
    "\n",
    "# Make predictions using the best model\n",
    "final_predictions = best_model.predict(X_test_scaled)\n",
    "X_train.shape, y_train.shape\n"
   ]
  },
  {
   "cell_type": "code",
   "execution_count": 233,
   "metadata": {
    "scrolled": true
   },
   "outputs": [
    {
     "name": "stdout",
     "output_type": "stream",
     "text": [
      "Requirement already satisfied: tensorflow in c:\\users\\hp\\anaconda3\\lib\\site-packages (2.18.0)\n",
      "Requirement already satisfied: tensorflow-intel==2.18.0 in c:\\users\\hp\\anaconda3\\lib\\site-packages (from tensorflow) (2.18.0)\n",
      "Requirement already satisfied: termcolor>=1.1.0 in c:\\users\\hp\\anaconda3\\lib\\site-packages (from tensorflow-intel==2.18.0->tensorflow) (2.5.0)\n",
      "Requirement already satisfied: absl-py>=1.0.0 in c:\\users\\hp\\anaconda3\\lib\\site-packages (from tensorflow-intel==2.18.0->tensorflow) (2.1.0)\n",
      "Requirement already satisfied: typing-extensions>=3.6.6 in c:\\users\\hp\\anaconda3\\lib\\site-packages (from tensorflow-intel==2.18.0->tensorflow) (4.8.0)\n",
      "Requirement already satisfied: google-pasta>=0.1.1 in c:\\users\\hp\\anaconda3\\lib\\site-packages (from tensorflow-intel==2.18.0->tensorflow) (0.2.0)\n",
      "Requirement already satisfied: gast!=0.5.0,!=0.5.1,!=0.5.2,>=0.2.1 in c:\\users\\hp\\anaconda3\\lib\\site-packages (from tensorflow-intel==2.18.0->tensorflow) (0.6.0)\n",
      "Requirement already satisfied: keras>=3.5.0 in c:\\users\\hp\\anaconda3\\lib\\site-packages (from tensorflow-intel==2.18.0->tensorflow) (3.6.0)\n",
      "Requirement already satisfied: opt-einsum>=2.3.2 in c:\\users\\hp\\anaconda3\\lib\\site-packages (from tensorflow-intel==2.18.0->tensorflow) (3.4.0)\n",
      "Requirement already satisfied: protobuf!=4.21.0,!=4.21.1,!=4.21.2,!=4.21.3,!=4.21.4,!=4.21.5,<6.0.0dev,>=3.20.3 in c:\\users\\hp\\anaconda3\\lib\\site-packages (from tensorflow-intel==2.18.0->tensorflow) (5.28.3)\n",
      "Requirement already satisfied: ml-dtypes<0.5.0,>=0.4.0 in c:\\users\\hp\\anaconda3\\lib\\site-packages (from tensorflow-intel==2.18.0->tensorflow) (0.4.1)\n",
      "Requirement already satisfied: six>=1.12.0 in c:\\users\\hp\\anaconda3\\lib\\site-packages (from tensorflow-intel==2.18.0->tensorflow) (1.16.0)\n",
      "Requirement already satisfied: wrapt>=1.11.0 in c:\\users\\hp\\anaconda3\\lib\\site-packages (from tensorflow-intel==2.18.0->tensorflow) (1.14.1)\n",
      "Requirement already satisfied: packaging in c:\\users\\hp\\anaconda3\\lib\\site-packages (from tensorflow-intel==2.18.0->tensorflow) (21.3)\n",
      "Requirement already satisfied: requests<3,>=2.21.0 in c:\\users\\hp\\anaconda3\\lib\\site-packages (from tensorflow-intel==2.18.0->tensorflow) (2.28.1)\n",
      "Requirement already satisfied: tensorflow-io-gcs-filesystem>=0.23.1 in c:\\users\\hp\\anaconda3\\lib\\site-packages (from tensorflow-intel==2.18.0->tensorflow) (0.31.0)\n",
      "Requirement already satisfied: astunparse>=1.6.0 in c:\\users\\hp\\anaconda3\\lib\\site-packages (from tensorflow-intel==2.18.0->tensorflow) (1.6.3)\n",
      "Requirement already satisfied: grpcio<2.0,>=1.24.3 in c:\\users\\hp\\anaconda3\\lib\\site-packages (from tensorflow-intel==2.18.0->tensorflow) (1.68.0)\n",
      "Requirement already satisfied: setuptools in c:\\users\\hp\\anaconda3\\lib\\site-packages (from tensorflow-intel==2.18.0->tensorflow) (63.4.1)\n",
      "Requirement already satisfied: h5py>=3.11.0 in c:\\users\\hp\\anaconda3\\lib\\site-packages (from tensorflow-intel==2.18.0->tensorflow) (3.12.1)\n",
      "Requirement already satisfied: libclang>=13.0.0 in c:\\users\\hp\\anaconda3\\lib\\site-packages (from tensorflow-intel==2.18.0->tensorflow) (18.1.1)\n",
      "Requirement already satisfied: tensorboard<2.19,>=2.18 in c:\\users\\hp\\anaconda3\\lib\\site-packages (from tensorflow-intel==2.18.0->tensorflow) (2.18.0)\n",
      "Requirement already satisfied: numpy<2.1.0,>=1.26.0 in c:\\users\\hp\\anaconda3\\lib\\site-packages (from tensorflow-intel==2.18.0->tensorflow) (2.0.2)\n",
      "Requirement already satisfied: flatbuffers>=24.3.25 in c:\\users\\hp\\anaconda3\\lib\\site-packages (from tensorflow-intel==2.18.0->tensorflow) (24.3.25)\n",
      "Requirement already satisfied: wheel<1.0,>=0.23.0 in c:\\users\\hp\\anaconda3\\lib\\site-packages (from astunparse>=1.6.0->tensorflow-intel==2.18.0->tensorflow) (0.37.1)\n",
      "Requirement already satisfied: namex in c:\\users\\hp\\anaconda3\\lib\\site-packages (from keras>=3.5.0->tensorflow-intel==2.18.0->tensorflow) (0.0.8)\n",
      "Requirement already satisfied: rich in c:\\users\\hp\\anaconda3\\lib\\site-packages (from keras>=3.5.0->tensorflow-intel==2.18.0->tensorflow) (13.9.4)\n",
      "Requirement already satisfied: optree in c:\\users\\hp\\anaconda3\\lib\\site-packages (from keras>=3.5.0->tensorflow-intel==2.18.0->tensorflow) (0.13.1)\n",
      "Requirement already satisfied: urllib3<1.27,>=1.21.1 in c:\\users\\hp\\anaconda3\\lib\\site-packages (from requests<3,>=2.21.0->tensorflow-intel==2.18.0->tensorflow) (1.26.11)\n",
      "Requirement already satisfied: idna<4,>=2.5 in c:\\users\\hp\\anaconda3\\lib\\site-packages (from requests<3,>=2.21.0->tensorflow-intel==2.18.0->tensorflow) (3.3)\n",
      "Requirement already satisfied: charset-normalizer<3,>=2 in c:\\users\\hp\\anaconda3\\lib\\site-packages (from requests<3,>=2.21.0->tensorflow-intel==2.18.0->tensorflow) (2.0.4)\n",
      "Requirement already satisfied: certifi>=2017.4.17 in c:\\users\\hp\\anaconda3\\lib\\site-packages (from requests<3,>=2.21.0->tensorflow-intel==2.18.0->tensorflow) (2022.9.14)\n",
      "Requirement already satisfied: markdown>=2.6.8 in c:\\users\\hp\\anaconda3\\lib\\site-packages (from tensorboard<2.19,>=2.18->tensorflow-intel==2.18.0->tensorflow) (3.3.4)\n",
      "Requirement already satisfied: tensorboard-data-server<0.8.0,>=0.7.0 in c:\\users\\hp\\anaconda3\\lib\\site-packages (from tensorboard<2.19,>=2.18->tensorflow-intel==2.18.0->tensorflow) (0.7.2)\n",
      "Requirement already satisfied: werkzeug>=1.0.1 in c:\\users\\hp\\anaconda3\\lib\\site-packages (from tensorboard<2.19,>=2.18->tensorflow-intel==2.18.0->tensorflow) (2.0.3)\n",
      "Requirement already satisfied: pyparsing!=3.0.5,>=2.0.2 in c:\\users\\hp\\anaconda3\\lib\\site-packages (from packaging->tensorflow-intel==2.18.0->tensorflow) (3.0.9)\n",
      "Requirement already satisfied: pygments<3.0.0,>=2.13.0 in c:\\users\\hp\\anaconda3\\lib\\site-packages (from rich->keras>=3.5.0->tensorflow-intel==2.18.0->tensorflow) (2.18.0)\n",
      "Requirement already satisfied: markdown-it-py>=2.2.0 in c:\\users\\hp\\anaconda3\\lib\\site-packages (from rich->keras>=3.5.0->tensorflow-intel==2.18.0->tensorflow) (3.0.0)\n",
      "Requirement already satisfied: mdurl~=0.1 in c:\\users\\hp\\anaconda3\\lib\\site-packages (from markdown-it-py>=2.2.0->rich->keras>=3.5.0->tensorflow-intel==2.18.0->tensorflow) (0.1.2)\n"
     ]
    }
   ],
   "source": [
    "!pip install tensorflow"
   ]
  },
  {
   "cell_type": "code",
   "execution_count": 237,
   "metadata": {},
   "outputs": [
    {
     "name": "stdout",
     "output_type": "stream",
     "text": [
      "Requirement already satisfied: tensorflow in c:\\users\\hp\\anaconda3\\lib\\site-packages (2.18.0)\n",
      "Requirement already satisfied: tensorflow-intel==2.18.0 in c:\\users\\hp\\anaconda3\\lib\\site-packages (from tensorflow) (2.18.0)\n",
      "Requirement already satisfied: six>=1.12.0 in c:\\users\\hp\\anaconda3\\lib\\site-packages (from tensorflow-intel==2.18.0->tensorflow) (1.16.0)\n",
      "Requirement already satisfied: absl-py>=1.0.0 in c:\\users\\hp\\anaconda3\\lib\\site-packages (from tensorflow-intel==2.18.0->tensorflow) (2.1.0)\n",
      "Requirement already satisfied: opt-einsum>=2.3.2 in c:\\users\\hp\\anaconda3\\lib\\site-packages (from tensorflow-intel==2.18.0->tensorflow) (3.4.0)\n",
      "Requirement already satisfied: google-pasta>=0.1.1 in c:\\users\\hp\\anaconda3\\lib\\site-packages (from tensorflow-intel==2.18.0->tensorflow) (0.2.0)\n",
      "Requirement already satisfied: gast!=0.5.0,!=0.5.1,!=0.5.2,>=0.2.1 in c:\\users\\hp\\anaconda3\\lib\\site-packages (from tensorflow-intel==2.18.0->tensorflow) (0.6.0)\n",
      "Requirement already satisfied: keras>=3.5.0 in c:\\users\\hp\\anaconda3\\lib\\site-packages (from tensorflow-intel==2.18.0->tensorflow) (3.6.0)\n",
      "Requirement already satisfied: wrapt>=1.11.0 in c:\\users\\hp\\anaconda3\\lib\\site-packages (from tensorflow-intel==2.18.0->tensorflow) (1.14.1)\n",
      "Requirement already satisfied: tensorboard<2.19,>=2.18 in c:\\users\\hp\\anaconda3\\lib\\site-packages (from tensorflow-intel==2.18.0->tensorflow) (2.18.0)\n",
      "Requirement already satisfied: setuptools in c:\\users\\hp\\anaconda3\\lib\\site-packages (from tensorflow-intel==2.18.0->tensorflow) (63.4.1)\n",
      "Requirement already satisfied: typing-extensions>=3.6.6 in c:\\users\\hp\\anaconda3\\lib\\site-packages (from tensorflow-intel==2.18.0->tensorflow) (4.8.0)\n",
      "Requirement already satisfied: tensorflow-io-gcs-filesystem>=0.23.1 in c:\\users\\hp\\anaconda3\\lib\\site-packages (from tensorflow-intel==2.18.0->tensorflow) (0.31.0)\n",
      "Requirement already satisfied: ml-dtypes<0.5.0,>=0.4.0 in c:\\users\\hp\\anaconda3\\lib\\site-packages (from tensorflow-intel==2.18.0->tensorflow) (0.4.1)\n",
      "Requirement already satisfied: flatbuffers>=24.3.25 in c:\\users\\hp\\anaconda3\\lib\\site-packages (from tensorflow-intel==2.18.0->tensorflow) (24.3.25)\n",
      "Requirement already satisfied: astunparse>=1.6.0 in c:\\users\\hp\\anaconda3\\lib\\site-packages (from tensorflow-intel==2.18.0->tensorflow) (1.6.3)\n",
      "Requirement already satisfied: h5py>=3.11.0 in c:\\users\\hp\\anaconda3\\lib\\site-packages (from tensorflow-intel==2.18.0->tensorflow) (3.12.1)\n",
      "Requirement already satisfied: protobuf!=4.21.0,!=4.21.1,!=4.21.2,!=4.21.3,!=4.21.4,!=4.21.5,<6.0.0dev,>=3.20.3 in c:\\users\\hp\\anaconda3\\lib\\site-packages (from tensorflow-intel==2.18.0->tensorflow) (5.28.3)\n",
      "Requirement already satisfied: grpcio<2.0,>=1.24.3 in c:\\users\\hp\\anaconda3\\lib\\site-packages (from tensorflow-intel==2.18.0->tensorflow) (1.68.0)\n",
      "Requirement already satisfied: termcolor>=1.1.0 in c:\\users\\hp\\anaconda3\\lib\\site-packages (from tensorflow-intel==2.18.0->tensorflow) (2.5.0)\n",
      "Requirement already satisfied: packaging in c:\\users\\hp\\anaconda3\\lib\\site-packages (from tensorflow-intel==2.18.0->tensorflow) (21.3)\n",
      "Requirement already satisfied: libclang>=13.0.0 in c:\\users\\hp\\anaconda3\\lib\\site-packages (from tensorflow-intel==2.18.0->tensorflow) (18.1.1)\n",
      "Requirement already satisfied: numpy<2.1.0,>=1.26.0 in c:\\users\\hp\\anaconda3\\lib\\site-packages (from tensorflow-intel==2.18.0->tensorflow) (2.0.2)\n",
      "Requirement already satisfied: requests<3,>=2.21.0 in c:\\users\\hp\\anaconda3\\lib\\site-packages (from tensorflow-intel==2.18.0->tensorflow) (2.28.1)\n",
      "Requirement already satisfied: wheel<1.0,>=0.23.0 in c:\\users\\hp\\anaconda3\\lib\\site-packages (from astunparse>=1.6.0->tensorflow-intel==2.18.0->tensorflow) (0.37.1)\n",
      "Requirement already satisfied: namex in c:\\users\\hp\\anaconda3\\lib\\site-packages (from keras>=3.5.0->tensorflow-intel==2.18.0->tensorflow) (0.0.8)\n",
      "Requirement already satisfied: rich in c:\\users\\hp\\anaconda3\\lib\\site-packages (from keras>=3.5.0->tensorflow-intel==2.18.0->tensorflow) (13.9.4)\n",
      "Requirement already satisfied: optree in c:\\users\\hp\\anaconda3\\lib\\site-packages (from keras>=3.5.0->tensorflow-intel==2.18.0->tensorflow) (0.13.1)\n",
      "Requirement already satisfied: urllib3<1.27,>=1.21.1 in c:\\users\\hp\\anaconda3\\lib\\site-packages (from requests<3,>=2.21.0->tensorflow-intel==2.18.0->tensorflow) (1.26.11)\n",
      "Requirement already satisfied: idna<4,>=2.5 in c:\\users\\hp\\anaconda3\\lib\\site-packages (from requests<3,>=2.21.0->tensorflow-intel==2.18.0->tensorflow) (3.3)\n",
      "Requirement already satisfied: charset-normalizer<3,>=2 in c:\\users\\hp\\anaconda3\\lib\\site-packages (from requests<3,>=2.21.0->tensorflow-intel==2.18.0->tensorflow) (2.0.4)\n",
      "Requirement already satisfied: certifi>=2017.4.17 in c:\\users\\hp\\anaconda3\\lib\\site-packages (from requests<3,>=2.21.0->tensorflow-intel==2.18.0->tensorflow) (2022.9.14)\n",
      "Requirement already satisfied: tensorboard-data-server<0.8.0,>=0.7.0 in c:\\users\\hp\\anaconda3\\lib\\site-packages (from tensorboard<2.19,>=2.18->tensorflow-intel==2.18.0->tensorflow) (0.7.2)\n",
      "Requirement already satisfied: markdown>=2.6.8 in c:\\users\\hp\\anaconda3\\lib\\site-packages (from tensorboard<2.19,>=2.18->tensorflow-intel==2.18.0->tensorflow) (3.3.4)\n",
      "Requirement already satisfied: werkzeug>=1.0.1 in c:\\users\\hp\\anaconda3\\lib\\site-packages (from tensorboard<2.19,>=2.18->tensorflow-intel==2.18.0->tensorflow) (2.0.3)\n",
      "Requirement already satisfied: pyparsing!=3.0.5,>=2.0.2 in c:\\users\\hp\\anaconda3\\lib\\site-packages (from packaging->tensorflow-intel==2.18.0->tensorflow) (3.0.9)\n",
      "Requirement already satisfied: markdown-it-py>=2.2.0 in c:\\users\\hp\\anaconda3\\lib\\site-packages (from rich->keras>=3.5.0->tensorflow-intel==2.18.0->tensorflow) (3.0.0)\n",
      "Requirement already satisfied: pygments<3.0.0,>=2.13.0 in c:\\users\\hp\\anaconda3\\lib\\site-packages (from rich->keras>=3.5.0->tensorflow-intel==2.18.0->tensorflow) (2.18.0)\n",
      "Requirement already satisfied: mdurl~=0.1 in c:\\users\\hp\\anaconda3\\lib\\site-packages (from markdown-it-py>=2.2.0->rich->keras>=3.5.0->tensorflow-intel==2.18.0->tensorflow) (0.1.2)\n"
     ]
    }
   ],
   "source": [
    "!pip install --upgrade tensorflow\n",
    "\n"
   ]
  },
  {
   "cell_type": "code",
   "execution_count": 252,
   "metadata": {},
   "outputs": [
    {
     "data": {
      "text/plain": [
       "104634    0\n",
       "104635    0\n",
       "104636    0\n",
       "104637    0\n",
       "104638    0\n",
       "         ..\n",
       "523169    0\n",
       "523170    0\n",
       "523171    0\n",
       "523172    0\n",
       "523173    0\n",
       "Name: is_fraud, Length: 418540, dtype: int64"
      ]
     },
     "execution_count": 252,
     "metadata": {},
     "output_type": "execute_result"
    }
   ],
   "source": [
    "\n",
    "y_test"
   ]
  },
  {
   "cell_type": "code",
   "execution_count": 244,
   "metadata": {},
   "outputs": [
    {
     "name": "stdout",
     "output_type": "stream",
     "text": [
      "Requirement already satisfied: tensorflow in c:\\users\\hp\\anaconda3\\lib\\site-packages (2.18.0)\n",
      "Requirement already satisfied: tensorflow-intel==2.18.0 in c:\\users\\hp\\anaconda3\\lib\\site-packages (from tensorflow) (2.18.0)\n",
      "Requirement already satisfied: keras>=3.5.0 in c:\\users\\hp\\anaconda3\\lib\\site-packages (from tensorflow-intel==2.18.0->tensorflow) (3.6.0)\n",
      "Requirement already satisfied: grpcio<2.0,>=1.24.3 in c:\\users\\hp\\anaconda3\\lib\\site-packages (from tensorflow-intel==2.18.0->tensorflow) (1.68.0)\n",
      "Requirement already satisfied: flatbuffers>=24.3.25 in c:\\users\\hp\\anaconda3\\lib\\site-packages (from tensorflow-intel==2.18.0->tensorflow) (24.3.25)\n",
      "Requirement already satisfied: gast!=0.5.0,!=0.5.1,!=0.5.2,>=0.2.1 in c:\\users\\hp\\anaconda3\\lib\\site-packages (from tensorflow-intel==2.18.0->tensorflow) (0.6.0)\n",
      "Requirement already satisfied: protobuf!=4.21.0,!=4.21.1,!=4.21.2,!=4.21.3,!=4.21.4,!=4.21.5,<6.0.0dev,>=3.20.3 in c:\\users\\hp\\anaconda3\\lib\\site-packages (from tensorflow-intel==2.18.0->tensorflow) (5.28.3)\n",
      "Requirement already satisfied: setuptools in c:\\users\\hp\\anaconda3\\lib\\site-packages (from tensorflow-intel==2.18.0->tensorflow) (63.4.1)\n",
      "Requirement already satisfied: six>=1.12.0 in c:\\users\\hp\\anaconda3\\lib\\site-packages (from tensorflow-intel==2.18.0->tensorflow) (1.16.0)\n",
      "Requirement already satisfied: requests<3,>=2.21.0 in c:\\users\\hp\\anaconda3\\lib\\site-packages (from tensorflow-intel==2.18.0->tensorflow) (2.28.1)\n",
      "Requirement already satisfied: tensorboard<2.19,>=2.18 in c:\\users\\hp\\anaconda3\\lib\\site-packages (from tensorflow-intel==2.18.0->tensorflow) (2.18.0)\n",
      "Requirement already satisfied: packaging in c:\\users\\hp\\anaconda3\\lib\\site-packages (from tensorflow-intel==2.18.0->tensorflow) (21.3)\n",
      "Requirement already satisfied: wrapt>=1.11.0 in c:\\users\\hp\\anaconda3\\lib\\site-packages (from tensorflow-intel==2.18.0->tensorflow) (1.14.1)\n",
      "Requirement already satisfied: opt-einsum>=2.3.2 in c:\\users\\hp\\anaconda3\\lib\\site-packages (from tensorflow-intel==2.18.0->tensorflow) (3.4.0)\n",
      "Requirement already satisfied: h5py>=3.11.0 in c:\\users\\hp\\anaconda3\\lib\\site-packages (from tensorflow-intel==2.18.0->tensorflow) (3.12.1)\n",
      "Requirement already satisfied: termcolor>=1.1.0 in c:\\users\\hp\\anaconda3\\lib\\site-packages (from tensorflow-intel==2.18.0->tensorflow) (2.5.0)\n",
      "Requirement already satisfied: tensorflow-io-gcs-filesystem>=0.23.1 in c:\\users\\hp\\anaconda3\\lib\\site-packages (from tensorflow-intel==2.18.0->tensorflow) (0.31.0)\n",
      "Requirement already satisfied: libclang>=13.0.0 in c:\\users\\hp\\anaconda3\\lib\\site-packages (from tensorflow-intel==2.18.0->tensorflow) (18.1.1)\n",
      "Requirement already satisfied: numpy<2.1.0,>=1.26.0 in c:\\users\\hp\\anaconda3\\lib\\site-packages (from tensorflow-intel==2.18.0->tensorflow) (2.0.2)\n",
      "Requirement already satisfied: absl-py>=1.0.0 in c:\\users\\hp\\anaconda3\\lib\\site-packages (from tensorflow-intel==2.18.0->tensorflow) (2.1.0)\n",
      "Requirement already satisfied: astunparse>=1.6.0 in c:\\users\\hp\\anaconda3\\lib\\site-packages (from tensorflow-intel==2.18.0->tensorflow) (1.6.3)\n",
      "Requirement already satisfied: ml-dtypes<0.5.0,>=0.4.0 in c:\\users\\hp\\anaconda3\\lib\\site-packages (from tensorflow-intel==2.18.0->tensorflow) (0.4.1)\n",
      "Requirement already satisfied: typing-extensions>=3.6.6 in c:\\users\\hp\\anaconda3\\lib\\site-packages (from tensorflow-intel==2.18.0->tensorflow) (4.8.0)\n",
      "Requirement already satisfied: google-pasta>=0.1.1 in c:\\users\\hp\\anaconda3\\lib\\site-packages (from tensorflow-intel==2.18.0->tensorflow) (0.2.0)\n",
      "Requirement already satisfied: wheel<1.0,>=0.23.0 in c:\\users\\hp\\anaconda3\\lib\\site-packages (from astunparse>=1.6.0->tensorflow-intel==2.18.0->tensorflow) (0.37.1)\n",
      "Requirement already satisfied: optree in c:\\users\\hp\\anaconda3\\lib\\site-packages (from keras>=3.5.0->tensorflow-intel==2.18.0->tensorflow) (0.13.1)\n",
      "Requirement already satisfied: namex in c:\\users\\hp\\anaconda3\\lib\\site-packages (from keras>=3.5.0->tensorflow-intel==2.18.0->tensorflow) (0.0.8)\n",
      "Requirement already satisfied: rich in c:\\users\\hp\\anaconda3\\lib\\site-packages (from keras>=3.5.0->tensorflow-intel==2.18.0->tensorflow) (13.9.4)\n",
      "Requirement already satisfied: certifi>=2017.4.17 in c:\\users\\hp\\anaconda3\\lib\\site-packages (from requests<3,>=2.21.0->tensorflow-intel==2.18.0->tensorflow) (2022.9.14)\n",
      "Requirement already satisfied: urllib3<1.27,>=1.21.1 in c:\\users\\hp\\anaconda3\\lib\\site-packages (from requests<3,>=2.21.0->tensorflow-intel==2.18.0->tensorflow) (1.26.11)\n",
      "Requirement already satisfied: idna<4,>=2.5 in c:\\users\\hp\\anaconda3\\lib\\site-packages (from requests<3,>=2.21.0->tensorflow-intel==2.18.0->tensorflow) (3.3)\n",
      "Requirement already satisfied: charset-normalizer<3,>=2 in c:\\users\\hp\\anaconda3\\lib\\site-packages (from requests<3,>=2.21.0->tensorflow-intel==2.18.0->tensorflow) (2.0.4)\n",
      "Requirement already satisfied: werkzeug>=1.0.1 in c:\\users\\hp\\anaconda3\\lib\\site-packages (from tensorboard<2.19,>=2.18->tensorflow-intel==2.18.0->tensorflow) (2.0.3)\n",
      "Requirement already satisfied: markdown>=2.6.8 in c:\\users\\hp\\anaconda3\\lib\\site-packages (from tensorboard<2.19,>=2.18->tensorflow-intel==2.18.0->tensorflow) (3.3.4)\n",
      "Requirement already satisfied: tensorboard-data-server<0.8.0,>=0.7.0 in c:\\users\\hp\\anaconda3\\lib\\site-packages (from tensorboard<2.19,>=2.18->tensorflow-intel==2.18.0->tensorflow) (0.7.2)\n",
      "Requirement already satisfied: pyparsing!=3.0.5,>=2.0.2 in c:\\users\\hp\\anaconda3\\lib\\site-packages (from packaging->tensorflow-intel==2.18.0->tensorflow) (3.0.9)\n",
      "Requirement already satisfied: pygments<3.0.0,>=2.13.0 in c:\\users\\hp\\anaconda3\\lib\\site-packages (from rich->keras>=3.5.0->tensorflow-intel==2.18.0->tensorflow) (2.18.0)\n",
      "Requirement already satisfied: markdown-it-py>=2.2.0 in c:\\users\\hp\\anaconda3\\lib\\site-packages (from rich->keras>=3.5.0->tensorflow-intel==2.18.0->tensorflow) (3.0.0)\n",
      "Requirement already satisfied: mdurl~=0.1 in c:\\users\\hp\\anaconda3\\lib\\site-packages (from markdown-it-py>=2.2.0->rich->keras>=3.5.0->tensorflow-intel==2.18.0->tensorflow) (0.1.2)\n"
     ]
    }
   ],
   "source": [
    "!pip install tensorflow \n",
    "\n"
   ]
  },
  {
   "cell_type": "code",
   "execution_count": 262,
   "metadata": {},
   "outputs": [
    {
     "name": "stdout",
     "output_type": "stream",
     "text": [
      "Requirement already satisfied: numpy==1.26.0 in c:\\users\\hp\\anaconda3\\lib\\site-packages (1.26.0)\n"
     ]
    }
   ],
   "source": [
    "!pip install numpy==1.26.0"
   ]
  },
  {
   "cell_type": "code",
   "execution_count": 263,
   "metadata": {},
   "outputs": [
    {
     "name": "stdout",
     "output_type": "stream",
     "text": [
      "Epoch 1/50\n",
      "\u001b[1m1635/1635\u001b[0m \u001b[32m━━━━━━━━━━━━━━━━━━━━\u001b[0m\u001b[37m\u001b[0m \u001b[1m14s\u001b[0m 8ms/step - accuracy: 0.9709 - loss: 0.1190 - val_accuracy: 0.9884 - val_loss: 0.0399\n",
      "Epoch 2/50\n",
      "\u001b[1m1635/1635\u001b[0m \u001b[32m━━━━━━━━━━━━━━━━━━━━\u001b[0m\u001b[37m\u001b[0m \u001b[1m10s\u001b[0m 6ms/step - accuracy: 0.9888 - loss: 0.0427 - val_accuracy: 0.9920 - val_loss: 0.0335\n",
      "Epoch 3/50\n",
      "\u001b[1m1635/1635\u001b[0m \u001b[32m━━━━━━━━━━━━━━━━━━━━\u001b[0m\u001b[37m\u001b[0m \u001b[1m12s\u001b[0m 8ms/step - accuracy: 0.9914 - loss: 0.0355 - val_accuracy: 0.9927 - val_loss: 0.0298\n",
      "Epoch 4/50\n",
      "\u001b[1m1635/1635\u001b[0m \u001b[32m━━━━━━━━━━━━━━━━━━━━\u001b[0m\u001b[37m\u001b[0m \u001b[1m11s\u001b[0m 7ms/step - accuracy: 0.9928 - loss: 0.0300 - val_accuracy: 0.9933 - val_loss: 0.0269\n",
      "Epoch 5/50\n",
      "\u001b[1m1635/1635\u001b[0m \u001b[32m━━━━━━━━━━━━━━━━━━━━\u001b[0m\u001b[37m\u001b[0m \u001b[1m12s\u001b[0m 7ms/step - accuracy: 0.9935 - loss: 0.0275 - val_accuracy: 0.9934 - val_loss: 0.0255\n",
      "Epoch 6/50\n",
      "\u001b[1m1635/1635\u001b[0m \u001b[32m━━━━━━━━━━━━━━━━━━━━\u001b[0m\u001b[37m\u001b[0m \u001b[1m11s\u001b[0m 7ms/step - accuracy: 0.9935 - loss: 0.0264 - val_accuracy: 0.9940 - val_loss: 0.0237\n",
      "Epoch 7/50\n",
      "\u001b[1m1635/1635\u001b[0m \u001b[32m━━━━━━━━━━━━━━━━━━━━\u001b[0m\u001b[37m\u001b[0m \u001b[1m12s\u001b[0m 7ms/step - accuracy: 0.9935 - loss: 0.0249 - val_accuracy: 0.9940 - val_loss: 0.0225\n",
      "Epoch 8/50\n",
      "\u001b[1m1635/1635\u001b[0m \u001b[32m━━━━━━━━━━━━━━━━━━━━\u001b[0m\u001b[37m\u001b[0m \u001b[1m12s\u001b[0m 7ms/step - accuracy: 0.9942 - loss: 0.0233 - val_accuracy: 0.9942 - val_loss: 0.0212\n",
      "Epoch 9/50\n",
      "\u001b[1m1635/1635\u001b[0m \u001b[32m━━━━━━━━━━━━━━━━━━━━\u001b[0m\u001b[37m\u001b[0m \u001b[1m10s\u001b[0m 6ms/step - accuracy: 0.9942 - loss: 0.0217 - val_accuracy: 0.9941 - val_loss: 0.0206\n",
      "Epoch 10/50\n",
      "\u001b[1m1635/1635\u001b[0m \u001b[32m━━━━━━━━━━━━━━━━━━━━\u001b[0m\u001b[37m\u001b[0m \u001b[1m11s\u001b[0m 7ms/step - accuracy: 0.9941 - loss: 0.0215 - val_accuracy: 0.9943 - val_loss: 0.0194\n",
      "Epoch 11/50\n",
      "\u001b[1m1635/1635\u001b[0m \u001b[32m━━━━━━━━━━━━━━━━━━━━\u001b[0m\u001b[37m\u001b[0m \u001b[1m12s\u001b[0m 7ms/step - accuracy: 0.9944 - loss: 0.0199 - val_accuracy: 0.9943 - val_loss: 0.0191\n",
      "Epoch 12/50\n",
      "\u001b[1m1635/1635\u001b[0m \u001b[32m━━━━━━━━━━━━━━━━━━━━\u001b[0m\u001b[37m\u001b[0m \u001b[1m11s\u001b[0m 7ms/step - accuracy: 0.9944 - loss: 0.0218 - val_accuracy: 0.9946 - val_loss: 0.0193\n",
      "Epoch 13/50\n",
      "\u001b[1m1635/1635\u001b[0m \u001b[32m━━━━━━━━━━━━━━━━━━━━\u001b[0m\u001b[37m\u001b[0m \u001b[1m12s\u001b[0m 7ms/step - accuracy: 0.9944 - loss: 0.0208 - val_accuracy: 0.9953 - val_loss: 0.0189\n",
      "Epoch 14/50\n",
      "\u001b[1m1635/1635\u001b[0m \u001b[32m━━━━━━━━━━━━━━━━━━━━\u001b[0m\u001b[37m\u001b[0m \u001b[1m11s\u001b[0m 7ms/step - accuracy: 0.9947 - loss: 0.0205 - val_accuracy: 0.9951 - val_loss: 0.0184\n",
      "Epoch 15/50\n",
      "\u001b[1m1635/1635\u001b[0m \u001b[32m━━━━━━━━━━━━━━━━━━━━\u001b[0m\u001b[37m\u001b[0m \u001b[1m11s\u001b[0m 7ms/step - accuracy: 0.9953 - loss: 0.0180 - val_accuracy: 0.9954 - val_loss: 0.0175\n",
      "Epoch 16/50\n",
      "\u001b[1m1635/1635\u001b[0m \u001b[32m━━━━━━━━━━━━━━━━━━━━\u001b[0m\u001b[37m\u001b[0m \u001b[1m10s\u001b[0m 6ms/step - accuracy: 0.9947 - loss: 0.0195 - val_accuracy: 0.9953 - val_loss: 0.0184\n",
      "Epoch 17/50\n",
      "\u001b[1m1635/1635\u001b[0m \u001b[32m━━━━━━━━━━━━━━━━━━━━\u001b[0m\u001b[37m\u001b[0m \u001b[1m11s\u001b[0m 6ms/step - accuracy: 0.9946 - loss: 0.0198 - val_accuracy: 0.9951 - val_loss: 0.0186\n",
      "Epoch 18/50\n",
      "\u001b[1m1635/1635\u001b[0m \u001b[32m━━━━━━━━━━━━━━━━━━━━\u001b[0m\u001b[37m\u001b[0m \u001b[1m11s\u001b[0m 7ms/step - accuracy: 0.9952 - loss: 0.0176 - val_accuracy: 0.9955 - val_loss: 0.0174\n",
      "Epoch 19/50\n",
      "\u001b[1m1635/1635\u001b[0m \u001b[32m━━━━━━━━━━━━━━━━━━━━\u001b[0m\u001b[37m\u001b[0m \u001b[1m11s\u001b[0m 7ms/step - accuracy: 0.9951 - loss: 0.0186 - val_accuracy: 0.9955 - val_loss: 0.0178\n",
      "Epoch 20/50\n",
      "\u001b[1m1635/1635\u001b[0m \u001b[32m━━━━━━━━━━━━━━━━━━━━\u001b[0m\u001b[37m\u001b[0m \u001b[1m11s\u001b[0m 7ms/step - accuracy: 0.9952 - loss: 0.0177 - val_accuracy: 0.9954 - val_loss: 0.0174\n",
      "Epoch 21/50\n",
      "\u001b[1m1635/1635\u001b[0m \u001b[32m━━━━━━━━━━━━━━━━━━━━\u001b[0m\u001b[37m\u001b[0m \u001b[1m11s\u001b[0m 7ms/step - accuracy: 0.9953 - loss: 0.0169 - val_accuracy: 0.9955 - val_loss: 0.0179\n",
      "\u001b[1m13080/13080\u001b[0m \u001b[32m━━━━━━━━━━━━━━━━━━━━\u001b[0m\u001b[37m\u001b[0m \u001b[1m24s\u001b[0m 2ms/step\n",
      "Neural Network ROC AUC: 0.9889540268884992\n",
      "Classification Report:\n",
      "              precision    recall  f1-score   support\n",
      "\n",
      "           0       1.00      1.00      1.00    412505\n",
      "           1       0.91      0.77      0.83      6035\n",
      "\n",
      "    accuracy                           1.00    418540\n",
      "   macro avg       0.95      0.88      0.91    418540\n",
      "weighted avg       1.00      1.00      1.00    418540\n",
      "\n",
      "Wall time: 4min 37s\n"
     ]
    }
   ],
   "source": [
    "%%time\n",
    "\n",
    "import numpy as np\n",
    "import pandas as pd\n",
    "from sklearn.model_selection import train_test_split\n",
    "from sklearn.preprocessing import StandardScaler\n",
    "from sklearn.metrics import roc_auc_score, classification_report\n",
    "from tensorflow.keras.models import Sequential\n",
    "from tensorflow.keras.layers import Dense, Dropout\n",
    "from tensorflow.keras.optimizers import Adam\n",
    "from tensorflow.keras.callbacks import EarlyStopping\n",
    "\n",
    "# Data Preparation\n",
    "train = data5[:int(len(data5)*0.2)]\n",
    "test = data5[int(len(data5)*0.2):]\n",
    "target = 'is_fraud'\n",
    "X_train = train.drop(target, axis=1)\n",
    "y_train = train[target]\n",
    "X_test = test.drop(target, axis=1)\n",
    "y_test = test[target]\n",
    "\n",
    "scaler = StandardScaler()\n",
    "X_train_scaled = scaler.fit_transform(X_train)\n",
    "X_test_scaled = scaler.transform(X_test)\n",
    "\n",
    "# Model Building\n",
    "def build_model(input_dim):\n",
    "    model = Sequential([ \n",
    "        Dense(32, activation='relu', input_dim=input_dim),\n",
    "        Dropout(0.2),\n",
    "        Dense(16, activation='relu'),\n",
    "        Dense(1, activation='sigmoid')\n",
    "    ])\n",
    "    model.compile(optimizer=Adam(learning_rate=0.001), loss='binary_crossentropy', metrics=['accuracy'])\n",
    "    return model\n",
    "\n",
    "model = build_model(X_train_scaled.shape[1])\n",
    "\n",
    "# Early Stopping\n",
    "early_stopping = EarlyStopping(monitor='val_loss', patience=3, restore_best_weights=True)\n",
    "\n",
    "# Training\n",
    "history = model.fit(\n",
    "    X_train_scaled, y_train,\n",
    "    epochs=50, batch_size=64, \n",
    "    validation_data=(X_test_scaled, y_test), \n",
    "    callbacks=[early_stopping]\n",
    ")\n",
    "\n",
    "# Evaluation\n",
    "y_pred_prob = model.predict(X_test_scaled)\n",
    "y_pred = (y_pred_prob > 0.5).astype(int)  # Changed to .astype(bool) instead of .astype(int)\n",
    "roc_auc = roc_auc_score(y_test, y_pred_prob)\n",
    "print(f\"Neural Network ROC AUC: {roc_auc}\")\n",
    "print(\"Classification Report:\")\n",
    "print(classification_report(y_test, y_pred))\n",
    "\n"
   ]
  },
  {
   "cell_type": "code",
   "execution_count": 260,
   "metadata": {},
   "outputs": [
    {
     "name": "stdout",
     "output_type": "stream",
     "text": [
      "Collecting numpy==1.23\n",
      "  Downloading numpy-1.23.0-cp39-cp39-win_amd64.whl (14.7 MB)\n",
      "     ---------------------------------------- 14.7/14.7 MB 2.4 MB/s eta 0:00:00\n",
      "Installing collected packages: numpy\n",
      "  Attempting uninstall: numpy\n",
      "    Found existing installation: numpy 2.0.2\n",
      "    Uninstalling numpy-2.0.2:\n",
      "      Successfully uninstalled numpy-2.0.2\n",
      "Successfully installed numpy-1.23.0\n"
     ]
    },
    {
     "name": "stderr",
     "output_type": "stream",
     "text": [
      "ERROR: pip's dependency resolver does not currently take into account all the packages that are installed. This behaviour is the source of the following dependency conflicts.\n",
      "daal4py 2021.6.0 requires daal==2021.4.0, which is not installed.\n",
      "tensorflow-intel 2.18.0 requires numpy<2.1.0,>=1.26.0, but you have numpy 1.23.0 which is incompatible.\n",
      "numba 0.55.1 requires numpy<1.22,>=1.18, but you have numpy 1.23.0 which is incompatible.\n"
     ]
    }
   ],
   "source": [
    "!pip install numpy==1.23"
   ]
  },
  {
   "cell_type": "code",
   "execution_count": 257,
   "metadata": {
    "execution": {
     "iopub.execute_input": "2023-11-22T16:58:13.152377Z",
     "iopub.status.busy": "2023-11-22T16:58:13.151926Z",
     "iopub.status.idle": "2023-11-22T16:58:13.658252Z",
     "shell.execute_reply": "2023-11-22T16:58:13.657252Z",
     "shell.execute_reply.started": "2023-11-22T16:58:13.152335Z"
    }
   },
   "outputs": [],
   "source": [
    "#y_train_pred = rf.predict(X_train_res)\n",
    "#y_train_pred[:10]"
   ]
  },
  {
   "cell_type": "code",
   "execution_count": null,
   "metadata": {},
   "outputs": [],
   "source": []
  },
  {
   "cell_type": "code",
   "execution_count": null,
   "metadata": {
    "execution": {
     "iopub.execute_input": "2023-11-22T16:58:14.999627Z",
     "iopub.status.busy": "2023-11-22T16:58:14.999263Z",
     "iopub.status.idle": "2023-11-22T16:58:15.695691Z",
     "shell.execute_reply": "2023-11-22T16:58:15.694663Z",
     "shell.execute_reply.started": "2023-11-22T16:58:14.999596Z"
    }
   },
   "outputs": [],
   "source": [
    "from sklearn.metrics import classification_report\n",
    "print(classification_report(y_train_res, y_train_pred))"
   ]
  },
  {
   "cell_type": "markdown",
   "metadata": {},
   "source": [
    "**Predicting on test set**"
   ]
  },
  {
   "cell_type": "code",
   "execution_count": null,
   "metadata": {
    "execution": {
     "iopub.execute_input": "2023-11-22T17:00:24.776981Z",
     "iopub.status.busy": "2023-11-22T17:00:24.776592Z",
     "iopub.status.idle": "2023-11-22T17:00:24.85639Z",
     "shell.execute_reply": "2023-11-22T17:00:24.85453Z",
     "shell.execute_reply.started": "2023-11-22T17:00:24.776927Z"
    }
   },
   "outputs": [],
   "source": [
    "y_test_pred = rf.predict(X_test)\n",
    "y_test_pred[:10]"
   ]
  },
  {
   "cell_type": "code",
   "execution_count": null,
   "metadata": {
    "execution": {
     "iopub.execute_input": "2023-11-22T17:01:09.79837Z",
     "iopub.status.busy": "2023-11-22T17:01:09.798025Z",
     "iopub.status.idle": "2023-11-22T17:01:09.888479Z",
     "shell.execute_reply": "2023-11-22T17:01:09.887063Z",
     "shell.execute_reply.started": "2023-11-22T17:01:09.798343Z"
    }
   },
   "outputs": [],
   "source": [
    "\n",
    "print(classification_report(y_test, y_test_pred))"
   ]
  },
  {
   "cell_type": "markdown",
   "metadata": {},
   "source": [
    "**Testing model on original data without oversampling**"
   ]
  },
  {
   "cell_type": "code",
   "execution_count": null,
   "metadata": {
    "execution": {
     "iopub.execute_input": "2023-11-22T17:06:10.566184Z",
     "iopub.status.busy": "2023-11-22T17:06:10.565814Z",
     "iopub.status.idle": "2023-11-22T17:06:11.322328Z",
     "shell.execute_reply": "2023-11-22T17:06:11.321505Z",
     "shell.execute_reply.started": "2023-11-22T17:06:10.566156Z"
    }
   },
   "outputs": [],
   "source": [
    "y_train_pred = rf.predict(X_train)\n",
    "y_test_pred = rf.predict(X_test)\n",
    "\n",
    "print(classification_report(y_train, y_train_pred))\n",
    "print(classification_report(y_test, y_test_pred))"
   ]
  },
  {
   "cell_type": "markdown",
   "metadata": {},
   "source": [
    "**ROC curve on train data set without oversampling**"
   ]
  },
  {
   "cell_type": "code",
   "execution_count": null,
   "metadata": {
    "execution": {
     "iopub.execute_input": "2023-11-22T17:16:27.089148Z",
     "iopub.status.busy": "2023-11-22T17:16:27.088714Z",
     "iopub.status.idle": "2023-11-22T17:16:27.633672Z",
     "shell.execute_reply": "2023-11-22T17:16:27.631878Z",
     "shell.execute_reply.started": "2023-11-22T17:16:27.089113Z"
    }
   },
   "outputs": [],
   "source": [
    "import matplotlib.pyplot as plt\n",
    "from sklearn.metrics import roc_curve, auc\n",
    "\n",
    "# Assuming you have a trained model 'rf_model' and test data 'X_test', 'y_test'\n",
    "# rf_model = ...\n",
    "\n",
    "# Get predicted probabilities for the positive class\n",
    "y_probs = rf.predict_proba(X_train)[:, 1]\n",
    "\n",
    "# Compute ROC curve and AUC\n",
    "fpr, tpr, thresholds = roc_curve(y_train, y_probs)\n",
    "roc_auc = auc(fpr, tpr)\n",
    "\n",
    "# Plot ROC curve\n",
    "plt.figure(figsize=(8, 6))\n",
    "plt.plot(fpr, tpr, color='darkorange', lw=2, label='ROC curve (AUC = {:.2f})'.format(roc_auc))\n",
    "plt.plot([0, 1], [0, 1], color='navy', lw=2, linestyle='--')\n",
    "plt.xlabel('False Positive Rate')\n",
    "plt.ylabel('True Positive Rate')\n",
    "plt.title('Receiver Operating Characteristic (ROC) Curve')\n",
    "plt.legend(loc='lower right')\n",
    "plt.show()\n"
   ]
  },
  {
   "cell_type": "markdown",
   "metadata": {},
   "source": [
    "****ROC curve on test data set without oversampling****"
   ]
  },
  {
   "cell_type": "code",
   "execution_count": null,
   "metadata": {
    "execution": {
     "iopub.execute_input": "2023-11-22T17:18:06.536098Z",
     "iopub.status.busy": "2023-11-22T17:18:06.535656Z",
     "iopub.status.idle": "2023-11-22T17:18:06.839783Z",
     "shell.execute_reply": "2023-11-22T17:18:06.838882Z",
     "shell.execute_reply.started": "2023-11-22T17:18:06.536065Z"
    }
   },
   "outputs": [],
   "source": [
    "import matplotlib.pyplot as plt\n",
    "from sklearn.metrics import roc_curve, auc\n",
    "\n",
    "# Assuming you have a trained model 'rf_model' and test data 'X_test', 'y_test'\n",
    "# rf_model = ...\n",
    "\n",
    "# Get predicted probabilities for the positive class\n",
    "y_probs = rf.predict_proba(X_test)[:, 1]\n",
    "\n",
    "# Compute ROC curve and AUC\n",
    "fpr, tpr, thresholds = roc_curve(y_test, y_probs)\n",
    "roc_auc = auc(fpr, tpr)\n",
    "\n",
    "# Plot ROC curve\n",
    "plt.figure(figsize=(8, 6))\n",
    "plt.plot(fpr, tpr, color='darkorange', lw=2, label='ROC curve (AUC = {:.2f})'.format(roc_auc))\n",
    "plt.plot([0, 1], [0, 1], color='navy', lw=2, linestyle='--')\n",
    "plt.xlabel('False Positive Rate')\n",
    "plt.ylabel('True Positive Rate')\n",
    "plt.title('Receiver Operating Characteristic (ROC) Curve')\n",
    "plt.legend(loc='lower right')\n",
    "plt.show()\n"
   ]
  },
  {
   "cell_type": "markdown",
   "metadata": {},
   "source": [
    "**Output file for final prediction **"
   ]
  },
  {
   "cell_type": "markdown",
   "metadata": {},
   "source": [
    "**Recursive function elimination**"
   ]
  },
  {
   "cell_type": "code",
   "execution_count": null,
   "metadata": {
    "execution": {
     "iopub.execute_input": "2023-11-22T16:26:52.021751Z",
     "iopub.status.busy": "2023-11-22T16:26:52.020441Z",
     "iopub.status.idle": "2023-11-22T16:27:17.773257Z",
     "shell.execute_reply": "2023-11-22T16:27:17.772406Z",
     "shell.execute_reply.started": "2023-11-22T16:26:52.021712Z"
    }
   },
   "outputs": [],
   "source": [
    "from sklearn.feature_selection import RFE\n",
    "from sklearn.linear_model import LogisticRegression\n",
    "logreg = LogisticRegression()\n",
    "rfe = RFE(estimator = logreg, n_features_to_select= 22)\n",
    "rfe_res = rfe.fit(x,y)"
   ]
  },
  {
   "cell_type": "code",
   "execution_count": null,
   "metadata": {
    "execution": {
     "iopub.execute_input": "2023-11-22T16:27:17.780777Z",
     "iopub.status.busy": "2023-11-22T16:27:17.777898Z",
     "iopub.status.idle": "2023-11-22T16:27:17.790689Z",
     "shell.execute_reply": "2023-11-22T16:27:17.789801Z",
     "shell.execute_reply.started": "2023-11-22T16:27:17.78074Z"
    }
   },
   "outputs": [],
   "source": [
    "x.columns[rfe_res.support_]"
   ]
  },
  {
   "cell_type": "code",
   "execution_count": null,
   "metadata": {
    "execution": {
     "iopub.execute_input": "2023-11-22T16:27:17.793098Z",
     "iopub.status.busy": "2023-11-22T16:27:17.792449Z",
     "iopub.status.idle": "2023-11-22T16:27:17.803876Z",
     "shell.execute_reply": "2023-11-22T16:27:17.803027Z",
     "shell.execute_reply.started": "2023-11-22T16:27:17.793066Z"
    }
   },
   "outputs": [],
   "source": [
    "list(zip(x.columns,rfe.support_,rfe.ranking_))"
   ]
  },
  {
   "cell_type": "code",
   "execution_count": null,
   "metadata": {
    "execution": {
     "iopub.execute_input": "2023-11-22T16:27:17.806534Z",
     "iopub.status.busy": "2023-11-22T16:27:17.805713Z",
     "iopub.status.idle": "2023-11-22T16:27:17.812922Z",
     "shell.execute_reply": "2023-11-22T16:27:17.812079Z",
     "shell.execute_reply.started": "2023-11-22T16:27:17.806502Z"
    }
   },
   "outputs": [],
   "source": [
    "cols = x.columns[rfe_res.support_]"
   ]
  },
  {
   "cell_type": "code",
   "execution_count": null,
   "metadata": {
    "execution": {
     "iopub.execute_input": "2023-11-22T16:27:17.815385Z",
     "iopub.status.busy": "2023-11-22T16:27:17.814642Z",
     "iopub.status.idle": "2023-11-22T16:27:21.897583Z",
     "shell.execute_reply": "2023-11-22T16:27:21.896836Z",
     "shell.execute_reply.started": "2023-11-22T16:27:17.815353Z"
    }
   },
   "outputs": [],
   "source": [
    "model2 = sm.GLM(y,sm.add_constant(x[cols]),family = sm.families.Binomial())\n",
    "res2 = model2.fit()\n",
    "res2.summary()"
   ]
  },
  {
   "cell_type": "markdown",
   "metadata": {},
   "source": [
    "**Variance Inflation factors**"
   ]
  },
  {
   "cell_type": "code",
   "execution_count": null,
   "metadata": {
    "execution": {
     "iopub.execute_input": "2023-11-22T16:27:21.899213Z",
     "iopub.status.busy": "2023-11-22T16:27:21.898615Z",
     "iopub.status.idle": "2023-11-22T16:27:21.904059Z",
     "shell.execute_reply": "2023-11-22T16:27:21.902929Z",
     "shell.execute_reply.started": "2023-11-22T16:27:21.899184Z"
    }
   },
   "outputs": [],
   "source": [
    "# importing libraries\n",
    "from statsmodels.stats.outliers_influence import variance_inflation_factor"
   ]
  },
  {
   "cell_type": "code",
   "execution_count": null,
   "metadata": {
    "execution": {
     "iopub.execute_input": "2023-11-22T16:27:21.906729Z",
     "iopub.status.busy": "2023-11-22T16:27:21.905944Z",
     "iopub.status.idle": "2023-11-22T16:27:42.331231Z",
     "shell.execute_reply": "2023-11-22T16:27:42.330196Z",
     "shell.execute_reply.started": "2023-11-22T16:27:21.906694Z"
    }
   },
   "outputs": [],
   "source": [
    "vif = pd.DataFrame({\"Features\":cols})\n",
    "vif[\"VIF\"] = [variance_inflation_factor(x[cols].values,i) for i in range(x[cols].shape[1])]\n",
    "vif = vif.sort_values(by=\"VIF\",ascending = False)"
   ]
  },
  {
   "cell_type": "code",
   "execution_count": null,
   "metadata": {
    "execution": {
     "iopub.execute_input": "2023-11-22T16:27:42.33289Z",
     "iopub.status.busy": "2023-11-22T16:27:42.332448Z",
     "iopub.status.idle": "2023-11-22T16:27:42.342393Z",
     "shell.execute_reply": "2023-11-22T16:27:42.34169Z",
     "shell.execute_reply.started": "2023-11-22T16:27:42.332865Z"
    }
   },
   "outputs": [],
   "source": [
    "vif"
   ]
  },
  {
   "cell_type": "code",
   "execution_count": null,
   "metadata": {
    "execution": {
     "iopub.execute_input": "2023-11-22T16:27:42.34421Z",
     "iopub.status.busy": "2023-11-22T16:27:42.343707Z",
     "iopub.status.idle": "2023-11-22T16:27:42.485111Z",
     "shell.execute_reply": "2023-11-22T16:27:42.484033Z",
     "shell.execute_reply.started": "2023-11-22T16:27:42.344179Z"
    }
   },
   "outputs": [],
   "source": [
    "pred = res2.predict(sm.add_constant(x[cols]))"
   ]
  },
  {
   "cell_type": "code",
   "execution_count": null,
   "metadata": {
    "execution": {
     "iopub.execute_input": "2023-11-22T16:27:42.486625Z",
     "iopub.status.busy": "2023-11-22T16:27:42.486346Z",
     "iopub.status.idle": "2023-11-22T16:27:42.493249Z",
     "shell.execute_reply": "2023-11-22T16:27:42.49201Z",
     "shell.execute_reply.started": "2023-11-22T16:27:42.486601Z"
    }
   },
   "outputs": [],
   "source": [
    "predictions = pd.DataFrame({\"Actual\": y,\"Pred_Prob\" : pred})"
   ]
  },
  {
   "cell_type": "code",
   "execution_count": null,
   "metadata": {
    "execution": {
     "iopub.execute_input": "2023-11-22T16:27:42.495612Z",
     "iopub.status.busy": "2023-11-22T16:27:42.494929Z",
     "iopub.status.idle": "2023-11-22T16:27:42.508231Z",
     "shell.execute_reply": "2023-11-22T16:27:42.507017Z",
     "shell.execute_reply.started": "2023-11-22T16:27:42.495573Z"
    }
   },
   "outputs": [],
   "source": [
    "predictions.head()"
   ]
  },
  {
   "cell_type": "code",
   "execution_count": null,
   "metadata": {
    "execution": {
     "iopub.execute_input": "2023-11-22T16:27:42.510343Z",
     "iopub.status.busy": "2023-11-22T16:27:42.509661Z",
     "iopub.status.idle": "2023-11-22T16:27:45.638549Z",
     "shell.execute_reply": "2023-11-22T16:27:45.637459Z",
     "shell.execute_reply.started": "2023-11-22T16:27:42.510308Z"
    }
   },
   "outputs": [],
   "source": [
    "threshold = [0.01,0.02,0.03,0.04,0.05,0.06,0.07,0.08,0.09,0.1,0.2,0.3,0.4,0.5,0.6,0.7,0.8,0.9]\n",
    "\n",
    "for z in threshold:\n",
    "  predictions[z] = predictions[\"Pred_Prob\"].map(lambda x: 0 if x<z else 1)"
   ]
  },
  {
   "cell_type": "code",
   "execution_count": null,
   "metadata": {
    "execution": {
     "iopub.execute_input": "2023-11-22T16:27:45.640482Z",
     "iopub.status.busy": "2023-11-22T16:27:45.639977Z",
     "iopub.status.idle": "2023-11-22T16:27:45.656619Z",
     "shell.execute_reply": "2023-11-22T16:27:45.655437Z",
     "shell.execute_reply.started": "2023-11-22T16:27:45.640455Z"
    }
   },
   "outputs": [],
   "source": [
    "predictions.head()"
   ]
  },
  {
   "cell_type": "markdown",
   "metadata": {},
   "source": [
    "**Optimal Value**"
   ]
  },
  {
   "cell_type": "code",
   "execution_count": null,
   "metadata": {
    "execution": {
     "iopub.execute_input": "2023-11-22T16:27:45.6588Z",
     "iopub.status.busy": "2023-11-22T16:27:45.657865Z",
     "iopub.status.idle": "2023-11-22T16:27:45.663848Z",
     "shell.execute_reply": "2023-11-22T16:27:45.662498Z",
     "shell.execute_reply.started": "2023-11-22T16:27:45.658768Z"
    }
   },
   "outputs": [],
   "source": [
    "import sklearn.metrics as metrics"
   ]
  },
  {
   "cell_type": "code",
   "execution_count": null,
   "metadata": {
    "execution": {
     "iopub.execute_input": "2023-11-22T16:27:45.666417Z",
     "iopub.status.busy": "2023-11-22T16:27:45.665435Z",
     "iopub.status.idle": "2023-11-22T16:27:45.677029Z",
     "shell.execute_reply": "2023-11-22T16:27:45.675827Z",
     "shell.execute_reply.started": "2023-11-22T16:27:45.66638Z"
    }
   },
   "outputs": [],
   "source": [
    "curve = pd.DataFrame(index = threshold, columns = [\"accuracy\",\"sensitivity\",\"specificity\"])"
   ]
  },
  {
   "cell_type": "code",
   "execution_count": null,
   "metadata": {
    "execution": {
     "iopub.execute_input": "2023-11-22T16:27:45.679409Z",
     "iopub.status.busy": "2023-11-22T16:27:45.67898Z",
     "iopub.status.idle": "2023-11-22T16:27:46.49157Z",
     "shell.execute_reply": "2023-11-22T16:27:46.489945Z",
     "shell.execute_reply.started": "2023-11-22T16:27:45.679371Z"
    }
   },
   "outputs": [],
   "source": [
    "for y in threshold:  \n",
    "  matrix = metrics.confusion_matrix(predictions.Actual,predictions[y])\n",
    "  accuracy = (matrix[1,1] + matrix[0,0])/ (matrix.sum())\n",
    "  sensitivity = (matrix[1,1])/(matrix[1,1] + matrix[1,0])\n",
    "  specificity = (matrix[0,0])/(matrix[0,0] + matrix[0,1])\n",
    "\n",
    "  curve.loc[y] = [accuracy,sensitivity,specificity]"
   ]
  },
  {
   "cell_type": "code",
   "execution_count": null,
   "metadata": {
    "execution": {
     "iopub.execute_input": "2023-11-22T16:27:46.493317Z",
     "iopub.status.busy": "2023-11-22T16:27:46.493013Z",
     "iopub.status.idle": "2023-11-22T16:27:46.50643Z",
     "shell.execute_reply": "2023-11-22T16:27:46.504514Z",
     "shell.execute_reply.started": "2023-11-22T16:27:46.493293Z"
    }
   },
   "outputs": [],
   "source": [
    "curve"
   ]
  },
  {
   "cell_type": "code",
   "execution_count": null,
   "metadata": {
    "execution": {
     "iopub.execute_input": "2023-11-22T16:27:46.509561Z",
     "iopub.status.busy": "2023-11-22T16:27:46.509234Z",
     "iopub.status.idle": "2023-11-22T16:27:46.753364Z",
     "shell.execute_reply": "2023-11-22T16:27:46.751245Z",
     "shell.execute_reply.started": "2023-11-22T16:27:46.509534Z"
    }
   },
   "outputs": [],
   "source": [
    "curve.plot()"
   ]
  },
  {
   "cell_type": "code",
   "execution_count": null,
   "metadata": {
    "execution": {
     "iopub.execute_input": "2023-11-22T16:27:46.756307Z",
     "iopub.status.busy": "2023-11-22T16:27:46.755463Z",
     "iopub.status.idle": "2023-11-22T16:27:50.458867Z",
     "shell.execute_reply": "2023-11-22T16:27:50.457052Z",
     "shell.execute_reply.started": "2023-11-22T16:27:46.756265Z"
    }
   },
   "outputs": [],
   "source": [
    "for y in threshold:\n",
    "  curve.loc[y,\"Precision\"] = metrics.precision_score(predictions.Actual,predictions[y])\n",
    "  curve.loc[y,\"Recall\"] = metrics.recall_score(predictions.Actual,predictions[y])"
   ]
  },
  {
   "cell_type": "code",
   "execution_count": null,
   "metadata": {
    "execution": {
     "iopub.execute_input": "2023-11-22T16:27:50.461838Z",
     "iopub.status.busy": "2023-11-22T16:27:50.461403Z",
     "iopub.status.idle": "2023-11-22T16:27:50.70579Z",
     "shell.execute_reply": "2023-11-22T16:27:50.704519Z",
     "shell.execute_reply.started": "2023-11-22T16:27:50.461797Z"
    }
   },
   "outputs": [],
   "source": [
    "curve[[\"Precision\",\"Recall\"]].plot()"
   ]
  },
  {
   "cell_type": "code",
   "execution_count": null,
   "metadata": {
    "execution": {
     "iopub.execute_input": "2023-11-22T16:27:50.707505Z",
     "iopub.status.busy": "2023-11-22T16:27:50.70714Z",
     "iopub.status.idle": "2023-11-22T16:27:50.723195Z",
     "shell.execute_reply": "2023-11-22T16:27:50.72171Z",
     "shell.execute_reply.started": "2023-11-22T16:27:50.707476Z"
    }
   },
   "outputs": [],
   "source": [
    "curve"
   ]
  },
  {
   "cell_type": "markdown",
   "metadata": {},
   "source": [
    "**ROC curve**"
   ]
  },
  {
   "cell_type": "code",
   "execution_count": null,
   "metadata": {
    "execution": {
     "iopub.execute_input": "2023-11-22T16:27:50.726115Z",
     "iopub.status.busy": "2023-11-22T16:27:50.724708Z",
     "iopub.status.idle": "2023-11-22T16:27:50.736463Z",
     "shell.execute_reply": "2023-11-22T16:27:50.73492Z",
     "shell.execute_reply.started": "2023-11-22T16:27:50.726062Z"
    }
   },
   "outputs": [],
   "source": [
    "# Importing necessary libraries for roc curve\n",
    "\n",
    "from sklearn.metrics import roc_curve       \n",
    "from sklearn.metrics import roc_auc_score\n",
    "\n",
    "# Creating a function to plot roc curve with auc score\n",
    "\n",
    "def edu_roc( real, probability ):\n",
    "    \n",
    "    # Creating roc curve values like false positive rate , true positive rate and threshold\n",
    "    \n",
    "    fpr, tpr, thresholds = roc_curve( real, probability,drop_intermediate = False )   \n",
    "    \n",
    "    # Calculating the auc score(area under the curve)\n",
    "    \n",
    "    auc_score = roc_auc_score( real, probability )    \n",
    "    \n",
    "    # Setting the figure size\n",
    "    \n",
    "    plt.figure(figsize=(8, 4))\n",
    "    \n",
    "    # Plotting the roc curve\n",
    "    \n",
    "    plt.plot( fpr, tpr, label='ROC curve (area = %0.2f)' % auc_score )\n",
    "    \n",
    "    # Plotting the 45% dotted line \n",
    "    plt.plot([0, 1], [0, 1], 'r--')\n",
    "    \n",
    "    # Setting the x axis linit\n",
    "    \n",
    "    plt.xlim([0.0, 1.0])\n",
    "    \n",
    "    # Setting the y axis limit\n",
    "    \n",
    "    plt.ylim([0.0, 1.05])\n",
    "    \n",
    "    plt.xlabel('False Positive Rate')\n",
    "    \n",
    "    plt.ylabel('True Positive Rate')\n",
    "    \n",
    "    plt.title('ROC Curve')\n",
    "    \n",
    "    plt.legend(loc=\"best\")\n",
    "\n",
    "    plt.show()\n",
    "\n",
    "    return None "
   ]
  },
  {
   "cell_type": "code",
   "execution_count": null,
   "metadata": {
    "execution": {
     "iopub.execute_input": "2023-11-22T16:27:50.738597Z",
     "iopub.status.busy": "2023-11-22T16:27:50.738285Z",
     "iopub.status.idle": "2023-11-22T16:27:51.685724Z",
     "shell.execute_reply": "2023-11-22T16:27:51.68409Z",
     "shell.execute_reply.started": "2023-11-22T16:27:50.73857Z"
    }
   },
   "outputs": [],
   "source": [
    "edu_roc(predictions[\"Actual\"],predictions[\"Pred_Prob\"])"
   ]
  },
  {
   "cell_type": "markdown",
   "metadata": {},
   "source": [
    "**Test data set**"
   ]
  },
  {
   "cell_type": "code",
   "execution_count": null,
   "metadata": {
    "execution": {
     "iopub.execute_input": "2023-11-22T16:27:51.688071Z",
     "iopub.status.busy": "2023-11-22T16:27:51.687649Z",
     "iopub.status.idle": "2023-11-22T16:27:51.696246Z",
     "shell.execute_reply": "2023-11-22T16:27:51.694476Z",
     "shell.execute_reply.started": "2023-11-22T16:27:51.688037Z"
    }
   },
   "outputs": [],
   "source": [
    "\n",
    "x_test = data_test"
   ]
  },
  {
   "cell_type": "code",
   "execution_count": null,
   "metadata": {
    "execution": {
     "iopub.execute_input": "2023-11-22T16:27:51.697912Z",
     "iopub.status.busy": "2023-11-22T16:27:51.697598Z",
     "iopub.status.idle": "2023-11-22T16:27:51.74217Z",
     "shell.execute_reply": "2023-11-22T16:27:51.740652Z",
     "shell.execute_reply.started": "2023-11-22T16:27:51.697887Z"
    }
   },
   "outputs": [],
   "source": [
    "# Normalising the data\n",
    "x_test[[\"amt\",\"Time\",\"displacement\",\"recency\"]] = sc.fit_transform(x_test[[\"amt\",\"Time\",\"displacement\",\"recency\"]])"
   ]
  },
  {
   "cell_type": "code",
   "execution_count": null,
   "metadata": {
    "execution": {
     "iopub.execute_input": "2023-11-22T16:27:51.743943Z",
     "iopub.status.busy": "2023-11-22T16:27:51.743649Z",
     "iopub.status.idle": "2023-11-22T16:27:51.784215Z",
     "shell.execute_reply": "2023-11-22T16:27:51.782406Z",
     "shell.execute_reply.started": "2023-11-22T16:27:51.743918Z"
    }
   },
   "outputs": [],
   "source": [
    "boolean_columns = x_test.select_dtypes(include=bool).columns\n",
    "x_test[boolean_columns] = x_test[boolean_columns].astype(int)"
   ]
  },
  {
   "cell_type": "code",
   "execution_count": null,
   "metadata": {
    "execution": {
     "iopub.execute_input": "2023-11-22T16:27:51.786244Z",
     "iopub.status.busy": "2023-11-22T16:27:51.785878Z",
     "iopub.status.idle": "2023-11-22T16:27:51.828206Z",
     "shell.execute_reply": "2023-11-22T16:27:51.826089Z",
     "shell.execute_reply.started": "2023-11-22T16:27:51.786213Z"
    }
   },
   "outputs": [],
   "source": [
    "x_test[cols].dtypes"
   ]
  },
  {
   "cell_type": "code",
   "execution_count": null,
   "metadata": {
    "execution": {
     "iopub.execute_input": "2023-11-22T16:27:51.830802Z",
     "iopub.status.busy": "2023-11-22T16:27:51.829835Z",
     "iopub.status.idle": "2023-11-22T16:27:51.957619Z",
     "shell.execute_reply": "2023-11-22T16:27:51.956568Z",
     "shell.execute_reply.started": "2023-11-22T16:27:51.830756Z"
    }
   },
   "outputs": [],
   "source": [
    "result = res2.predict(sm.add_constant(x_test[cols]))"
   ]
  },
  {
   "cell_type": "code",
   "execution_count": null,
   "metadata": {
    "execution": {
     "iopub.execute_input": "2023-11-22T16:27:51.959782Z",
     "iopub.status.busy": "2023-11-22T16:27:51.9592Z",
     "iopub.status.idle": "2023-11-22T16:27:51.966024Z",
     "shell.execute_reply": "2023-11-22T16:27:51.964984Z",
     "shell.execute_reply.started": "2023-11-22T16:27:51.959754Z"
    }
   },
   "outputs": [],
   "source": [
    "predictions_test = pd.DataFrame({\"Pred_Prob\" : result})"
   ]
  },
  {
   "cell_type": "code",
   "execution_count": null,
   "metadata": {
    "execution": {
     "iopub.execute_input": "2023-11-22T16:27:51.967881Z",
     "iopub.status.busy": "2023-11-22T16:27:51.967502Z",
     "iopub.status.idle": "2023-11-22T16:27:52.175807Z",
     "shell.execute_reply": "2023-11-22T16:27:52.174157Z",
     "shell.execute_reply.started": "2023-11-22T16:27:51.967844Z"
    }
   },
   "outputs": [],
   "source": [
    "predictions_test[\"Final\"] = predictions_test[\"Pred_Prob\"].map(lambda x: 0 if x<0.01 else 1)"
   ]
  },
  {
   "cell_type": "code",
   "execution_count": null,
   "metadata": {
    "execution": {
     "iopub.execute_input": "2023-11-22T16:27:52.177638Z",
     "iopub.status.busy": "2023-11-22T16:27:52.177247Z",
     "iopub.status.idle": "2023-11-22T16:27:52.187075Z",
     "shell.execute_reply": "2023-11-22T16:27:52.185729Z",
     "shell.execute_reply.started": "2023-11-22T16:27:52.177601Z"
    }
   },
   "outputs": [],
   "source": [
    "predictions_test = predictions_test.rename_axis('id').reset_index()"
   ]
  },
  {
   "cell_type": "code",
   "execution_count": null,
   "metadata": {
    "execution": {
     "iopub.execute_input": "2023-11-22T16:27:52.189437Z",
     "iopub.status.busy": "2023-11-22T16:27:52.188984Z",
     "iopub.status.idle": "2023-11-22T16:27:52.204535Z",
     "shell.execute_reply": "2023-11-22T16:27:52.203221Z",
     "shell.execute_reply.started": "2023-11-22T16:27:52.1894Z"
    }
   },
   "outputs": [],
   "source": [
    "predictions_test\n"
   ]
  },
  {
   "cell_type": "code",
   "execution_count": null,
   "metadata": {
    "execution": {
     "iopub.execute_input": "2023-11-22T16:27:52.205744Z",
     "iopub.status.busy": "2023-11-22T16:27:52.20545Z",
     "iopub.status.idle": "2023-11-22T16:27:52.215324Z",
     "shell.execute_reply": "2023-11-22T16:27:52.21335Z",
     "shell.execute_reply.started": "2023-11-22T16:27:52.205721Z"
    }
   },
   "outputs": [],
   "source": [
    "predictions_test = predictions_test.set_index('id')"
   ]
  },
  {
   "cell_type": "code",
   "execution_count": null,
   "metadata": {
    "execution": {
     "iopub.execute_input": "2023-11-22T16:27:52.220485Z",
     "iopub.status.busy": "2023-11-22T16:27:52.216909Z",
     "iopub.status.idle": "2023-11-22T16:27:52.226464Z",
     "shell.execute_reply": "2023-11-22T16:27:52.225254Z",
     "shell.execute_reply.started": "2023-11-22T16:27:52.220437Z"
    }
   },
   "outputs": [],
   "source": [
    "predictions_test.index = predictions_test.index + 1"
   ]
  },
  {
   "cell_type": "code",
   "execution_count": null,
   "metadata": {
    "execution": {
     "iopub.execute_input": "2023-11-22T16:27:52.227794Z",
     "iopub.status.busy": "2023-11-22T16:27:52.22747Z",
     "iopub.status.idle": "2023-11-22T16:27:52.244079Z",
     "shell.execute_reply": "2023-11-22T16:27:52.242212Z",
     "shell.execute_reply.started": "2023-11-22T16:27:52.227765Z"
    }
   },
   "outputs": [],
   "source": [
    "predictions_test=predictions_test.drop(\"Pred_Prob\",axis=1)"
   ]
  },
  {
   "cell_type": "code",
   "execution_count": null,
   "metadata": {
    "execution": {
     "iopub.execute_input": "2023-11-22T16:27:52.246465Z",
     "iopub.status.busy": "2023-11-22T16:27:52.246054Z",
     "iopub.status.idle": "2023-11-22T16:27:52.254546Z",
     "shell.execute_reply": "2023-11-22T16:27:52.253077Z",
     "shell.execute_reply.started": "2023-11-22T16:27:52.246428Z"
    }
   },
   "outputs": [],
   "source": [
    "predictions_test.rename(columns={'Final': 'is_fraud'}, inplace=True)"
   ]
  },
  {
   "cell_type": "code",
   "execution_count": null,
   "metadata": {
    "execution": {
     "iopub.execute_input": "2023-11-22T16:27:52.256525Z",
     "iopub.status.busy": "2023-11-22T16:27:52.256015Z",
     "iopub.status.idle": "2023-11-22T16:27:52.277608Z",
     "shell.execute_reply": "2023-11-22T16:27:52.276911Z",
     "shell.execute_reply.started": "2023-11-22T16:27:52.256483Z"
    }
   },
   "outputs": [],
   "source": [
    "predictions_test\n"
   ]
  },
  {
   "cell_type": "code",
   "execution_count": null,
   "metadata": {
    "execution": {
     "iopub.execute_input": "2023-11-22T16:27:52.278825Z",
     "iopub.status.busy": "2023-11-22T16:27:52.278495Z",
     "iopub.status.idle": "2023-11-22T16:27:52.295093Z",
     "shell.execute_reply": "2023-11-22T16:27:52.293995Z",
     "shell.execute_reply.started": "2023-11-22T16:27:52.2788Z"
    }
   },
   "outputs": [],
   "source": [
    "predictions_test"
   ]
  },
  {
   "cell_type": "code",
   "execution_count": null,
   "metadata": {
    "execution": {
     "iopub.execute_input": "2023-11-22T16:27:52.298256Z",
     "iopub.status.busy": "2023-11-22T16:27:52.297817Z",
     "iopub.status.idle": "2023-11-22T16:27:52.846499Z",
     "shell.execute_reply": "2023-11-22T16:27:52.844918Z",
     "shell.execute_reply.started": "2023-11-22T16:27:52.298219Z"
    }
   },
   "outputs": [],
   "source": [
    "predictions_test.to_csv('sample_submission.csv')"
   ]
  },
  {
   "cell_type": "code",
   "execution_count": null,
   "metadata": {
    "execution": {
     "iopub.execute_input": "2023-11-22T16:27:52.848405Z",
     "iopub.status.busy": "2023-11-22T16:27:52.848082Z",
     "iopub.status.idle": "2023-11-22T16:27:52.860858Z",
     "shell.execute_reply": "2023-11-22T16:27:52.859498Z",
     "shell.execute_reply.started": "2023-11-22T16:27:52.848379Z"
    }
   },
   "outputs": [],
   "source": [
    "predictions_test"
   ]
  },
  {
   "cell_type": "code",
   "execution_count": null,
   "metadata": {},
   "outputs": [],
   "source": [
    "# Load your predictions (if they include probabilities)\n",
    "predictions = pd.read_csv('sample_submission.csv')\n",
    "\n",
    "# Extract the predicted probabilities and match them with test labels\n",
    "y_probs = predictions['is_fraud']  # Replace 'Pred_Prob' with the correct column name\n"
   ]
  },
  {
   "cell_type": "code",
   "execution_count": null,
   "metadata": {},
   "outputs": [],
   "source": []
  }
 ],
 "metadata": {
  "kaggle": {
   "accelerator": "none",
   "dataSources": [
    {
     "datasetId": 4023091,
     "sourceId": 6998429,
     "sourceType": "datasetVersion"
    }
   ],
   "dockerImageVersionId": 30587,
   "isGpuEnabled": false,
   "isInternetEnabled": false,
   "language": "python",
   "sourceType": "notebook"
  },
  "kernelspec": {
   "display_name": "Python 3 (ipykernel)",
   "language": "python",
   "name": "python3"
  },
  "language_info": {
   "codemirror_mode": {
    "name": "ipython",
    "version": 3
   },
   "file_extension": ".py",
   "mimetype": "text/x-python",
   "name": "python",
   "nbconvert_exporter": "python",
   "pygments_lexer": "ipython3",
   "version": "3.9.13"
  }
 },
 "nbformat": 4,
 "nbformat_minor": 4
}
